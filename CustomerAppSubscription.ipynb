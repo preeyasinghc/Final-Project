{
 "cells": [
  {
   "cell_type": "markdown",
   "id": "f91c8a78",
   "metadata": {},
   "source": [
    "# Optimising User Engagement for APP Subscription Conversion\n"
   ]
  },
  {
   "cell_type": "code",
   "execution_count": 1554,
   "id": "eeb072e5-99aa-4aaf-ac6b-d52c3b6707bc",
   "metadata": {},
   "outputs": [],
   "source": [
    "#Import Libraries\n",
    "\n",
    "import warnings\n",
    "import pandas as pd\n",
    "import numpy as np\n",
    "import matplotlib.pyplot as plt\n",
    "from sklearn.model_selection import train_test_split\n",
    "\n",
    "import seaborn as sn\n",
    "from dateutil import parser\n",
    "import time\n",
    "\n",
    "import pickle\n",
    "warnings.filterwarnings(\"ignore\")\n",
    "pd.set_option('display.max_columns', None)"
   ]
  },
  {
   "cell_type": "code",
   "execution_count": 1555,
   "id": "7437e5cf-b63e-4915-9e70-1ee86e923c8a",
   "metadata": {},
   "outputs": [
    {
     "data": {
      "text/html": [
       "<div>\n",
       "<style scoped>\n",
       "    .dataframe tbody tr th:only-of-type {\n",
       "        vertical-align: middle;\n",
       "    }\n",
       "\n",
       "    .dataframe tbody tr th {\n",
       "        vertical-align: top;\n",
       "    }\n",
       "\n",
       "    .dataframe thead th {\n",
       "        text-align: right;\n",
       "    }\n",
       "</style>\n",
       "<table border=\"1\" class=\"dataframe\">\n",
       "  <thead>\n",
       "    <tr style=\"text-align: right;\">\n",
       "      <th></th>\n",
       "      <th>user</th>\n",
       "      <th>first_open</th>\n",
       "      <th>dayofweek</th>\n",
       "      <th>hour</th>\n",
       "      <th>age</th>\n",
       "      <th>screen_list</th>\n",
       "      <th>numscreens</th>\n",
       "      <th>minigame</th>\n",
       "      <th>used_premium_feature</th>\n",
       "      <th>enrolled</th>\n",
       "      <th>enrolled_date</th>\n",
       "      <th>liked</th>\n",
       "    </tr>\n",
       "  </thead>\n",
       "  <tbody>\n",
       "    <tr>\n",
       "      <th>0</th>\n",
       "      <td>235136</td>\n",
       "      <td>2012-12-27 02:14:51.273</td>\n",
       "      <td>3</td>\n",
       "      <td>02:00:00</td>\n",
       "      <td>23</td>\n",
       "      <td>idscreen,joinscreen,Cycle,product_review,ScanP...</td>\n",
       "      <td>15</td>\n",
       "      <td>0</td>\n",
       "      <td>0</td>\n",
       "      <td>0</td>\n",
       "      <td>NaN</td>\n",
       "      <td>0</td>\n",
       "    </tr>\n",
       "    <tr>\n",
       "      <th>1</th>\n",
       "      <td>333588</td>\n",
       "      <td>2012-12-02 01:16:00.905</td>\n",
       "      <td>6</td>\n",
       "      <td>01:00:00</td>\n",
       "      <td>24</td>\n",
       "      <td>joinscreen,product_review,product_review2,Scan...</td>\n",
       "      <td>13</td>\n",
       "      <td>0</td>\n",
       "      <td>0</td>\n",
       "      <td>0</td>\n",
       "      <td>NaN</td>\n",
       "      <td>0</td>\n",
       "    </tr>\n",
       "    <tr>\n",
       "      <th>2</th>\n",
       "      <td>254414</td>\n",
       "      <td>2013-03-19 19:19:09.157</td>\n",
       "      <td>1</td>\n",
       "      <td>19:00:00</td>\n",
       "      <td>23</td>\n",
       "      <td>Splash,Cycle,Loan</td>\n",
       "      <td>3</td>\n",
       "      <td>0</td>\n",
       "      <td>1</td>\n",
       "      <td>0</td>\n",
       "      <td>NaN</td>\n",
       "      <td>1</td>\n",
       "    </tr>\n",
       "    <tr>\n",
       "      <th>3</th>\n",
       "      <td>234192</td>\n",
       "      <td>2013-07-05 16:08:46.354</td>\n",
       "      <td>4</td>\n",
       "      <td>16:00:00</td>\n",
       "      <td>28</td>\n",
       "      <td>product_review,Home,product_review,Loan3,Finan...</td>\n",
       "      <td>40</td>\n",
       "      <td>0</td>\n",
       "      <td>0</td>\n",
       "      <td>1</td>\n",
       "      <td>2013-07-05 16:11:49.513</td>\n",
       "      <td>0</td>\n",
       "    </tr>\n",
       "    <tr>\n",
       "      <th>4</th>\n",
       "      <td>51549</td>\n",
       "      <td>2013-02-26 18:50:48.661</td>\n",
       "      <td>1</td>\n",
       "      <td>18:00:00</td>\n",
       "      <td>31</td>\n",
       "      <td>idscreen,joinscreen,Cycle,Credit3Container,Sca...</td>\n",
       "      <td>32</td>\n",
       "      <td>0</td>\n",
       "      <td>0</td>\n",
       "      <td>1</td>\n",
       "      <td>2013-02-26 18:56:37.841</td>\n",
       "      <td>1</td>\n",
       "    </tr>\n",
       "  </tbody>\n",
       "</table>\n",
       "</div>"
      ],
      "text/plain": [
       "     user               first_open  dayofweek       hour  age  \\\n",
       "0  235136  2012-12-27 02:14:51.273          3   02:00:00   23   \n",
       "1  333588  2012-12-02 01:16:00.905          6   01:00:00   24   \n",
       "2  254414  2013-03-19 19:19:09.157          1   19:00:00   23   \n",
       "3  234192  2013-07-05 16:08:46.354          4   16:00:00   28   \n",
       "4   51549  2013-02-26 18:50:48.661          1   18:00:00   31   \n",
       "\n",
       "                                         screen_list  numscreens  minigame  \\\n",
       "0  idscreen,joinscreen,Cycle,product_review,ScanP...          15         0   \n",
       "1  joinscreen,product_review,product_review2,Scan...          13         0   \n",
       "2                                  Splash,Cycle,Loan           3         0   \n",
       "3  product_review,Home,product_review,Loan3,Finan...          40         0   \n",
       "4  idscreen,joinscreen,Cycle,Credit3Container,Sca...          32         0   \n",
       "\n",
       "   used_premium_feature  enrolled            enrolled_date  liked  \n",
       "0                     0         0                      NaN      0  \n",
       "1                     0         0                      NaN      0  \n",
       "2                     1         0                      NaN      1  \n",
       "3                     0         1  2013-07-05 16:11:49.513      0  \n",
       "4                     0         1  2013-02-26 18:56:37.841      1  "
      ]
     },
     "execution_count": 1555,
     "metadata": {},
     "output_type": "execute_result"
    }
   ],
   "source": [
    "# Read the dataset\n",
    "app_subscription_df = pd.read_csv(\"customers_subscription.csv\")\n",
    "app_subscription_df.head(5)"
   ]
  },
  {
   "cell_type": "code",
   "execution_count": 1556,
   "id": "28a8af21-399b-42b2-95b9-455a6c6443f6",
   "metadata": {},
   "outputs": [
    {
     "data": {
      "text/plain": [
       "(50000, 12)"
      ]
     },
     "execution_count": 1556,
     "metadata": {},
     "output_type": "execute_result"
    }
   ],
   "source": [
    "app_subscription_df.shape"
   ]
  },
  {
   "cell_type": "markdown",
   "id": "acc7a447-18c8-46f6-be06-c77ce0b686f4",
   "metadata": {},
   "source": [
    "# EDA "
   ]
  },
  {
   "cell_type": "code",
   "execution_count": 1557,
   "id": "b8e15d42-81e3-4d85-9e02-412f9d986df8",
   "metadata": {},
   "outputs": [
    {
     "data": {
      "text/html": [
       "<div>\n",
       "<style scoped>\n",
       "    .dataframe tbody tr th:only-of-type {\n",
       "        vertical-align: middle;\n",
       "    }\n",
       "\n",
       "    .dataframe tbody tr th {\n",
       "        vertical-align: top;\n",
       "    }\n",
       "\n",
       "    .dataframe thead th {\n",
       "        text-align: right;\n",
       "    }\n",
       "</style>\n",
       "<table border=\"1\" class=\"dataframe\">\n",
       "  <thead>\n",
       "    <tr style=\"text-align: right;\">\n",
       "      <th></th>\n",
       "      <th>user</th>\n",
       "      <th>dayofweek</th>\n",
       "      <th>age</th>\n",
       "      <th>numscreens</th>\n",
       "      <th>minigame</th>\n",
       "      <th>used_premium_feature</th>\n",
       "      <th>enrolled</th>\n",
       "      <th>liked</th>\n",
       "    </tr>\n",
       "  </thead>\n",
       "  <tbody>\n",
       "    <tr>\n",
       "      <th>count</th>\n",
       "      <td>50000.000000</td>\n",
       "      <td>50000.000000</td>\n",
       "      <td>50000.00000</td>\n",
       "      <td>50000.000000</td>\n",
       "      <td>50000.000000</td>\n",
       "      <td>50000.000000</td>\n",
       "      <td>50000.000000</td>\n",
       "      <td>50000.000000</td>\n",
       "    </tr>\n",
       "    <tr>\n",
       "      <th>mean</th>\n",
       "      <td>186889.729900</td>\n",
       "      <td>3.029860</td>\n",
       "      <td>31.72436</td>\n",
       "      <td>21.095900</td>\n",
       "      <td>0.107820</td>\n",
       "      <td>0.172020</td>\n",
       "      <td>0.621480</td>\n",
       "      <td>0.165000</td>\n",
       "    </tr>\n",
       "    <tr>\n",
       "      <th>std</th>\n",
       "      <td>107768.520361</td>\n",
       "      <td>2.031997</td>\n",
       "      <td>10.80331</td>\n",
       "      <td>15.728812</td>\n",
       "      <td>0.310156</td>\n",
       "      <td>0.377402</td>\n",
       "      <td>0.485023</td>\n",
       "      <td>0.371184</td>\n",
       "    </tr>\n",
       "    <tr>\n",
       "      <th>min</th>\n",
       "      <td>13.000000</td>\n",
       "      <td>0.000000</td>\n",
       "      <td>16.00000</td>\n",
       "      <td>1.000000</td>\n",
       "      <td>0.000000</td>\n",
       "      <td>0.000000</td>\n",
       "      <td>0.000000</td>\n",
       "      <td>0.000000</td>\n",
       "    </tr>\n",
       "    <tr>\n",
       "      <th>25%</th>\n",
       "      <td>93526.750000</td>\n",
       "      <td>1.000000</td>\n",
       "      <td>24.00000</td>\n",
       "      <td>10.000000</td>\n",
       "      <td>0.000000</td>\n",
       "      <td>0.000000</td>\n",
       "      <td>0.000000</td>\n",
       "      <td>0.000000</td>\n",
       "    </tr>\n",
       "    <tr>\n",
       "      <th>50%</th>\n",
       "      <td>187193.500000</td>\n",
       "      <td>3.000000</td>\n",
       "      <td>29.00000</td>\n",
       "      <td>18.000000</td>\n",
       "      <td>0.000000</td>\n",
       "      <td>0.000000</td>\n",
       "      <td>1.000000</td>\n",
       "      <td>0.000000</td>\n",
       "    </tr>\n",
       "    <tr>\n",
       "      <th>75%</th>\n",
       "      <td>279984.250000</td>\n",
       "      <td>5.000000</td>\n",
       "      <td>37.00000</td>\n",
       "      <td>28.000000</td>\n",
       "      <td>0.000000</td>\n",
       "      <td>0.000000</td>\n",
       "      <td>1.000000</td>\n",
       "      <td>0.000000</td>\n",
       "    </tr>\n",
       "    <tr>\n",
       "      <th>max</th>\n",
       "      <td>373662.000000</td>\n",
       "      <td>6.000000</td>\n",
       "      <td>101.00000</td>\n",
       "      <td>325.000000</td>\n",
       "      <td>1.000000</td>\n",
       "      <td>1.000000</td>\n",
       "      <td>1.000000</td>\n",
       "      <td>1.000000</td>\n",
       "    </tr>\n",
       "  </tbody>\n",
       "</table>\n",
       "</div>"
      ],
      "text/plain": [
       "                user     dayofweek          age    numscreens      minigame  \\\n",
       "count   50000.000000  50000.000000  50000.00000  50000.000000  50000.000000   \n",
       "mean   186889.729900      3.029860     31.72436     21.095900      0.107820   \n",
       "std    107768.520361      2.031997     10.80331     15.728812      0.310156   \n",
       "min        13.000000      0.000000     16.00000      1.000000      0.000000   \n",
       "25%     93526.750000      1.000000     24.00000     10.000000      0.000000   \n",
       "50%    187193.500000      3.000000     29.00000     18.000000      0.000000   \n",
       "75%    279984.250000      5.000000     37.00000     28.000000      0.000000   \n",
       "max    373662.000000      6.000000    101.00000    325.000000      1.000000   \n",
       "\n",
       "       used_premium_feature      enrolled         liked  \n",
       "count          50000.000000  50000.000000  50000.000000  \n",
       "mean               0.172020      0.621480      0.165000  \n",
       "std                0.377402      0.485023      0.371184  \n",
       "min                0.000000      0.000000      0.000000  \n",
       "25%                0.000000      0.000000      0.000000  \n",
       "50%                0.000000      1.000000      0.000000  \n",
       "75%                0.000000      1.000000      0.000000  \n",
       "max                1.000000      1.000000      1.000000  "
      ]
     },
     "execution_count": 1557,
     "metadata": {},
     "output_type": "execute_result"
    }
   ],
   "source": [
    "# Distribution of numerical columns\n",
    "app_subscription_df.describe()"
   ]
  },
  {
   "cell_type": "markdown",
   "id": "7ea4bc64-964c-45a9-9b0a-eac67af607ff",
   "metadata": {},
   "source": [
    ".Here we can see that average age of user is around 32.\n",
    "\n",
    ".On an average, user visits 21 screens, also 10% of user plays minigame, 16% of users liked\n",
    " features of app, 17% of user used premium features of app & 62% enrolled to premium"
   ]
  },
  {
   "cell_type": "code",
   "execution_count": 1558,
   "id": "5d37e3f3-4451-4389-ab09-04f36d583c57",
   "metadata": {},
   "outputs": [
    {
     "data": {
      "text/plain": [
       "user                     int64\n",
       "first_open              object\n",
       "dayofweek                int64\n",
       "hour                    object\n",
       "age                      int64\n",
       "screen_list             object\n",
       "numscreens               int64\n",
       "minigame                 int64\n",
       "used_premium_feature     int64\n",
       "enrolled                 int64\n",
       "enrolled_date           object\n",
       "liked                    int64\n",
       "dtype: object"
      ]
     },
     "execution_count": 1558,
     "metadata": {},
     "output_type": "execute_result"
    }
   ],
   "source": [
    "# check the data types\n",
    "app_subscription_df.dtypes"
   ]
  },
  {
   "cell_type": "code",
   "execution_count": 1559,
   "id": "f991bd02-1a3f-458d-ac25-b715aa54eb05",
   "metadata": {},
   "outputs": [
    {
     "data": {
      "text/plain": [
       "user                        0\n",
       "first_open                  0\n",
       "dayofweek                   0\n",
       "hour                        0\n",
       "age                         0\n",
       "screen_list                 0\n",
       "numscreens                  0\n",
       "minigame                    0\n",
       "used_premium_feature        0\n",
       "enrolled                    0\n",
       "enrolled_date           18926\n",
       "liked                       0\n",
       "dtype: int64"
      ]
     },
     "execution_count": 1559,
     "metadata": {},
     "output_type": "execute_result"
    }
   ],
   "source": [
    "app_subscription_df.isna().sum()"
   ]
  },
  {
   "cell_type": "code",
   "execution_count": 1560,
   "id": "f7d20f18-173e-4109-ad0c-dd302c36ec09",
   "metadata": {},
   "outputs": [],
   "source": [
    "# Data Cleaning #"
   ]
  },
  {
   "cell_type": "markdown",
   "id": "04d4f4aa-74a0-4162-8172-dcdb148e9fba",
   "metadata": {
    "tags": []
   },
   "source": [
    "'Hour' column is originally stored as an object(likely a string) and we are converting it to an integer and using 'str.extract' function to extract only the hour part(digits from the 'hour column')"
   ]
  },
  {
   "cell_type": "code",
   "execution_count": 1561,
   "id": "8ff9b8a6-d0ac-4505-8add-2e52fd7d082f",
   "metadata": {
    "tags": []
   },
   "outputs": [],
   "source": [
    "app_subscription_df['hour'] = app_subscription_df['hour'].str.extract('(\\d+)').astype(int)"
   ]
  },
  {
   "cell_type": "code",
   "execution_count": 1562,
   "id": "d8e823b4-fdf8-432f-b97d-d9856fe23314",
   "metadata": {},
   "outputs": [],
   "source": [
    "\n",
    "##app_subscription_df[\"hour\"] = app_subscription_df.hour.str.slice(1, 3).astype(int)"
   ]
  },
  {
   "cell_type": "code",
   "execution_count": 1563,
   "id": "0c54341f-79da-4b94-b2a6-4bcc41c6bbe7",
   "metadata": {},
   "outputs": [
    {
     "data": {
      "text/plain": [
       "0         2\n",
       "1         1\n",
       "2        19\n",
       "3        16\n",
       "4        18\n",
       "         ..\n",
       "49995    13\n",
       "49996     0\n",
       "49997    22\n",
       "49998    12\n",
       "49999     1\n",
       "Name: hour, Length: 50000, dtype: int64"
      ]
     },
     "execution_count": 1563,
     "metadata": {},
     "output_type": "execute_result"
    }
   ],
   "source": [
    "app_subscription_df[\"hour\"]"
   ]
  },
  {
   "cell_type": "code",
   "execution_count": 1564,
   "id": "fcc7bea1-f463-4567-afb6-dea9fdd61478",
   "metadata": {},
   "outputs": [
    {
     "data": {
      "text/html": [
       "<div>\n",
       "<style scoped>\n",
       "    .dataframe tbody tr th:only-of-type {\n",
       "        vertical-align: middle;\n",
       "    }\n",
       "\n",
       "    .dataframe tbody tr th {\n",
       "        vertical-align: top;\n",
       "    }\n",
       "\n",
       "    .dataframe thead th {\n",
       "        text-align: right;\n",
       "    }\n",
       "</style>\n",
       "<table border=\"1\" class=\"dataframe\">\n",
       "  <thead>\n",
       "    <tr style=\"text-align: right;\">\n",
       "      <th></th>\n",
       "      <th>user</th>\n",
       "      <th>first_open</th>\n",
       "      <th>dayofweek</th>\n",
       "      <th>hour</th>\n",
       "      <th>age</th>\n",
       "      <th>screen_list</th>\n",
       "      <th>numscreens</th>\n",
       "      <th>minigame</th>\n",
       "      <th>used_premium_feature</th>\n",
       "      <th>enrolled</th>\n",
       "      <th>enrolled_date</th>\n",
       "      <th>liked</th>\n",
       "    </tr>\n",
       "  </thead>\n",
       "  <tbody>\n",
       "    <tr>\n",
       "      <th>0</th>\n",
       "      <td>235136</td>\n",
       "      <td>2012-12-27 02:14:51.273</td>\n",
       "      <td>3</td>\n",
       "      <td>2</td>\n",
       "      <td>23</td>\n",
       "      <td>idscreen,joinscreen,Cycle,product_review,ScanP...</td>\n",
       "      <td>15</td>\n",
       "      <td>0</td>\n",
       "      <td>0</td>\n",
       "      <td>0</td>\n",
       "      <td>NaN</td>\n",
       "      <td>0</td>\n",
       "    </tr>\n",
       "    <tr>\n",
       "      <th>1</th>\n",
       "      <td>333588</td>\n",
       "      <td>2012-12-02 01:16:00.905</td>\n",
       "      <td>6</td>\n",
       "      <td>1</td>\n",
       "      <td>24</td>\n",
       "      <td>joinscreen,product_review,product_review2,Scan...</td>\n",
       "      <td>13</td>\n",
       "      <td>0</td>\n",
       "      <td>0</td>\n",
       "      <td>0</td>\n",
       "      <td>NaN</td>\n",
       "      <td>0</td>\n",
       "    </tr>\n",
       "    <tr>\n",
       "      <th>2</th>\n",
       "      <td>254414</td>\n",
       "      <td>2013-03-19 19:19:09.157</td>\n",
       "      <td>1</td>\n",
       "      <td>19</td>\n",
       "      <td>23</td>\n",
       "      <td>Splash,Cycle,Loan</td>\n",
       "      <td>3</td>\n",
       "      <td>0</td>\n",
       "      <td>1</td>\n",
       "      <td>0</td>\n",
       "      <td>NaN</td>\n",
       "      <td>1</td>\n",
       "    </tr>\n",
       "    <tr>\n",
       "      <th>3</th>\n",
       "      <td>234192</td>\n",
       "      <td>2013-07-05 16:08:46.354</td>\n",
       "      <td>4</td>\n",
       "      <td>16</td>\n",
       "      <td>28</td>\n",
       "      <td>product_review,Home,product_review,Loan3,Finan...</td>\n",
       "      <td>40</td>\n",
       "      <td>0</td>\n",
       "      <td>0</td>\n",
       "      <td>1</td>\n",
       "      <td>2013-07-05 16:11:49.513</td>\n",
       "      <td>0</td>\n",
       "    </tr>\n",
       "    <tr>\n",
       "      <th>4</th>\n",
       "      <td>51549</td>\n",
       "      <td>2013-02-26 18:50:48.661</td>\n",
       "      <td>1</td>\n",
       "      <td>18</td>\n",
       "      <td>31</td>\n",
       "      <td>idscreen,joinscreen,Cycle,Credit3Container,Sca...</td>\n",
       "      <td>32</td>\n",
       "      <td>0</td>\n",
       "      <td>0</td>\n",
       "      <td>1</td>\n",
       "      <td>2013-02-26 18:56:37.841</td>\n",
       "      <td>1</td>\n",
       "    </tr>\n",
       "  </tbody>\n",
       "</table>\n",
       "</div>"
      ],
      "text/plain": [
       "     user               first_open  dayofweek  hour  age  \\\n",
       "0  235136  2012-12-27 02:14:51.273          3     2   23   \n",
       "1  333588  2012-12-02 01:16:00.905          6     1   24   \n",
       "2  254414  2013-03-19 19:19:09.157          1    19   23   \n",
       "3  234192  2013-07-05 16:08:46.354          4    16   28   \n",
       "4   51549  2013-02-26 18:50:48.661          1    18   31   \n",
       "\n",
       "                                         screen_list  numscreens  minigame  \\\n",
       "0  idscreen,joinscreen,Cycle,product_review,ScanP...          15         0   \n",
       "1  joinscreen,product_review,product_review2,Scan...          13         0   \n",
       "2                                  Splash,Cycle,Loan           3         0   \n",
       "3  product_review,Home,product_review,Loan3,Finan...          40         0   \n",
       "4  idscreen,joinscreen,Cycle,Credit3Container,Sca...          32         0   \n",
       "\n",
       "   used_premium_feature  enrolled            enrolled_date  liked  \n",
       "0                     0         0                      NaN      0  \n",
       "1                     0         0                      NaN      0  \n",
       "2                     1         0                      NaN      1  \n",
       "3                     0         1  2013-07-05 16:11:49.513      0  \n",
       "4                     0         1  2013-02-26 18:56:37.841      1  "
      ]
     },
     "execution_count": 1564,
     "metadata": {},
     "output_type": "execute_result"
    }
   ],
   "source": [
    "# Display the modified Dataframe\n",
    "app_subscription_df.head()"
   ]
  },
  {
   "cell_type": "code",
   "execution_count": 1565,
   "id": "867830a6-ad02-47b1-a429-1b6e68cc69b0",
   "metadata": {},
   "outputs": [
    {
     "data": {
      "text/plain": [
       "user                     int64\n",
       "first_open              object\n",
       "dayofweek                int64\n",
       "hour                     int64\n",
       "age                      int64\n",
       "screen_list             object\n",
       "numscreens               int64\n",
       "minigame                 int64\n",
       "used_premium_feature     int64\n",
       "enrolled                 int64\n",
       "enrolled_date           object\n",
       "liked                    int64\n",
       "dtype: object"
      ]
     },
     "execution_count": 1565,
     "metadata": {},
     "output_type": "execute_result"
    }
   ],
   "source": [
    "app_subscription_df.dtypes"
   ]
  },
  {
   "cell_type": "markdown",
   "id": "cde82ee3-5ec9-477a-bd6b-ab3a005c58b7",
   "metadata": {},
   "source": [
    "# Plotting"
   ]
  },
  {
   "cell_type": "markdown",
   "id": "3f00f937-7771-486d-a675-cb4f6f080d0d",
   "metadata": {},
   "source": [
    "creating a new dataset from the existing one where we are dropping the columns which we think are unnecessary."
   ]
  },
  {
   "cell_type": "code",
   "execution_count": 1566,
   "id": "fde6d812-281c-43df-89b8-ea12e7ac1014",
   "metadata": {},
   "outputs": [],
   "source": [
    "app_subscription2_df = app_subscription_df.copy().drop(columns = ['user', 'screen_list', 'enrolled_date','first_open', 'enrolled'])"
   ]
  },
  {
   "cell_type": "code",
   "execution_count": 1567,
   "id": "9b73be7f-1cd3-4ae3-a945-df253bd5120a",
   "metadata": {},
   "outputs": [
    {
     "data": {
      "text/html": [
       "<div>\n",
       "<style scoped>\n",
       "    .dataframe tbody tr th:only-of-type {\n",
       "        vertical-align: middle;\n",
       "    }\n",
       "\n",
       "    .dataframe tbody tr th {\n",
       "        vertical-align: top;\n",
       "    }\n",
       "\n",
       "    .dataframe thead th {\n",
       "        text-align: right;\n",
       "    }\n",
       "</style>\n",
       "<table border=\"1\" class=\"dataframe\">\n",
       "  <thead>\n",
       "    <tr style=\"text-align: right;\">\n",
       "      <th></th>\n",
       "      <th>dayofweek</th>\n",
       "      <th>hour</th>\n",
       "      <th>age</th>\n",
       "      <th>numscreens</th>\n",
       "      <th>minigame</th>\n",
       "      <th>used_premium_feature</th>\n",
       "      <th>liked</th>\n",
       "    </tr>\n",
       "  </thead>\n",
       "  <tbody>\n",
       "    <tr>\n",
       "      <th>0</th>\n",
       "      <td>3</td>\n",
       "      <td>2</td>\n",
       "      <td>23</td>\n",
       "      <td>15</td>\n",
       "      <td>0</td>\n",
       "      <td>0</td>\n",
       "      <td>0</td>\n",
       "    </tr>\n",
       "    <tr>\n",
       "      <th>1</th>\n",
       "      <td>6</td>\n",
       "      <td>1</td>\n",
       "      <td>24</td>\n",
       "      <td>13</td>\n",
       "      <td>0</td>\n",
       "      <td>0</td>\n",
       "      <td>0</td>\n",
       "    </tr>\n",
       "    <tr>\n",
       "      <th>2</th>\n",
       "      <td>1</td>\n",
       "      <td>19</td>\n",
       "      <td>23</td>\n",
       "      <td>3</td>\n",
       "      <td>0</td>\n",
       "      <td>1</td>\n",
       "      <td>1</td>\n",
       "    </tr>\n",
       "    <tr>\n",
       "      <th>3</th>\n",
       "      <td>4</td>\n",
       "      <td>16</td>\n",
       "      <td>28</td>\n",
       "      <td>40</td>\n",
       "      <td>0</td>\n",
       "      <td>0</td>\n",
       "      <td>0</td>\n",
       "    </tr>\n",
       "    <tr>\n",
       "      <th>4</th>\n",
       "      <td>1</td>\n",
       "      <td>18</td>\n",
       "      <td>31</td>\n",
       "      <td>32</td>\n",
       "      <td>0</td>\n",
       "      <td>0</td>\n",
       "      <td>1</td>\n",
       "    </tr>\n",
       "  </tbody>\n",
       "</table>\n",
       "</div>"
      ],
      "text/plain": [
       "   dayofweek  hour  age  numscreens  minigame  used_premium_feature  liked\n",
       "0          3     2   23          15         0                     0      0\n",
       "1          6     1   24          13         0                     0      0\n",
       "2          1    19   23           3         0                     1      1\n",
       "3          4    16   28          40         0                     0      0\n",
       "4          1    18   31          32         0                     0      1"
      ]
     },
     "execution_count": 1567,
     "metadata": {},
     "output_type": "execute_result"
    }
   ],
   "source": [
    "app_subscription2_df.head()"
   ]
  },
  {
   "cell_type": "markdown",
   "id": "4d67ab21-641e-41f9-816e-6015eee10dcf",
   "metadata": {},
   "source": [
    "# Plot Histograms for the Remaining Columns"
   ]
  },
  {
   "cell_type": "markdown",
   "id": "a22a64c5-312a-413d-9daf-919ae123af4e",
   "metadata": {},
   "source": [
    "Let's Plot the Histogram for all numerical columns to know the disribution of these features"
   ]
  },
  {
   "cell_type": "code",
   "execution_count": 1568,
   "id": "f4041f3c-9b80-4da2-8d1c-7519f5b9d92c",
   "metadata": {},
   "outputs": [
    {
     "data": {
      "image/png": "[encoded data removed]",
      "text/plain": [
       "<Figure size 1500x1000 with 7 Axes>"
      ]
     },
     "metadata": {},
     "output_type": "display_data"
    }
   ],
   "source": [
    "# Let's Plot Histogram for all numerical columns to know the disribution of these features\n",
    "plt.figure(figsize=(15,10))\n",
    "plt.suptitle('Histogam of Numerical columns', fontsize= 20)\n",
    "for i in range(1, app_subscription2_df.shape[1] + 1):\n",
    "    plt.subplot(3,3,i)\n",
    "    f = plt.gca()\n",
    "#f.axes.get_yaxis().set_visible(False)\n",
    "    f.set_title(app_subscription2_df.columns.values[i-1])\n",
    "    \n",
    "    vals = np.size(app_subscription2_df.iloc[:,i-1].unique())\n",
    "    \n",
    "    plt.hist(app_subscription2_df.iloc[:,i-1], bins = vals, color='#3F5D7D')\n",
    "plt.tight_layout(rect=[0, 0.03, 1, 0.95])\n",
    "\n",
    "#plt.savefig('app_data_hist.jpg')"
   ]
  },
  {
   "cell_type": "markdown",
   "id": "2c17f5dd-1bc7-474a-a3dc-3067b2601d8f",
   "metadata": {},
   "source": [
    "Observations:\n",
    "\n",
    ". Most of the users join app during weekends\n",
    "\n",
    ". Most of the users 1st open the app around 15 that is around 3PM\n",
    "\n",
    ". Most of users are aged around 30 Years\n",
    "\n",
    ". Most of users visited around 20 screens of app\n",
    "\n",
    ". Not many users played any minigames\n",
    "\n",
    ". Not many users press the like button\n",
    "\n",
    ". Not many user used premium feature in 1st 24 hours"
   ]
  },
  {
   "cell_type": "code",
   "execution_count": 1569,
   "id": "117bd8af-fc79-4068-8734-b78afdf78376",
   "metadata": {},
   "outputs": [
    {
     "data": {
      "image/png": "[encoded data removed]",
      "text/plain": [
       "<Figure size 2000x1000 with 1 Axes>"
      ]
     },
     "metadata": {},
     "output_type": "display_data"
    }
   ],
   "source": [
    "## Let's see the Correlation between independent features & response variable\n",
    "app_subscription2_df.corrwith(app_subscription_df.enrolled).plot.bar(figsize=(20,10),\n",
    "                  title = 'Correlation with Response variable',\n",
    "                  fontsize = 15, rot = 45,\n",
    "                  grid = True, color='orange')\n",
    "#plt.savefig('app_data_corr.jpg')"
   ]
  },
  {
   "cell_type": "markdown",
   "id": "3cbcae2d-3fcb-42b6-935e-0f8f68be3672",
   "metadata": {},
   "source": [
    "### Observations:\n",
    "\n",
    "dayofweek is least positively correlated & says that if you join the app in day 0(sunday) then their is most likely to get enrolled to the premium features\n",
    "\n",
    "Hour is negatively correlated with target variable shows the earlier the hour(in night) the most likely to get enrolled\n",
    "\n",
    "age is also negatively correlated reflects that the younger users are most likely to get enrolled\n",
    "\n",
    "Numscreen is positively correlated with target shows that more the no. of screen user visits more chances of getting enrolled\n",
    "\n",
    "minigame also shows that more the minigame user play more chances of getting enrolled\n",
    "\n",
    "liked is very least negative which does not have much impact in target\n",
    "\n",
    "interestingly used_premium_feature is negatively correlated with response meaning that if user used the premium feature in 1st 24 hour that he/she might not enroll after the trial version of premium features"
   ]
  },
  {
   "cell_type": "code",
   "execution_count": 1570,
   "id": "fc5c8184-424b-4c7f-915e-465b18ffbb93",
   "metadata": {},
   "outputs": [],
   "source": [
    "## Correlation Matrix\n",
    "sn.set(style=\"white\", font_scale=2)\n",
    "\n",
    "# Compute the correlation matrix\n",
    "corr = app_subscription2_df.corr()"
   ]
  },
  {
   "cell_type": "code",
   "execution_count": 1571,
   "id": "25586203-6df8-45d7-ad26-01e389bd9302",
   "metadata": {},
   "outputs": [],
   "source": [
    "# Generate a mask for the upper triangle\n",
    "mask = np.zeros_like(corr, dtype=bool)\n",
    "mask[np.triu_indices_from(mask)] = True"
   ]
  },
  {
   "cell_type": "code",
   "execution_count": 1572,
   "id": "d56d6208-99b7-4089-b9a4-d12bc0101e20",
   "metadata": {},
   "outputs": [
    {
     "data": {
      "text/plain": [
       "<AxesSubplot:>"
      ]
     },
     "execution_count": 1572,
     "metadata": {},
     "output_type": "execute_result"
    },
    {
     "data": {
      "image/png": "[encoded data removed]",
      "text/plain": [
       "<Figure size 1800x1500 with 2 Axes>"
      ]
     },
     "metadata": {},
     "output_type": "display_data"
    }
   ],
   "source": [
    "# Set up the matplotlib figure\n",
    "f, ax = plt.subplots(figsize=(18, 15))\n",
    "f.suptitle(\"Correlation Matrix\", fontsize = 40)\n",
    "# Generate a custom diverging colormap\n",
    "cmap = sn.diverging_palette(220, 10, as_cmap=True)\n",
    "\n",
    "# Draw the heatmap with the mask and correct aspect ratio\n",
    "sn.heatmap(corr, mask=mask, cmap=cmap, vmax=.3, center=0,\n",
    "            square=True, linewidths=.5, cbar_kws={\"shrink\": .5})"
   ]
  },
  {
   "cell_type": "markdown",
   "id": "1e56153f-d35c-4e9e-b313-2daed88b3efa",
   "metadata": {},
   "source": [
    "All the independent features are having very less correlation among themselves, so their is very less chance of multicollinearity problem"
   ]
  },
  {
   "cell_type": "markdown",
   "id": "5fc58bc3-7e4f-40a5-a14c-55dd359553d6",
   "metadata": {},
   "source": [
    "# Feature Engineering - Response Variable"
   ]
  },
  {
   "cell_type": "code",
   "execution_count": 1573,
   "id": "50ffa60c-d8bb-484e-aacc-4638ca848b7f",
   "metadata": {},
   "outputs": [
    {
     "name": "stdout",
     "output_type": "stream",
     "text": [
      "<class 'pandas.core.frame.DataFrame'>\n",
      "RangeIndex: 50000 entries, 0 to 49999\n",
      "Data columns (total 12 columns):\n",
      " #   Column                Non-Null Count  Dtype \n",
      "---  ------                --------------  ----- \n",
      " 0   user                  50000 non-null  int64 \n",
      " 1   first_open            50000 non-null  object\n",
      " 2   dayofweek             50000 non-null  int64 \n",
      " 3   hour                  50000 non-null  int64 \n",
      " 4   age                   50000 non-null  int64 \n",
      " 5   screen_list           50000 non-null  object\n",
      " 6   numscreens            50000 non-null  int64 \n",
      " 7   minigame              50000 non-null  int64 \n",
      " 8   used_premium_feature  50000 non-null  int64 \n",
      " 9   enrolled              50000 non-null  int64 \n",
      " 10  enrolled_date         31074 non-null  object\n",
      " 11  liked                 50000 non-null  int64 \n",
      "dtypes: int64(9), object(3)\n",
      "memory usage: 4.6+ MB\n"
     ]
    }
   ],
   "source": [
    "app_subscription_df.info()"
   ]
  },
  {
   "cell_type": "code",
   "execution_count": 1574,
   "id": "e1b6eb73-5400-4b5d-b458-51578030479d",
   "metadata": {},
   "outputs": [],
   "source": [
    "#Here we need to plot the difference between first_open and enrolled_date in hours\n",
    "# Lets start looking at the datatypes"
   ]
  },
  {
   "cell_type": "code",
   "execution_count": 1575,
   "id": "17444122-3af4-4df7-872e-50e1cfb11a08",
   "metadata": {
    "tags": []
   },
   "outputs": [
    {
     "data": {
      "text/plain": [
       "user                     int64\n",
       "first_open              object\n",
       "dayofweek                int64\n",
       "hour                     int64\n",
       "age                      int64\n",
       "screen_list             object\n",
       "numscreens               int64\n",
       "minigame                 int64\n",
       "used_premium_feature     int64\n",
       "enrolled                 int64\n",
       "enrolled_date           object\n",
       "liked                    int64\n",
       "dtype: object"
      ]
     },
     "execution_count": 1575,
     "metadata": {},
     "output_type": "execute_result"
    }
   ],
   "source": [
    "# Formatting Date Columns\n",
    "app_subscription_df.dtypes"
   ]
  },
  {
   "cell_type": "code",
   "execution_count": 1576,
   "id": "6335210a-5017-408d-9815-9b679dc93bec",
   "metadata": {},
   "outputs": [
    {
     "data": {
      "text/plain": [
       "user                        0\n",
       "first_open                  0\n",
       "dayofweek                   0\n",
       "hour                        0\n",
       "age                         0\n",
       "screen_list                 0\n",
       "numscreens                  0\n",
       "minigame                    0\n",
       "used_premium_feature        0\n",
       "enrolled                    0\n",
       "enrolled_date           18926\n",
       "liked                       0\n",
       "dtype: int64"
      ]
     },
     "execution_count": 1576,
     "metadata": {},
     "output_type": "execute_result"
    }
   ],
   "source": [
    "app_subscription_df.isna().sum()"
   ]
  },
  {
   "cell_type": "code",
   "execution_count": 1577,
   "id": "14d8520b-197f-4d7a-9b5c-5dd3bda46076",
   "metadata": {},
   "outputs": [],
   "source": [
    "#Here we can see datatype of these two fieds are object so we need to convert it to datetime so that we can get the exact difference."
   ]
  },
  {
   "cell_type": "code",
   "execution_count": 1578,
   "id": "d93d0755-67a7-44de-8af7-1a31ea5a6880",
   "metadata": {},
   "outputs": [],
   "source": [
    "app_subscription_df[\"first_open\"] = [parser.parse(row_data) for row_data in app_subscription_df[\"first_open\"]]\n",
    "app_subscription_df[\"enrolled_date\"] = [parser.parse(row_data) if isinstance(row_data, str) else row_data for row_data in app_subscription_df[\"enrolled_date\"]]"
   ]
  },
  {
   "cell_type": "code",
   "execution_count": 1579,
   "id": "992a5aa0-470e-44e3-8ef1-88c2a2c23385",
   "metadata": {},
   "outputs": [
    {
     "data": {
      "text/plain": [
       "user                             int64\n",
       "first_open              datetime64[ns]\n",
       "dayofweek                        int64\n",
       "hour                             int64\n",
       "age                              int64\n",
       "screen_list                     object\n",
       "numscreens                       int64\n",
       "minigame                         int64\n",
       "used_premium_feature             int64\n",
       "enrolled                         int64\n",
       "enrolled_date           datetime64[ns]\n",
       "liked                            int64\n",
       "dtype: object"
      ]
     },
     "execution_count": 1579,
     "metadata": {},
     "output_type": "execute_result"
    }
   ],
   "source": [
    "# Formatting Date Columns\n",
    "app_subscription_df.dtypes"
   ]
  },
  {
   "cell_type": "code",
   "execution_count": 1580,
   "id": "e542111b-b651-47be-9463-1368e32e0eb6",
   "metadata": {
    "tags": []
   },
   "outputs": [
    {
     "data": {
      "text/html": [
       "<div>\n",
       "<style scoped>\n",
       "    .dataframe tbody tr th:only-of-type {\n",
       "        vertical-align: middle;\n",
       "    }\n",
       "\n",
       "    .dataframe tbody tr th {\n",
       "        vertical-align: top;\n",
       "    }\n",
       "\n",
       "    .dataframe thead th {\n",
       "        text-align: right;\n",
       "    }\n",
       "</style>\n",
       "<table border=\"1\" class=\"dataframe\">\n",
       "  <thead>\n",
       "    <tr style=\"text-align: right;\">\n",
       "      <th></th>\n",
       "      <th>user</th>\n",
       "      <th>first_open</th>\n",
       "      <th>dayofweek</th>\n",
       "      <th>hour</th>\n",
       "      <th>age</th>\n",
       "      <th>screen_list</th>\n",
       "      <th>numscreens</th>\n",
       "      <th>minigame</th>\n",
       "      <th>used_premium_feature</th>\n",
       "      <th>enrolled</th>\n",
       "      <th>enrolled_date</th>\n",
       "      <th>liked</th>\n",
       "    </tr>\n",
       "  </thead>\n",
       "  <tbody>\n",
       "    <tr>\n",
       "      <th>0</th>\n",
       "      <td>235136</td>\n",
       "      <td>2012-12-27 02:14:51.273</td>\n",
       "      <td>3</td>\n",
       "      <td>2</td>\n",
       "      <td>23</td>\n",
       "      <td>idscreen,joinscreen,Cycle,product_review,ScanP...</td>\n",
       "      <td>15</td>\n",
       "      <td>0</td>\n",
       "      <td>0</td>\n",
       "      <td>0</td>\n",
       "      <td>NaT</td>\n",
       "      <td>0</td>\n",
       "    </tr>\n",
       "    <tr>\n",
       "      <th>1</th>\n",
       "      <td>333588</td>\n",
       "      <td>2012-12-02 01:16:00.905</td>\n",
       "      <td>6</td>\n",
       "      <td>1</td>\n",
       "      <td>24</td>\n",
       "      <td>joinscreen,product_review,product_review2,Scan...</td>\n",
       "      <td>13</td>\n",
       "      <td>0</td>\n",
       "      <td>0</td>\n",
       "      <td>0</td>\n",
       "      <td>NaT</td>\n",
       "      <td>0</td>\n",
       "    </tr>\n",
       "    <tr>\n",
       "      <th>2</th>\n",
       "      <td>254414</td>\n",
       "      <td>2013-03-19 19:19:09.157</td>\n",
       "      <td>1</td>\n",
       "      <td>19</td>\n",
       "      <td>23</td>\n",
       "      <td>Splash,Cycle,Loan</td>\n",
       "      <td>3</td>\n",
       "      <td>0</td>\n",
       "      <td>1</td>\n",
       "      <td>0</td>\n",
       "      <td>NaT</td>\n",
       "      <td>1</td>\n",
       "    </tr>\n",
       "    <tr>\n",
       "      <th>3</th>\n",
       "      <td>234192</td>\n",
       "      <td>2013-07-05 16:08:46.354</td>\n",
       "      <td>4</td>\n",
       "      <td>16</td>\n",
       "      <td>28</td>\n",
       "      <td>product_review,Home,product_review,Loan3,Finan...</td>\n",
       "      <td>40</td>\n",
       "      <td>0</td>\n",
       "      <td>0</td>\n",
       "      <td>1</td>\n",
       "      <td>2013-07-05 16:11:49.513</td>\n",
       "      <td>0</td>\n",
       "    </tr>\n",
       "    <tr>\n",
       "      <th>4</th>\n",
       "      <td>51549</td>\n",
       "      <td>2013-02-26 18:50:48.661</td>\n",
       "      <td>1</td>\n",
       "      <td>18</td>\n",
       "      <td>31</td>\n",
       "      <td>idscreen,joinscreen,Cycle,Credit3Container,Sca...</td>\n",
       "      <td>32</td>\n",
       "      <td>0</td>\n",
       "      <td>0</td>\n",
       "      <td>1</td>\n",
       "      <td>2013-02-26 18:56:37.841</td>\n",
       "      <td>1</td>\n",
       "    </tr>\n",
       "  </tbody>\n",
       "</table>\n",
       "</div>"
      ],
      "text/plain": [
       "     user              first_open  dayofweek  hour  age  \\\n",
       "0  235136 2012-12-27 02:14:51.273          3     2   23   \n",
       "1  333588 2012-12-02 01:16:00.905          6     1   24   \n",
       "2  254414 2013-03-19 19:19:09.157          1    19   23   \n",
       "3  234192 2013-07-05 16:08:46.354          4    16   28   \n",
       "4   51549 2013-02-26 18:50:48.661          1    18   31   \n",
       "\n",
       "                                         screen_list  numscreens  minigame  \\\n",
       "0  idscreen,joinscreen,Cycle,product_review,ScanP...          15         0   \n",
       "1  joinscreen,product_review,product_review2,Scan...          13         0   \n",
       "2                                  Splash,Cycle,Loan           3         0   \n",
       "3  product_review,Home,product_review,Loan3,Finan...          40         0   \n",
       "4  idscreen,joinscreen,Cycle,Credit3Container,Sca...          32         0   \n",
       "\n",
       "   used_premium_feature  enrolled           enrolled_date  liked  \n",
       "0                     0         0                     NaT      0  \n",
       "1                     0         0                     NaT      0  \n",
       "2                     1         0                     NaT      1  \n",
       "3                     0         1 2013-07-05 16:11:49.513      0  \n",
       "4                     0         1 2013-02-26 18:56:37.841      1  "
      ]
     },
     "execution_count": 1580,
     "metadata": {},
     "output_type": "execute_result"
    }
   ],
   "source": [
    "app_subscription_df.head() \n"
   ]
  },
  {
   "cell_type": "code",
   "execution_count": 1581,
   "id": "c4d794d5-8ae6-45fe-bb4b-a17e954786a0",
   "metadata": {},
   "outputs": [
    {
     "data": {
      "image/png": "[encoded data removed]",
      "text/plain": [
       "<Figure size 640x480 with 1 Axes>"
      ]
     },
     "metadata": {},
     "output_type": "display_data"
    },
    {
     "data": {
      "text/plain": [
       "<Figure size 640x480 with 0 Axes>"
      ]
     },
     "metadata": {},
     "output_type": "display_data"
    }
   ],
   "source": [
    "# Selecting Time For Response\n",
    "app_subscription_df[\"difference\"] = (app_subscription_df.enrolled_date - app_subscription_df.first_open).dt.total_seconds() / 3600  # Convert to hours\n",
    "plt.hist(app_subscription_df[\"difference\"].dropna(), color='#3F5D7D')\n",
    "plt.title('Distribution of Time-Since-Screen-Enrolled')\n",
    "plt.show()\n",
    "plt.savefig('time_distribution_plot.jpg')"
   ]
  },
  {
   "cell_type": "markdown",
   "id": "ff0a4143-3cdc-452b-b7d3-24d81d2212db",
   "metadata": {
    "tags": []
   },
   "source": [
    "Here we observe that most of users enrolled in 1st 2000 Hour but their might be case that most enrollment is in 1st 100 or 500 hours, lets zoom the plot"
   ]
  },
  {
   "cell_type": "code",
   "execution_count": 1582,
   "id": "ead76740-85bc-43ed-b335-89915981ad8e",
   "metadata": {},
   "outputs": [
    {
     "data": {
      "image/png": "[encoded data removed]",
      "text/plain": [
       "<Figure size 640x480 with 1 Axes>"
      ]
     },
     "metadata": {},
     "output_type": "display_data"
    },
    {
     "data": {
      "text/plain": [
       "<Figure size 640x480 with 0 Axes>"
      ]
     },
     "metadata": {},
     "output_type": "display_data"
    }
   ],
   "source": [
    "plt.hist(app_subscription_df[\"difference\"].dropna(), color='#3F5D7D', range =[0,1000])\n",
    "plt.title('Distribution of Time-Since-Screen-Enrolled')\n",
    "plt.show()\n"
   ]
  },
  {
   "cell_type": "markdown",
   "id": "ea5a7405-4616-4d25-b11c-69127a54bca7",
   "metadata": {
    "tags": []
   },
   "source": [
    "Here we observe that most of users enrolled in 1st 100 Hour but let's zoom the plot again"
   ]
  },
  {
   "cell_type": "code",
   "execution_count": 1583,
   "id": "230917dd-715e-4126-9cc1-d20b30933c5a",
   "metadata": {
    "tags": []
   },
   "outputs": [
    {
     "data": {
      "image/png": "[encoded data removed]",
      "text/plain": [
       "<Figure size 640x480 with 1 Axes>"
      ]
     },
     "metadata": {},
     "output_type": "display_data"
    },
    {
     "data": {
      "text/plain": [
       "<Figure size 640x480 with 0 Axes>"
      ]
     },
     "metadata": {},
     "output_type": "display_data"
    }
   ],
   "source": [
    "plt.hist(app_subscription_df[\"difference\"].dropna(), color='#3F5D7D', range =[0,100])\n",
    "plt.title('Distribution of Time-Since-Screen-Enrolled')\n",
    "plt.show()\n"
   ]
  },
  {
   "cell_type": "markdown",
   "id": "c4a726af-7033-4937-b84c-363652d06b61",
   "metadata": {},
   "source": [
    "Here we observe that most of users enrolled in 1st 10 Hour but let's zoom the plot a bit more"
   ]
  },
  {
   "cell_type": "code",
   "execution_count": 1584,
   "id": "ef68db24-c4d4-4f95-8e27-28e85f856375",
   "metadata": {},
   "outputs": [
    {
     "data": {
      "image/png": "[encoded data removed]",
      "text/plain": [
       "<Figure size 640x480 with 1 Axes>"
      ]
     },
     "metadata": {},
     "output_type": "display_data"
    },
    {
     "data": {
      "text/plain": [
       "<Figure size 640x480 with 0 Axes>"
      ]
     },
     "metadata": {},
     "output_type": "display_data"
    }
   ],
   "source": [
    "plt.hist(app_subscription_df[\"difference\"].dropna(), color='#3F5D7D', range =[0,10])\n",
    "plt.title('Distribution of Time-Since-Screen-Enrolled')\n",
    "plt.show()\n"
   ]
  },
  {
   "cell_type": "markdown",
   "id": "a0b50af5-3c8f-4c1a-9644-989de2558243",
   "metadata": {
    "tags": []
   },
   "source": [
    "Here we observe that most of users enrolled in 1st 1 Hour from registration\n",
    "And We can conclude that most of users (more that 20000 out-off total 50000 users) do not used the 1st 24 hour premium free trial & infact they direcly jumped to the premium at the time of they 1st open the app"
   ]
  },
  {
   "cell_type": "code",
   "execution_count": 1585,
   "id": "fa06c9f2-6b71-4922-8382-ae107fb2788a",
   "metadata": {},
   "outputs": [],
   "source": [
    "# Now we are updating the 'enrolled' column to 0 for rows where the 'difference' column has a value \n",
    "# greater than 48.So in this case business rule stating that if the time difference is greater than\n",
    "# 48hours, the user is not considered enrolled."
   ]
  },
  {
   "cell_type": "code",
   "execution_count": 1586,
   "id": "59168e2a-6a73-4a0e-9b7a-340e663cb288",
   "metadata": {},
   "outputs": [],
   "source": [
    "app_subscription_df.loc[app_subscription_df.difference > 48, 'enrolled'] = 0"
   ]
  },
  {
   "cell_type": "code",
   "execution_count": 1587,
   "id": "fc506e30-9ae7-4c99-b1ed-e38945d0a154",
   "metadata": {},
   "outputs": [],
   "source": [
    "app_subscription_df = app_subscription_df.drop(columns=['enrolled_date', 'difference', 'first_open'])"
   ]
  },
  {
   "cell_type": "code",
   "execution_count": 1588,
   "id": "b0ee987b-87bd-4a19-84af-ef5fc4fa7716",
   "metadata": {},
   "outputs": [
    {
     "data": {
      "text/html": [
       "<div>\n",
       "<style scoped>\n",
       "    .dataframe tbody tr th:only-of-type {\n",
       "        vertical-align: middle;\n",
       "    }\n",
       "\n",
       "    .dataframe tbody tr th {\n",
       "        vertical-align: top;\n",
       "    }\n",
       "\n",
       "    .dataframe thead th {\n",
       "        text-align: right;\n",
       "    }\n",
       "</style>\n",
       "<table border=\"1\" class=\"dataframe\">\n",
       "  <thead>\n",
       "    <tr style=\"text-align: right;\">\n",
       "      <th></th>\n",
       "      <th>user</th>\n",
       "      <th>dayofweek</th>\n",
       "      <th>hour</th>\n",
       "      <th>age</th>\n",
       "      <th>screen_list</th>\n",
       "      <th>numscreens</th>\n",
       "      <th>minigame</th>\n",
       "      <th>used_premium_feature</th>\n",
       "      <th>enrolled</th>\n",
       "      <th>liked</th>\n",
       "    </tr>\n",
       "  </thead>\n",
       "  <tbody>\n",
       "    <tr>\n",
       "      <th>0</th>\n",
       "      <td>235136</td>\n",
       "      <td>3</td>\n",
       "      <td>2</td>\n",
       "      <td>23</td>\n",
       "      <td>idscreen,joinscreen,Cycle,product_review,ScanP...</td>\n",
       "      <td>15</td>\n",
       "      <td>0</td>\n",
       "      <td>0</td>\n",
       "      <td>0</td>\n",
       "      <td>0</td>\n",
       "    </tr>\n",
       "    <tr>\n",
       "      <th>1</th>\n",
       "      <td>333588</td>\n",
       "      <td>6</td>\n",
       "      <td>1</td>\n",
       "      <td>24</td>\n",
       "      <td>joinscreen,product_review,product_review2,Scan...</td>\n",
       "      <td>13</td>\n",
       "      <td>0</td>\n",
       "      <td>0</td>\n",
       "      <td>0</td>\n",
       "      <td>0</td>\n",
       "    </tr>\n",
       "    <tr>\n",
       "      <th>2</th>\n",
       "      <td>254414</td>\n",
       "      <td>1</td>\n",
       "      <td>19</td>\n",
       "      <td>23</td>\n",
       "      <td>Splash,Cycle,Loan</td>\n",
       "      <td>3</td>\n",
       "      <td>0</td>\n",
       "      <td>1</td>\n",
       "      <td>0</td>\n",
       "      <td>1</td>\n",
       "    </tr>\n",
       "    <tr>\n",
       "      <th>3</th>\n",
       "      <td>234192</td>\n",
       "      <td>4</td>\n",
       "      <td>16</td>\n",
       "      <td>28</td>\n",
       "      <td>product_review,Home,product_review,Loan3,Finan...</td>\n",
       "      <td>40</td>\n",
       "      <td>0</td>\n",
       "      <td>0</td>\n",
       "      <td>1</td>\n",
       "      <td>0</td>\n",
       "    </tr>\n",
       "    <tr>\n",
       "      <th>4</th>\n",
       "      <td>51549</td>\n",
       "      <td>1</td>\n",
       "      <td>18</td>\n",
       "      <td>31</td>\n",
       "      <td>idscreen,joinscreen,Cycle,Credit3Container,Sca...</td>\n",
       "      <td>32</td>\n",
       "      <td>0</td>\n",
       "      <td>0</td>\n",
       "      <td>1</td>\n",
       "      <td>1</td>\n",
       "    </tr>\n",
       "    <tr>\n",
       "      <th>5</th>\n",
       "      <td>56480</td>\n",
       "      <td>2</td>\n",
       "      <td>9</td>\n",
       "      <td>20</td>\n",
       "      <td>idscreen,Cycle,Home,ScanPreview,VerifyPhone,Ve...</td>\n",
       "      <td>14</td>\n",
       "      <td>0</td>\n",
       "      <td>0</td>\n",
       "      <td>1</td>\n",
       "      <td>0</td>\n",
       "    </tr>\n",
       "    <tr>\n",
       "      <th>6</th>\n",
       "      <td>144649</td>\n",
       "      <td>1</td>\n",
       "      <td>2</td>\n",
       "      <td>35</td>\n",
       "      <td>product_review,product_review2,ScanPreview</td>\n",
       "      <td>3</td>\n",
       "      <td>0</td>\n",
       "      <td>0</td>\n",
       "      <td>0</td>\n",
       "      <td>0</td>\n",
       "    </tr>\n",
       "    <tr>\n",
       "      <th>7</th>\n",
       "      <td>249366</td>\n",
       "      <td>1</td>\n",
       "      <td>3</td>\n",
       "      <td>26</td>\n",
       "      <td>Splash,Cycle,Home,Credit3Container,Credit3Dash...</td>\n",
       "      <td>41</td>\n",
       "      <td>0</td>\n",
       "      <td>1</td>\n",
       "      <td>0</td>\n",
       "      <td>0</td>\n",
       "    </tr>\n",
       "    <tr>\n",
       "      <th>8</th>\n",
       "      <td>372004</td>\n",
       "      <td>2</td>\n",
       "      <td>14</td>\n",
       "      <td>29</td>\n",
       "      <td>product_review,product_review2,ScanPreview,Ver...</td>\n",
       "      <td>33</td>\n",
       "      <td>1</td>\n",
       "      <td>1</td>\n",
       "      <td>0</td>\n",
       "      <td>0</td>\n",
       "    </tr>\n",
       "    <tr>\n",
       "      <th>9</th>\n",
       "      <td>338013</td>\n",
       "      <td>4</td>\n",
       "      <td>18</td>\n",
       "      <td>26</td>\n",
       "      <td>Home,Loan2,product_review,product_review,produ...</td>\n",
       "      <td>19</td>\n",
       "      <td>0</td>\n",
       "      <td>0</td>\n",
       "      <td>1</td>\n",
       "      <td>0</td>\n",
       "    </tr>\n",
       "  </tbody>\n",
       "</table>\n",
       "</div>"
      ],
      "text/plain": [
       "     user  dayofweek  hour  age  \\\n",
       "0  235136          3     2   23   \n",
       "1  333588          6     1   24   \n",
       "2  254414          1    19   23   \n",
       "3  234192          4    16   28   \n",
       "4   51549          1    18   31   \n",
       "5   56480          2     9   20   \n",
       "6  144649          1     2   35   \n",
       "7  249366          1     3   26   \n",
       "8  372004          2    14   29   \n",
       "9  338013          4    18   26   \n",
       "\n",
       "                                         screen_list  numscreens  minigame  \\\n",
       "0  idscreen,joinscreen,Cycle,product_review,ScanP...          15         0   \n",
       "1  joinscreen,product_review,product_review2,Scan...          13         0   \n",
       "2                                  Splash,Cycle,Loan           3         0   \n",
       "3  product_review,Home,product_review,Loan3,Finan...          40         0   \n",
       "4  idscreen,joinscreen,Cycle,Credit3Container,Sca...          32         0   \n",
       "5  idscreen,Cycle,Home,ScanPreview,VerifyPhone,Ve...          14         0   \n",
       "6         product_review,product_review2,ScanPreview           3         0   \n",
       "7  Splash,Cycle,Home,Credit3Container,Credit3Dash...          41         0   \n",
       "8  product_review,product_review2,ScanPreview,Ver...          33         1   \n",
       "9  Home,Loan2,product_review,product_review,produ...          19         0   \n",
       "\n",
       "   used_premium_feature  enrolled  liked  \n",
       "0                     0         0      0  \n",
       "1                     0         0      0  \n",
       "2                     1         0      1  \n",
       "3                     0         1      0  \n",
       "4                     0         1      1  \n",
       "5                     0         1      0  \n",
       "6                     0         0      0  \n",
       "7                     1         0      0  \n",
       "8                     1         0      0  \n",
       "9                     0         1      0  "
      ]
     },
     "execution_count": 1588,
     "metadata": {},
     "output_type": "execute_result"
    }
   ],
   "source": [
    "app_subscription_df.head(10)"
   ]
  },
  {
   "cell_type": "markdown",
   "id": "6246d471-ba91-4540-a6d6-0552356af428",
   "metadata": {
    "tags": []
   },
   "source": [
    "## Formatting the screen_list Field"
   ]
  },
  {
   "cell_type": "code",
   "execution_count": 1589,
   "id": "08b11822-2748-435f-871a-e2474b04ee1b",
   "metadata": {},
   "outputs": [],
   "source": [
    "# Load Top Screens\n",
    "top_screens = pd.read_csv(\"top_screens.csv\").top_screens.values\n"
   ]
  },
  {
   "cell_type": "code",
   "execution_count": 1590,
   "id": "af908770-b734-4735-93f3-0fee0e49bd93",
   "metadata": {},
   "outputs": [
    {
     "data": {
      "text/plain": [
       "(58,)"
      ]
     },
     "execution_count": 1590,
     "metadata": {},
     "output_type": "execute_result"
    }
   ],
   "source": [
    "top_screens.shape"
   ]
  },
  {
   "cell_type": "code",
   "execution_count": 1591,
   "id": "d15029c5-29a4-450d-8aba-5637af9bafa7",
   "metadata": {},
   "outputs": [
    {
     "data": {
      "text/plain": [
       "array(['Loan2', 'location', 'Institutions', 'Credit3Container',\n",
       "       'VerifyPhone', 'BankVerification', 'VerifyDateOfBirth',\n",
       "       'ProfilePage', 'VerifyCountry', 'Cycle', 'idscreen',\n",
       "       'Credit3Dashboard', 'Loan3', 'CC1Category', 'Splash', 'Loan',\n",
       "       'CC1', 'RewardsContainer', 'Credit3', 'Credit1', 'EditProfile',\n",
       "       'Credit2', 'Finances', 'CC3', 'Saving9', 'Saving1', 'Alerts',\n",
       "       'Saving8', 'Saving10', 'Leaderboard', 'Saving4', 'VerifyMobile',\n",
       "       'VerifyHousing', 'RewardDetail', 'VerifyHousingAmount',\n",
       "       'ProfileMaritalStatus', 'ProfileChildren ', 'ProfileEducation',\n",
       "       'Saving7', 'ProfileEducationMajor', 'Rewards', 'AccountView',\n",
       "       'VerifyAnnualIncome', 'VerifyIncomeType', 'Saving2', 'Saving6',\n",
       "       'Saving2Amount', 'Saving5', 'ProfileJobTitle', 'Login',\n",
       "       'ProfileEmploymentLength', 'WebView', 'SecurityModal', 'Loan4',\n",
       "       'ResendToken', 'TransactionList', 'NetworkFailure', 'ListPicker'],\n",
       "      dtype=object)"
      ]
     },
     "execution_count": 1591,
     "metadata": {},
     "output_type": "execute_result"
    }
   ],
   "source": [
    "top_screens"
   ]
  },
  {
   "cell_type": "markdown",
   "id": "038143b7-66fe-4e8a-8881-81a92f89aeae",
   "metadata": {
    "tags": []
   },
   "source": [
    "## Mapping Screens to Fields"
   ]
  },
  {
   "cell_type": "code",
   "execution_count": 1592,
   "id": "88e769f0-4e1f-4a42-bd6b-d80afebf99fa",
   "metadata": {
    "tags": []
   },
   "outputs": [],
   "source": [
    "app_subscription_df[\"screen_list\"] = app_subscription_df.screen_list.astype(str) + ','\n",
    "\n",
    "for sc in top_screens:\n",
    "    app_subscription_df[sc] = app_subscription_df.screen_list.str.contains(sc).astype(int)\n",
    "    app_subscription_df['screen_list'] = app_subscription_df.screen_list.str.replace(sc+\",\", \"\")\n",
    "\n"
   ]
  },
  {
   "cell_type": "code",
   "execution_count": 1593,
   "id": "59d97e23-fcae-412e-9450-462ea4c0f620",
   "metadata": {},
   "outputs": [],
   "source": [
    "app_subscription_df['Other'] = app_subscription_df.screen_list.str.count(\",\")\n",
    "app_subscription_df = app_subscription_df.drop(columns=['screen_list'])"
   ]
  },
  {
   "cell_type": "markdown",
   "id": "ed000db3-3901-4505-994c-a476c443b02f",
   "metadata": {},
   "source": [
    "## Funnels"
   ]
  },
  {
   "cell_type": "markdown",
   "id": "4b8a4ab4-2337-4f30-bb99-f3be67504499",
   "metadata": {},
   "source": [
    "Funnels are group of screens that belong to same set. There are many screens that are correlated with eachother, and we don''t want correlated screens coz it's not good idea for the model"
   ]
  },
  {
   "cell_type": "code",
   "execution_count": 1594,
   "id": "2f555494-42bd-456d-bbe2-50ffadcd4eb5",
   "metadata": {},
   "outputs": [],
   "source": [
    " #(we will create the group of all screens that belong to the same set)"
   ]
  },
  {
   "cell_type": "code",
   "execution_count": 1595,
   "id": "7fd2833b-44d2-471a-a957-c59fe9aa43fd",
   "metadata": {},
   "outputs": [],
   "source": [
    "savings_screens = [\"Saving1\",\n",
    "                    \"Saving2\",\n",
    "                    \"Saving2Amount\",\n",
    "                    \"Saving4\",\n",
    "                    \"Saving5\",\n",
    "                    \"Saving6\",\n",
    "                    \"Saving7\",\n",
    "                    \"Saving8\",\n",
    "                    \"Saving9\",\"Saving10\"]\n",
    "app_subscription_df[\"SavingCount\"] = app_subscription_df[savings_screens].sum(axis=1)\n",
    "app_subscription_df = app_subscription_df.drop(columns=savings_screens)"
   ]
  },
  {
   "cell_type": "code",
   "execution_count": 1596,
   "id": "542aa250-dbd1-4c19-9d2f-9abec792b2a3",
   "metadata": {},
   "outputs": [],
   "source": [
    "cm_screens = [\"Credit1\",\n",
    "               \"Credit2\",\n",
    "               \"Credit3\",\n",
    "               \"Credit3Container\",\n",
    "               \"Credit3Dashboard\"]\n",
    "app_subscription_df[\"CMCount\"] = app_subscription_df[cm_screens].sum(axis=1)\n",
    "app_subscription_df = app_subscription_df.drop(columns=cm_screens)"
   ]
  },
  {
   "cell_type": "code",
   "execution_count": 1597,
   "id": "627ead2f-89ec-4370-8f8d-15f3ae6962c5",
   "metadata": {},
   "outputs": [],
   "source": [
    "cc_screens = [\"CC1\",\n",
    "                \"CC1Category\",\n",
    "                \"CC3\"]\n",
    "app_subscription_df[\"CCCount\"] = app_subscription_df[cc_screens].sum(axis=1)\n",
    "app_subscription_df = app_subscription_df.drop(columns=cc_screens)"
   ]
  },
  {
   "cell_type": "code",
   "execution_count": 1598,
   "id": "6957ea62-903d-424d-871d-ffd3f4211401",
   "metadata": {},
   "outputs": [],
   "source": [
    "loan_screens = [\"Loan\",\n",
    "               \"Loan2\",\n",
    "               \"Loan3\",\n",
    "               \"Loan4\"]\n",
    "app_subscription_df[\"LoansCount\"] = app_subscription_df[loan_screens].sum(axis=1)\n",
    "app_subscription_df = app_subscription_df.drop(columns=loan_screens)"
   ]
  },
  {
   "cell_type": "code",
   "execution_count": 1599,
   "id": "2f9e57be-bffa-4724-9bc5-5fcd81bc891f",
   "metadata": {},
   "outputs": [],
   "source": [
    "# Saving Results"
   ]
  },
  {
   "cell_type": "code",
   "execution_count": 1600,
   "id": "3a4702ad-1b94-4852-bcea-4e914d897db4",
   "metadata": {},
   "outputs": [
    {
     "data": {
      "text/html": [
       "<div>\n",
       "<style scoped>\n",
       "    .dataframe tbody tr th:only-of-type {\n",
       "        vertical-align: middle;\n",
       "    }\n",
       "\n",
       "    .dataframe tbody tr th {\n",
       "        vertical-align: top;\n",
       "    }\n",
       "\n",
       "    .dataframe thead th {\n",
       "        text-align: right;\n",
       "    }\n",
       "</style>\n",
       "<table border=\"1\" class=\"dataframe\">\n",
       "  <thead>\n",
       "    <tr style=\"text-align: right;\">\n",
       "      <th></th>\n",
       "      <th>user</th>\n",
       "      <th>dayofweek</th>\n",
       "      <th>hour</th>\n",
       "      <th>age</th>\n",
       "      <th>numscreens</th>\n",
       "      <th>minigame</th>\n",
       "      <th>used_premium_feature</th>\n",
       "      <th>enrolled</th>\n",
       "      <th>liked</th>\n",
       "      <th>location</th>\n",
       "      <th>Institutions</th>\n",
       "      <th>VerifyPhone</th>\n",
       "      <th>BankVerification</th>\n",
       "      <th>VerifyDateOfBirth</th>\n",
       "      <th>ProfilePage</th>\n",
       "      <th>VerifyCountry</th>\n",
       "      <th>Cycle</th>\n",
       "      <th>idscreen</th>\n",
       "      <th>Splash</th>\n",
       "      <th>RewardsContainer</th>\n",
       "      <th>EditProfile</th>\n",
       "      <th>Finances</th>\n",
       "      <th>Alerts</th>\n",
       "      <th>Leaderboard</th>\n",
       "      <th>VerifyMobile</th>\n",
       "      <th>VerifyHousing</th>\n",
       "      <th>RewardDetail</th>\n",
       "      <th>VerifyHousingAmount</th>\n",
       "      <th>ProfileMaritalStatus</th>\n",
       "      <th>ProfileChildren</th>\n",
       "      <th>ProfileEducation</th>\n",
       "      <th>ProfileEducationMajor</th>\n",
       "      <th>Rewards</th>\n",
       "      <th>AccountView</th>\n",
       "      <th>VerifyAnnualIncome</th>\n",
       "      <th>VerifyIncomeType</th>\n",
       "      <th>ProfileJobTitle</th>\n",
       "      <th>Login</th>\n",
       "      <th>ProfileEmploymentLength</th>\n",
       "      <th>WebView</th>\n",
       "      <th>SecurityModal</th>\n",
       "      <th>ResendToken</th>\n",
       "      <th>TransactionList</th>\n",
       "      <th>NetworkFailure</th>\n",
       "      <th>ListPicker</th>\n",
       "      <th>Other</th>\n",
       "      <th>SavingCount</th>\n",
       "      <th>CMCount</th>\n",
       "      <th>CCCount</th>\n",
       "      <th>LoansCount</th>\n",
       "    </tr>\n",
       "  </thead>\n",
       "  <tbody>\n",
       "    <tr>\n",
       "      <th>0</th>\n",
       "      <td>235136</td>\n",
       "      <td>3</td>\n",
       "      <td>2</td>\n",
       "      <td>23</td>\n",
       "      <td>15</td>\n",
       "      <td>0</td>\n",
       "      <td>0</td>\n",
       "      <td>0</td>\n",
       "      <td>0</td>\n",
       "      <td>0</td>\n",
       "      <td>0</td>\n",
       "      <td>1</td>\n",
       "      <td>0</td>\n",
       "      <td>1</td>\n",
       "      <td>0</td>\n",
       "      <td>0</td>\n",
       "      <td>1</td>\n",
       "      <td>1</td>\n",
       "      <td>0</td>\n",
       "      <td>0</td>\n",
       "      <td>0</td>\n",
       "      <td>0</td>\n",
       "      <td>0</td>\n",
       "      <td>0</td>\n",
       "      <td>0</td>\n",
       "      <td>0</td>\n",
       "      <td>0</td>\n",
       "      <td>0</td>\n",
       "      <td>0</td>\n",
       "      <td>0</td>\n",
       "      <td>0</td>\n",
       "      <td>0</td>\n",
       "      <td>0</td>\n",
       "      <td>0</td>\n",
       "      <td>0</td>\n",
       "      <td>0</td>\n",
       "      <td>0</td>\n",
       "      <td>1</td>\n",
       "      <td>0</td>\n",
       "      <td>0</td>\n",
       "      <td>0</td>\n",
       "      <td>0</td>\n",
       "      <td>0</td>\n",
       "      <td>0</td>\n",
       "      <td>0</td>\n",
       "      <td>7</td>\n",
       "      <td>0</td>\n",
       "      <td>0</td>\n",
       "      <td>0</td>\n",
       "      <td>1</td>\n",
       "    </tr>\n",
       "    <tr>\n",
       "      <th>1</th>\n",
       "      <td>333588</td>\n",
       "      <td>6</td>\n",
       "      <td>1</td>\n",
       "      <td>24</td>\n",
       "      <td>13</td>\n",
       "      <td>0</td>\n",
       "      <td>0</td>\n",
       "      <td>0</td>\n",
       "      <td>0</td>\n",
       "      <td>1</td>\n",
       "      <td>1</td>\n",
       "      <td>1</td>\n",
       "      <td>0</td>\n",
       "      <td>1</td>\n",
       "      <td>0</td>\n",
       "      <td>1</td>\n",
       "      <td>0</td>\n",
       "      <td>0</td>\n",
       "      <td>0</td>\n",
       "      <td>0</td>\n",
       "      <td>0</td>\n",
       "      <td>0</td>\n",
       "      <td>0</td>\n",
       "      <td>0</td>\n",
       "      <td>0</td>\n",
       "      <td>0</td>\n",
       "      <td>0</td>\n",
       "      <td>0</td>\n",
       "      <td>0</td>\n",
       "      <td>0</td>\n",
       "      <td>0</td>\n",
       "      <td>0</td>\n",
       "      <td>0</td>\n",
       "      <td>0</td>\n",
       "      <td>0</td>\n",
       "      <td>0</td>\n",
       "      <td>0</td>\n",
       "      <td>0</td>\n",
       "      <td>0</td>\n",
       "      <td>0</td>\n",
       "      <td>0</td>\n",
       "      <td>0</td>\n",
       "      <td>0</td>\n",
       "      <td>0</td>\n",
       "      <td>0</td>\n",
       "      <td>5</td>\n",
       "      <td>0</td>\n",
       "      <td>0</td>\n",
       "      <td>0</td>\n",
       "      <td>1</td>\n",
       "    </tr>\n",
       "    <tr>\n",
       "      <th>2</th>\n",
       "      <td>254414</td>\n",
       "      <td>1</td>\n",
       "      <td>19</td>\n",
       "      <td>23</td>\n",
       "      <td>3</td>\n",
       "      <td>0</td>\n",
       "      <td>1</td>\n",
       "      <td>0</td>\n",
       "      <td>1</td>\n",
       "      <td>0</td>\n",
       "      <td>0</td>\n",
       "      <td>0</td>\n",
       "      <td>0</td>\n",
       "      <td>0</td>\n",
       "      <td>0</td>\n",
       "      <td>0</td>\n",
       "      <td>1</td>\n",
       "      <td>0</td>\n",
       "      <td>1</td>\n",
       "      <td>0</td>\n",
       "      <td>0</td>\n",
       "      <td>0</td>\n",
       "      <td>0</td>\n",
       "      <td>0</td>\n",
       "      <td>0</td>\n",
       "      <td>0</td>\n",
       "      <td>0</td>\n",
       "      <td>0</td>\n",
       "      <td>0</td>\n",
       "      <td>0</td>\n",
       "      <td>0</td>\n",
       "      <td>0</td>\n",
       "      <td>0</td>\n",
       "      <td>0</td>\n",
       "      <td>0</td>\n",
       "      <td>0</td>\n",
       "      <td>0</td>\n",
       "      <td>0</td>\n",
       "      <td>0</td>\n",
       "      <td>0</td>\n",
       "      <td>0</td>\n",
       "      <td>0</td>\n",
       "      <td>0</td>\n",
       "      <td>0</td>\n",
       "      <td>0</td>\n",
       "      <td>0</td>\n",
       "      <td>0</td>\n",
       "      <td>0</td>\n",
       "      <td>0</td>\n",
       "      <td>1</td>\n",
       "    </tr>\n",
       "    <tr>\n",
       "      <th>3</th>\n",
       "      <td>234192</td>\n",
       "      <td>4</td>\n",
       "      <td>16</td>\n",
       "      <td>28</td>\n",
       "      <td>40</td>\n",
       "      <td>0</td>\n",
       "      <td>0</td>\n",
       "      <td>1</td>\n",
       "      <td>0</td>\n",
       "      <td>1</td>\n",
       "      <td>0</td>\n",
       "      <td>1</td>\n",
       "      <td>0</td>\n",
       "      <td>1</td>\n",
       "      <td>0</td>\n",
       "      <td>0</td>\n",
       "      <td>0</td>\n",
       "      <td>0</td>\n",
       "      <td>0</td>\n",
       "      <td>0</td>\n",
       "      <td>0</td>\n",
       "      <td>1</td>\n",
       "      <td>0</td>\n",
       "      <td>1</td>\n",
       "      <td>0</td>\n",
       "      <td>0</td>\n",
       "      <td>1</td>\n",
       "      <td>0</td>\n",
       "      <td>0</td>\n",
       "      <td>0</td>\n",
       "      <td>0</td>\n",
       "      <td>0</td>\n",
       "      <td>1</td>\n",
       "      <td>0</td>\n",
       "      <td>0</td>\n",
       "      <td>0</td>\n",
       "      <td>0</td>\n",
       "      <td>0</td>\n",
       "      <td>0</td>\n",
       "      <td>0</td>\n",
       "      <td>0</td>\n",
       "      <td>0</td>\n",
       "      <td>0</td>\n",
       "      <td>0</td>\n",
       "      <td>0</td>\n",
       "      <td>6</td>\n",
       "      <td>0</td>\n",
       "      <td>3</td>\n",
       "      <td>0</td>\n",
       "      <td>1</td>\n",
       "    </tr>\n",
       "    <tr>\n",
       "      <th>4</th>\n",
       "      <td>51549</td>\n",
       "      <td>1</td>\n",
       "      <td>18</td>\n",
       "      <td>31</td>\n",
       "      <td>32</td>\n",
       "      <td>0</td>\n",
       "      <td>0</td>\n",
       "      <td>1</td>\n",
       "      <td>1</td>\n",
       "      <td>0</td>\n",
       "      <td>1</td>\n",
       "      <td>1</td>\n",
       "      <td>1</td>\n",
       "      <td>0</td>\n",
       "      <td>0</td>\n",
       "      <td>1</td>\n",
       "      <td>1</td>\n",
       "      <td>1</td>\n",
       "      <td>0</td>\n",
       "      <td>0</td>\n",
       "      <td>0</td>\n",
       "      <td>0</td>\n",
       "      <td>0</td>\n",
       "      <td>0</td>\n",
       "      <td>0</td>\n",
       "      <td>0</td>\n",
       "      <td>0</td>\n",
       "      <td>0</td>\n",
       "      <td>0</td>\n",
       "      <td>0</td>\n",
       "      <td>0</td>\n",
       "      <td>0</td>\n",
       "      <td>0</td>\n",
       "      <td>0</td>\n",
       "      <td>0</td>\n",
       "      <td>0</td>\n",
       "      <td>0</td>\n",
       "      <td>0</td>\n",
       "      <td>0</td>\n",
       "      <td>0</td>\n",
       "      <td>0</td>\n",
       "      <td>0</td>\n",
       "      <td>0</td>\n",
       "      <td>0</td>\n",
       "      <td>0</td>\n",
       "      <td>10</td>\n",
       "      <td>0</td>\n",
       "      <td>2</td>\n",
       "      <td>0</td>\n",
       "      <td>1</td>\n",
       "    </tr>\n",
       "  </tbody>\n",
       "</table>\n",
       "</div>"
      ],
      "text/plain": [
       "     user  dayofweek  hour  age  numscreens  minigame  used_premium_feature  \\\n",
       "0  235136          3     2   23          15         0                     0   \n",
       "1  333588          6     1   24          13         0                     0   \n",
       "2  254414          1    19   23           3         0                     1   \n",
       "3  234192          4    16   28          40         0                     0   \n",
       "4   51549          1    18   31          32         0                     0   \n",
       "\n",
       "   enrolled  liked  location  Institutions  VerifyPhone  BankVerification  \\\n",
       "0         0      0         0             0            1                 0   \n",
       "1         0      0         1             1            1                 0   \n",
       "2         0      1         0             0            0                 0   \n",
       "3         1      0         1             0            1                 0   \n",
       "4         1      1         0             1            1                 1   \n",
       "\n",
       "   VerifyDateOfBirth  ProfilePage  VerifyCountry  Cycle  idscreen  Splash  \\\n",
       "0                  1            0              0      1         1       0   \n",
       "1                  1            0              1      0         0       0   \n",
       "2                  0            0              0      1         0       1   \n",
       "3                  1            0              0      0         0       0   \n",
       "4                  0            0              1      1         1       0   \n",
       "\n",
       "   RewardsContainer  EditProfile  Finances  Alerts  Leaderboard  VerifyMobile  \\\n",
       "0                 0            0         0       0            0             0   \n",
       "1                 0            0         0       0            0             0   \n",
       "2                 0            0         0       0            0             0   \n",
       "3                 0            0         1       0            1             0   \n",
       "4                 0            0         0       0            0             0   \n",
       "\n",
       "   VerifyHousing  RewardDetail  VerifyHousingAmount  ProfileMaritalStatus  \\\n",
       "0              0             0                    0                     0   \n",
       "1              0             0                    0                     0   \n",
       "2              0             0                    0                     0   \n",
       "3              0             1                    0                     0   \n",
       "4              0             0                    0                     0   \n",
       "\n",
       "   ProfileChildren   ProfileEducation  ProfileEducationMajor  Rewards  \\\n",
       "0                 0                 0                      0        0   \n",
       "1                 0                 0                      0        0   \n",
       "2                 0                 0                      0        0   \n",
       "3                 0                 0                      0        1   \n",
       "4                 0                 0                      0        0   \n",
       "\n",
       "   AccountView  VerifyAnnualIncome  VerifyIncomeType  ProfileJobTitle  Login  \\\n",
       "0            0                   0                 0                0      1   \n",
       "1            0                   0                 0                0      0   \n",
       "2            0                   0                 0                0      0   \n",
       "3            0                   0                 0                0      0   \n",
       "4            0                   0                 0                0      0   \n",
       "\n",
       "   ProfileEmploymentLength  WebView  SecurityModal  ResendToken  \\\n",
       "0                        0        0              0            0   \n",
       "1                        0        0              0            0   \n",
       "2                        0        0              0            0   \n",
       "3                        0        0              0            0   \n",
       "4                        0        0              0            0   \n",
       "\n",
       "   TransactionList  NetworkFailure  ListPicker  Other  SavingCount  CMCount  \\\n",
       "0                0               0           0      7            0        0   \n",
       "1                0               0           0      5            0        0   \n",
       "2                0               0           0      0            0        0   \n",
       "3                0               0           0      6            0        3   \n",
       "4                0               0           0     10            0        2   \n",
       "\n",
       "   CCCount  LoansCount  \n",
       "0        0           1  \n",
       "1        0           1  \n",
       "2        0           1  \n",
       "3        0           1  \n",
       "4        0           1  "
      ]
     },
     "execution_count": 1600,
     "metadata": {},
     "output_type": "execute_result"
    }
   ],
   "source": [
    "app_subscription_df.head()"
   ]
  },
  {
   "cell_type": "code",
   "execution_count": 1601,
   "id": "87a36a3d-4804-4bb1-b382-a6811e0f6ad1",
   "metadata": {},
   "outputs": [
    {
     "data": {
      "text/plain": [
       "user                       int64\n",
       "dayofweek                  int64\n",
       "hour                       int64\n",
       "age                        int64\n",
       "numscreens                 int64\n",
       "minigame                   int64\n",
       "used_premium_feature       int64\n",
       "enrolled                   int64\n",
       "liked                      int64\n",
       "location                   int64\n",
       "Institutions               int64\n",
       "VerifyPhone                int64\n",
       "BankVerification           int64\n",
       "VerifyDateOfBirth          int64\n",
       "ProfilePage                int64\n",
       "VerifyCountry              int64\n",
       "Cycle                      int64\n",
       "idscreen                   int64\n",
       "Splash                     int64\n",
       "RewardsContainer           int64\n",
       "EditProfile                int64\n",
       "Finances                   int64\n",
       "Alerts                     int64\n",
       "Leaderboard                int64\n",
       "VerifyMobile               int64\n",
       "VerifyHousing              int64\n",
       "RewardDetail               int64\n",
       "VerifyHousingAmount        int64\n",
       "ProfileMaritalStatus       int64\n",
       "ProfileChildren            int64\n",
       "ProfileEducation           int64\n",
       "ProfileEducationMajor      int64\n",
       "Rewards                    int64\n",
       "AccountView                int64\n",
       "VerifyAnnualIncome         int64\n",
       "VerifyIncomeType           int64\n",
       "ProfileJobTitle            int64\n",
       "Login                      int64\n",
       "ProfileEmploymentLength    int64\n",
       "WebView                    int64\n",
       "SecurityModal              int64\n",
       "ResendToken                int64\n",
       "TransactionList            int64\n",
       "NetworkFailure             int64\n",
       "ListPicker                 int64\n",
       "Other                      int64\n",
       "SavingCount                int64\n",
       "CMCount                    int64\n",
       "CCCount                    int64\n",
       "LoansCount                 int64\n",
       "dtype: object"
      ]
     },
     "execution_count": 1601,
     "metadata": {},
     "output_type": "execute_result"
    }
   ],
   "source": [
    "app_subscription_df.dtypes"
   ]
  },
  {
   "cell_type": "code",
   "execution_count": 1602,
   "id": "981b0c14-d61f-4d54-a859-44d90ca6f8cc",
   "metadata": {},
   "outputs": [
    {
     "data": {
      "text/html": [
       "<div>\n",
       "<style scoped>\n",
       "    .dataframe tbody tr th:only-of-type {\n",
       "        vertical-align: middle;\n",
       "    }\n",
       "\n",
       "    .dataframe tbody tr th {\n",
       "        vertical-align: top;\n",
       "    }\n",
       "\n",
       "    .dataframe thead th {\n",
       "        text-align: right;\n",
       "    }\n",
       "</style>\n",
       "<table border=\"1\" class=\"dataframe\">\n",
       "  <thead>\n",
       "    <tr style=\"text-align: right;\">\n",
       "      <th></th>\n",
       "      <th>user</th>\n",
       "      <th>dayofweek</th>\n",
       "      <th>hour</th>\n",
       "      <th>age</th>\n",
       "      <th>numscreens</th>\n",
       "      <th>minigame</th>\n",
       "      <th>used_premium_feature</th>\n",
       "      <th>enrolled</th>\n",
       "      <th>liked</th>\n",
       "      <th>location</th>\n",
       "      <th>Institutions</th>\n",
       "      <th>VerifyPhone</th>\n",
       "      <th>BankVerification</th>\n",
       "      <th>VerifyDateOfBirth</th>\n",
       "      <th>ProfilePage</th>\n",
       "      <th>VerifyCountry</th>\n",
       "      <th>Cycle</th>\n",
       "      <th>idscreen</th>\n",
       "      <th>Splash</th>\n",
       "      <th>RewardsContainer</th>\n",
       "      <th>EditProfile</th>\n",
       "      <th>Finances</th>\n",
       "      <th>Alerts</th>\n",
       "      <th>Leaderboard</th>\n",
       "      <th>VerifyMobile</th>\n",
       "      <th>VerifyHousing</th>\n",
       "      <th>RewardDetail</th>\n",
       "      <th>VerifyHousingAmount</th>\n",
       "      <th>ProfileMaritalStatus</th>\n",
       "      <th>ProfileChildren</th>\n",
       "      <th>ProfileEducation</th>\n",
       "      <th>ProfileEducationMajor</th>\n",
       "      <th>Rewards</th>\n",
       "      <th>AccountView</th>\n",
       "      <th>VerifyAnnualIncome</th>\n",
       "      <th>VerifyIncomeType</th>\n",
       "      <th>ProfileJobTitle</th>\n",
       "      <th>Login</th>\n",
       "      <th>ProfileEmploymentLength</th>\n",
       "      <th>WebView</th>\n",
       "      <th>SecurityModal</th>\n",
       "      <th>ResendToken</th>\n",
       "      <th>TransactionList</th>\n",
       "      <th>NetworkFailure</th>\n",
       "      <th>ListPicker</th>\n",
       "      <th>Other</th>\n",
       "      <th>SavingCount</th>\n",
       "      <th>CMCount</th>\n",
       "      <th>CCCount</th>\n",
       "      <th>LoansCount</th>\n",
       "    </tr>\n",
       "  </thead>\n",
       "  <tbody>\n",
       "    <tr>\n",
       "      <th>count</th>\n",
       "      <td>50000.000000</td>\n",
       "      <td>50000.000000</td>\n",
       "      <td>50000.000000</td>\n",
       "      <td>50000.00000</td>\n",
       "      <td>50000.000000</td>\n",
       "      <td>50000.000000</td>\n",
       "      <td>50000.000000</td>\n",
       "      <td>50000.000000</td>\n",
       "      <td>50000.000000</td>\n",
       "      <td>50000.000000</td>\n",
       "      <td>50000.000000</td>\n",
       "      <td>50000.000000</td>\n",
       "      <td>50000.000000</td>\n",
       "      <td>50000.000000</td>\n",
       "      <td>50000.000000</td>\n",
       "      <td>50000.000000</td>\n",
       "      <td>50000.000000</td>\n",
       "      <td>50000.000000</td>\n",
       "      <td>50000.000000</td>\n",
       "      <td>50000.000000</td>\n",
       "      <td>50000.000000</td>\n",
       "      <td>50000.000000</td>\n",
       "      <td>50000.000000</td>\n",
       "      <td>50000.000000</td>\n",
       "      <td>50000.000000</td>\n",
       "      <td>50000.000000</td>\n",
       "      <td>50000.000000</td>\n",
       "      <td>50000.000000</td>\n",
       "      <td>50000.000000</td>\n",
       "      <td>50000.0</td>\n",
       "      <td>50000.0000</td>\n",
       "      <td>50000.000000</td>\n",
       "      <td>50000.000000</td>\n",
       "      <td>50000.000000</td>\n",
       "      <td>50000.000000</td>\n",
       "      <td>50000.000000</td>\n",
       "      <td>50000.000000</td>\n",
       "      <td>50000.000000</td>\n",
       "      <td>50000.000000</td>\n",
       "      <td>50000.000000</td>\n",
       "      <td>50000.000000</td>\n",
       "      <td>50000.000000</td>\n",
       "      <td>50000.000000</td>\n",
       "      <td>50000.000000</td>\n",
       "      <td>50000.000000</td>\n",
       "      <td>50000.000000</td>\n",
       "      <td>50000.000000</td>\n",
       "      <td>50000.00000</td>\n",
       "      <td>50000.000000</td>\n",
       "      <td>50000.000000</td>\n",
       "    </tr>\n",
       "    <tr>\n",
       "      <th>mean</th>\n",
       "      <td>186889.729900</td>\n",
       "      <td>3.029860</td>\n",
       "      <td>12.557220</td>\n",
       "      <td>31.72436</td>\n",
       "      <td>21.095900</td>\n",
       "      <td>0.107820</td>\n",
       "      <td>0.172020</td>\n",
       "      <td>0.495740</td>\n",
       "      <td>0.165000</td>\n",
       "      <td>0.517760</td>\n",
       "      <td>0.293660</td>\n",
       "      <td>0.524600</td>\n",
       "      <td>0.319540</td>\n",
       "      <td>0.473480</td>\n",
       "      <td>0.158040</td>\n",
       "      <td>0.423160</td>\n",
       "      <td>0.364860</td>\n",
       "      <td>0.340700</td>\n",
       "      <td>0.200760</td>\n",
       "      <td>0.084000</td>\n",
       "      <td>0.048980</td>\n",
       "      <td>0.076540</td>\n",
       "      <td>0.073720</td>\n",
       "      <td>0.051520</td>\n",
       "      <td>0.053860</td>\n",
       "      <td>0.045080</td>\n",
       "      <td>0.030920</td>\n",
       "      <td>0.041420</td>\n",
       "      <td>0.047560</td>\n",
       "      <td>0.0</td>\n",
       "      <td>0.0455</td>\n",
       "      <td>0.041060</td>\n",
       "      <td>0.024420</td>\n",
       "      <td>0.026220</td>\n",
       "      <td>0.023580</td>\n",
       "      <td>0.031760</td>\n",
       "      <td>0.022460</td>\n",
       "      <td>0.029800</td>\n",
       "      <td>0.021160</td>\n",
       "      <td>0.096560</td>\n",
       "      <td>0.014220</td>\n",
       "      <td>0.013340</td>\n",
       "      <td>0.013400</td>\n",
       "      <td>0.008200</td>\n",
       "      <td>0.007580</td>\n",
       "      <td>6.214260</td>\n",
       "      <td>0.365020</td>\n",
       "      <td>0.92776</td>\n",
       "      <td>0.176860</td>\n",
       "      <td>0.788400</td>\n",
       "    </tr>\n",
       "    <tr>\n",
       "      <th>std</th>\n",
       "      <td>107768.520361</td>\n",
       "      <td>2.031997</td>\n",
       "      <td>7.438072</td>\n",
       "      <td>10.80331</td>\n",
       "      <td>15.728812</td>\n",
       "      <td>0.310156</td>\n",
       "      <td>0.377402</td>\n",
       "      <td>0.499987</td>\n",
       "      <td>0.371184</td>\n",
       "      <td>0.499689</td>\n",
       "      <td>0.455443</td>\n",
       "      <td>0.499399</td>\n",
       "      <td>0.466303</td>\n",
       "      <td>0.499301</td>\n",
       "      <td>0.364782</td>\n",
       "      <td>0.494065</td>\n",
       "      <td>0.481396</td>\n",
       "      <td>0.473949</td>\n",
       "      <td>0.400573</td>\n",
       "      <td>0.277391</td>\n",
       "      <td>0.215828</td>\n",
       "      <td>0.265863</td>\n",
       "      <td>0.261317</td>\n",
       "      <td>0.221058</td>\n",
       "      <td>0.225743</td>\n",
       "      <td>0.207482</td>\n",
       "      <td>0.173103</td>\n",
       "      <td>0.199262</td>\n",
       "      <td>0.212836</td>\n",
       "      <td>0.0</td>\n",
       "      <td>0.2084</td>\n",
       "      <td>0.198431</td>\n",
       "      <td>0.154351</td>\n",
       "      <td>0.159791</td>\n",
       "      <td>0.151738</td>\n",
       "      <td>0.175362</td>\n",
       "      <td>0.148176</td>\n",
       "      <td>0.170037</td>\n",
       "      <td>0.143919</td>\n",
       "      <td>0.295361</td>\n",
       "      <td>0.118398</td>\n",
       "      <td>0.114727</td>\n",
       "      <td>0.114981</td>\n",
       "      <td>0.090183</td>\n",
       "      <td>0.086733</td>\n",
       "      <td>3.672561</td>\n",
       "      <td>1.405511</td>\n",
       "      <td>1.21751</td>\n",
       "      <td>0.612787</td>\n",
       "      <td>0.677462</td>\n",
       "    </tr>\n",
       "    <tr>\n",
       "      <th>min</th>\n",
       "      <td>13.000000</td>\n",
       "      <td>0.000000</td>\n",
       "      <td>0.000000</td>\n",
       "      <td>16.00000</td>\n",
       "      <td>1.000000</td>\n",
       "      <td>0.000000</td>\n",
       "      <td>0.000000</td>\n",
       "      <td>0.000000</td>\n",
       "      <td>0.000000</td>\n",
       "      <td>0.000000</td>\n",
       "      <td>0.000000</td>\n",
       "      <td>0.000000</td>\n",
       "      <td>0.000000</td>\n",
       "      <td>0.000000</td>\n",
       "      <td>0.000000</td>\n",
       "      <td>0.000000</td>\n",
       "      <td>0.000000</td>\n",
       "      <td>0.000000</td>\n",
       "      <td>0.000000</td>\n",
       "      <td>0.000000</td>\n",
       "      <td>0.000000</td>\n",
       "      <td>0.000000</td>\n",
       "      <td>0.000000</td>\n",
       "      <td>0.000000</td>\n",
       "      <td>0.000000</td>\n",
       "      <td>0.000000</td>\n",
       "      <td>0.000000</td>\n",
       "      <td>0.000000</td>\n",
       "      <td>0.000000</td>\n",
       "      <td>0.0</td>\n",
       "      <td>0.0000</td>\n",
       "      <td>0.000000</td>\n",
       "      <td>0.000000</td>\n",
       "      <td>0.000000</td>\n",
       "      <td>0.000000</td>\n",
       "      <td>0.000000</td>\n",
       "      <td>0.000000</td>\n",
       "      <td>0.000000</td>\n",
       "      <td>0.000000</td>\n",
       "      <td>0.000000</td>\n",
       "      <td>0.000000</td>\n",
       "      <td>0.000000</td>\n",
       "      <td>0.000000</td>\n",
       "      <td>0.000000</td>\n",
       "      <td>0.000000</td>\n",
       "      <td>0.000000</td>\n",
       "      <td>0.000000</td>\n",
       "      <td>0.00000</td>\n",
       "      <td>0.000000</td>\n",
       "      <td>0.000000</td>\n",
       "    </tr>\n",
       "    <tr>\n",
       "      <th>25%</th>\n",
       "      <td>93526.750000</td>\n",
       "      <td>1.000000</td>\n",
       "      <td>5.000000</td>\n",
       "      <td>24.00000</td>\n",
       "      <td>10.000000</td>\n",
       "      <td>0.000000</td>\n",
       "      <td>0.000000</td>\n",
       "      <td>0.000000</td>\n",
       "      <td>0.000000</td>\n",
       "      <td>0.000000</td>\n",
       "      <td>0.000000</td>\n",
       "      <td>0.000000</td>\n",
       "      <td>0.000000</td>\n",
       "      <td>0.000000</td>\n",
       "      <td>0.000000</td>\n",
       "      <td>0.000000</td>\n",
       "      <td>0.000000</td>\n",
       "      <td>0.000000</td>\n",
       "      <td>0.000000</td>\n",
       "      <td>0.000000</td>\n",
       "      <td>0.000000</td>\n",
       "      <td>0.000000</td>\n",
       "      <td>0.000000</td>\n",
       "      <td>0.000000</td>\n",
       "      <td>0.000000</td>\n",
       "      <td>0.000000</td>\n",
       "      <td>0.000000</td>\n",
       "      <td>0.000000</td>\n",
       "      <td>0.000000</td>\n",
       "      <td>0.0</td>\n",
       "      <td>0.0000</td>\n",
       "      <td>0.000000</td>\n",
       "      <td>0.000000</td>\n",
       "      <td>0.000000</td>\n",
       "      <td>0.000000</td>\n",
       "      <td>0.000000</td>\n",
       "      <td>0.000000</td>\n",
       "      <td>0.000000</td>\n",
       "      <td>0.000000</td>\n",
       "      <td>0.000000</td>\n",
       "      <td>0.000000</td>\n",
       "      <td>0.000000</td>\n",
       "      <td>0.000000</td>\n",
       "      <td>0.000000</td>\n",
       "      <td>0.000000</td>\n",
       "      <td>3.000000</td>\n",
       "      <td>0.000000</td>\n",
       "      <td>0.00000</td>\n",
       "      <td>0.000000</td>\n",
       "      <td>0.000000</td>\n",
       "    </tr>\n",
       "    <tr>\n",
       "      <th>50%</th>\n",
       "      <td>187193.500000</td>\n",
       "      <td>3.000000</td>\n",
       "      <td>14.000000</td>\n",
       "      <td>29.00000</td>\n",
       "      <td>18.000000</td>\n",
       "      <td>0.000000</td>\n",
       "      <td>0.000000</td>\n",
       "      <td>0.000000</td>\n",
       "      <td>0.000000</td>\n",
       "      <td>1.000000</td>\n",
       "      <td>0.000000</td>\n",
       "      <td>1.000000</td>\n",
       "      <td>0.000000</td>\n",
       "      <td>0.000000</td>\n",
       "      <td>0.000000</td>\n",
       "      <td>0.000000</td>\n",
       "      <td>0.000000</td>\n",
       "      <td>0.000000</td>\n",
       "      <td>0.000000</td>\n",
       "      <td>0.000000</td>\n",
       "      <td>0.000000</td>\n",
       "      <td>0.000000</td>\n",
       "      <td>0.000000</td>\n",
       "      <td>0.000000</td>\n",
       "      <td>0.000000</td>\n",
       "      <td>0.000000</td>\n",
       "      <td>0.000000</td>\n",
       "      <td>0.000000</td>\n",
       "      <td>0.000000</td>\n",
       "      <td>0.0</td>\n",
       "      <td>0.0000</td>\n",
       "      <td>0.000000</td>\n",
       "      <td>0.000000</td>\n",
       "      <td>0.000000</td>\n",
       "      <td>0.000000</td>\n",
       "      <td>0.000000</td>\n",
       "      <td>0.000000</td>\n",
       "      <td>0.000000</td>\n",
       "      <td>0.000000</td>\n",
       "      <td>0.000000</td>\n",
       "      <td>0.000000</td>\n",
       "      <td>0.000000</td>\n",
       "      <td>0.000000</td>\n",
       "      <td>0.000000</td>\n",
       "      <td>0.000000</td>\n",
       "      <td>6.000000</td>\n",
       "      <td>0.000000</td>\n",
       "      <td>0.00000</td>\n",
       "      <td>0.000000</td>\n",
       "      <td>1.000000</td>\n",
       "    </tr>\n",
       "    <tr>\n",
       "      <th>75%</th>\n",
       "      <td>279984.250000</td>\n",
       "      <td>5.000000</td>\n",
       "      <td>19.000000</td>\n",
       "      <td>37.00000</td>\n",
       "      <td>28.000000</td>\n",
       "      <td>0.000000</td>\n",
       "      <td>0.000000</td>\n",
       "      <td>1.000000</td>\n",
       "      <td>0.000000</td>\n",
       "      <td>1.000000</td>\n",
       "      <td>1.000000</td>\n",
       "      <td>1.000000</td>\n",
       "      <td>1.000000</td>\n",
       "      <td>1.000000</td>\n",
       "      <td>0.000000</td>\n",
       "      <td>1.000000</td>\n",
       "      <td>1.000000</td>\n",
       "      <td>1.000000</td>\n",
       "      <td>0.000000</td>\n",
       "      <td>0.000000</td>\n",
       "      <td>0.000000</td>\n",
       "      <td>0.000000</td>\n",
       "      <td>0.000000</td>\n",
       "      <td>0.000000</td>\n",
       "      <td>0.000000</td>\n",
       "      <td>0.000000</td>\n",
       "      <td>0.000000</td>\n",
       "      <td>0.000000</td>\n",
       "      <td>0.000000</td>\n",
       "      <td>0.0</td>\n",
       "      <td>0.0000</td>\n",
       "      <td>0.000000</td>\n",
       "      <td>0.000000</td>\n",
       "      <td>0.000000</td>\n",
       "      <td>0.000000</td>\n",
       "      <td>0.000000</td>\n",
       "      <td>0.000000</td>\n",
       "      <td>0.000000</td>\n",
       "      <td>0.000000</td>\n",
       "      <td>0.000000</td>\n",
       "      <td>0.000000</td>\n",
       "      <td>0.000000</td>\n",
       "      <td>0.000000</td>\n",
       "      <td>0.000000</td>\n",
       "      <td>0.000000</td>\n",
       "      <td>8.000000</td>\n",
       "      <td>0.000000</td>\n",
       "      <td>1.00000</td>\n",
       "      <td>0.000000</td>\n",
       "      <td>1.000000</td>\n",
       "    </tr>\n",
       "    <tr>\n",
       "      <th>max</th>\n",
       "      <td>373662.000000</td>\n",
       "      <td>6.000000</td>\n",
       "      <td>23.000000</td>\n",
       "      <td>101.00000</td>\n",
       "      <td>325.000000</td>\n",
       "      <td>1.000000</td>\n",
       "      <td>1.000000</td>\n",
       "      <td>1.000000</td>\n",
       "      <td>1.000000</td>\n",
       "      <td>1.000000</td>\n",
       "      <td>1.000000</td>\n",
       "      <td>1.000000</td>\n",
       "      <td>1.000000</td>\n",
       "      <td>1.000000</td>\n",
       "      <td>1.000000</td>\n",
       "      <td>1.000000</td>\n",
       "      <td>1.000000</td>\n",
       "      <td>1.000000</td>\n",
       "      <td>1.000000</td>\n",
       "      <td>1.000000</td>\n",
       "      <td>1.000000</td>\n",
       "      <td>1.000000</td>\n",
       "      <td>1.000000</td>\n",
       "      <td>1.000000</td>\n",
       "      <td>1.000000</td>\n",
       "      <td>1.000000</td>\n",
       "      <td>1.000000</td>\n",
       "      <td>1.000000</td>\n",
       "      <td>1.000000</td>\n",
       "      <td>0.0</td>\n",
       "      <td>1.0000</td>\n",
       "      <td>1.000000</td>\n",
       "      <td>1.000000</td>\n",
       "      <td>1.000000</td>\n",
       "      <td>1.000000</td>\n",
       "      <td>1.000000</td>\n",
       "      <td>1.000000</td>\n",
       "      <td>1.000000</td>\n",
       "      <td>1.000000</td>\n",
       "      <td>1.000000</td>\n",
       "      <td>1.000000</td>\n",
       "      <td>1.000000</td>\n",
       "      <td>1.000000</td>\n",
       "      <td>1.000000</td>\n",
       "      <td>1.000000</td>\n",
       "      <td>35.000000</td>\n",
       "      <td>10.000000</td>\n",
       "      <td>5.00000</td>\n",
       "      <td>3.000000</td>\n",
       "      <td>3.000000</td>\n",
       "    </tr>\n",
       "  </tbody>\n",
       "</table>\n",
       "</div>"
      ],
      "text/plain": [
       "                user     dayofweek          hour          age    numscreens  \\\n",
       "count   50000.000000  50000.000000  50000.000000  50000.00000  50000.000000   \n",
       "mean   186889.729900      3.029860     12.557220     31.72436     21.095900   \n",
       "std    107768.520361      2.031997      7.438072     10.80331     15.728812   \n",
       "min        13.000000      0.000000      0.000000     16.00000      1.000000   \n",
       "25%     93526.750000      1.000000      5.000000     24.00000     10.000000   \n",
       "50%    187193.500000      3.000000     14.000000     29.00000     18.000000   \n",
       "75%    279984.250000      5.000000     19.000000     37.00000     28.000000   \n",
       "max    373662.000000      6.000000     23.000000    101.00000    325.000000   \n",
       "\n",
       "           minigame  used_premium_feature      enrolled         liked  \\\n",
       "count  50000.000000          50000.000000  50000.000000  50000.000000   \n",
       "mean       0.107820              0.172020      0.495740      0.165000   \n",
       "std        0.310156              0.377402      0.499987      0.371184   \n",
       "min        0.000000              0.000000      0.000000      0.000000   \n",
       "25%        0.000000              0.000000      0.000000      0.000000   \n",
       "50%        0.000000              0.000000      0.000000      0.000000   \n",
       "75%        0.000000              0.000000      1.000000      0.000000   \n",
       "max        1.000000              1.000000      1.000000      1.000000   \n",
       "\n",
       "           location  Institutions   VerifyPhone  BankVerification  \\\n",
       "count  50000.000000  50000.000000  50000.000000      50000.000000   \n",
       "mean       0.517760      0.293660      0.524600          0.319540   \n",
       "std        0.499689      0.455443      0.499399          0.466303   \n",
       "min        0.000000      0.000000      0.000000          0.000000   \n",
       "25%        0.000000      0.000000      0.000000          0.000000   \n",
       "50%        1.000000      0.000000      1.000000          0.000000   \n",
       "75%        1.000000      1.000000      1.000000          1.000000   \n",
       "max        1.000000      1.000000      1.000000          1.000000   \n",
       "\n",
       "       VerifyDateOfBirth   ProfilePage  VerifyCountry         Cycle  \\\n",
       "count       50000.000000  50000.000000   50000.000000  50000.000000   \n",
       "mean            0.473480      0.158040       0.423160      0.364860   \n",
       "std             0.499301      0.364782       0.494065      0.481396   \n",
       "min             0.000000      0.000000       0.000000      0.000000   \n",
       "25%             0.000000      0.000000       0.000000      0.000000   \n",
       "50%             0.000000      0.000000       0.000000      0.000000   \n",
       "75%             1.000000      0.000000       1.000000      1.000000   \n",
       "max             1.000000      1.000000       1.000000      1.000000   \n",
       "\n",
       "           idscreen        Splash  RewardsContainer   EditProfile  \\\n",
       "count  50000.000000  50000.000000      50000.000000  50000.000000   \n",
       "mean       0.340700      0.200760          0.084000      0.048980   \n",
       "std        0.473949      0.400573          0.277391      0.215828   \n",
       "min        0.000000      0.000000          0.000000      0.000000   \n",
       "25%        0.000000      0.000000          0.000000      0.000000   \n",
       "50%        0.000000      0.000000          0.000000      0.000000   \n",
       "75%        1.000000      0.000000          0.000000      0.000000   \n",
       "max        1.000000      1.000000          1.000000      1.000000   \n",
       "\n",
       "           Finances        Alerts   Leaderboard  VerifyMobile  VerifyHousing  \\\n",
       "count  50000.000000  50000.000000  50000.000000  50000.000000   50000.000000   \n",
       "mean       0.076540      0.073720      0.051520      0.053860       0.045080   \n",
       "std        0.265863      0.261317      0.221058      0.225743       0.207482   \n",
       "min        0.000000      0.000000      0.000000      0.000000       0.000000   \n",
       "25%        0.000000      0.000000      0.000000      0.000000       0.000000   \n",
       "50%        0.000000      0.000000      0.000000      0.000000       0.000000   \n",
       "75%        0.000000      0.000000      0.000000      0.000000       0.000000   \n",
       "max        1.000000      1.000000      1.000000      1.000000       1.000000   \n",
       "\n",
       "       RewardDetail  VerifyHousingAmount  ProfileMaritalStatus  \\\n",
       "count  50000.000000         50000.000000          50000.000000   \n",
       "mean       0.030920             0.041420              0.047560   \n",
       "std        0.173103             0.199262              0.212836   \n",
       "min        0.000000             0.000000              0.000000   \n",
       "25%        0.000000             0.000000              0.000000   \n",
       "50%        0.000000             0.000000              0.000000   \n",
       "75%        0.000000             0.000000              0.000000   \n",
       "max        1.000000             1.000000              1.000000   \n",
       "\n",
       "       ProfileChildren   ProfileEducation  ProfileEducationMajor  \\\n",
       "count           50000.0        50000.0000           50000.000000   \n",
       "mean                0.0            0.0455               0.041060   \n",
       "std                 0.0            0.2084               0.198431   \n",
       "min                 0.0            0.0000               0.000000   \n",
       "25%                 0.0            0.0000               0.000000   \n",
       "50%                 0.0            0.0000               0.000000   \n",
       "75%                 0.0            0.0000               0.000000   \n",
       "max                 0.0            1.0000               1.000000   \n",
       "\n",
       "            Rewards   AccountView  VerifyAnnualIncome  VerifyIncomeType  \\\n",
       "count  50000.000000  50000.000000        50000.000000      50000.000000   \n",
       "mean       0.024420      0.026220            0.023580          0.031760   \n",
       "std        0.154351      0.159791            0.151738          0.175362   \n",
       "min        0.000000      0.000000            0.000000          0.000000   \n",
       "25%        0.000000      0.000000            0.000000          0.000000   \n",
       "50%        0.000000      0.000000            0.000000          0.000000   \n",
       "75%        0.000000      0.000000            0.000000          0.000000   \n",
       "max        1.000000      1.000000            1.000000          1.000000   \n",
       "\n",
       "       ProfileJobTitle         Login  ProfileEmploymentLength       WebView  \\\n",
       "count     50000.000000  50000.000000             50000.000000  50000.000000   \n",
       "mean          0.022460      0.029800                 0.021160      0.096560   \n",
       "std           0.148176      0.170037                 0.143919      0.295361   \n",
       "min           0.000000      0.000000                 0.000000      0.000000   \n",
       "25%           0.000000      0.000000                 0.000000      0.000000   \n",
       "50%           0.000000      0.000000                 0.000000      0.000000   \n",
       "75%           0.000000      0.000000                 0.000000      0.000000   \n",
       "max           1.000000      1.000000                 1.000000      1.000000   \n",
       "\n",
       "       SecurityModal   ResendToken  TransactionList  NetworkFailure  \\\n",
       "count   50000.000000  50000.000000     50000.000000    50000.000000   \n",
       "mean        0.014220      0.013340         0.013400        0.008200   \n",
       "std         0.118398      0.114727         0.114981        0.090183   \n",
       "min         0.000000      0.000000         0.000000        0.000000   \n",
       "25%         0.000000      0.000000         0.000000        0.000000   \n",
       "50%         0.000000      0.000000         0.000000        0.000000   \n",
       "75%         0.000000      0.000000         0.000000        0.000000   \n",
       "max         1.000000      1.000000         1.000000        1.000000   \n",
       "\n",
       "         ListPicker         Other   SavingCount      CMCount       CCCount  \\\n",
       "count  50000.000000  50000.000000  50000.000000  50000.00000  50000.000000   \n",
       "mean       0.007580      6.214260      0.365020      0.92776      0.176860   \n",
       "std        0.086733      3.672561      1.405511      1.21751      0.612787   \n",
       "min        0.000000      0.000000      0.000000      0.00000      0.000000   \n",
       "25%        0.000000      3.000000      0.000000      0.00000      0.000000   \n",
       "50%        0.000000      6.000000      0.000000      0.00000      0.000000   \n",
       "75%        0.000000      8.000000      0.000000      1.00000      0.000000   \n",
       "max        1.000000     35.000000     10.000000      5.00000      3.000000   \n",
       "\n",
       "         LoansCount  \n",
       "count  50000.000000  \n",
       "mean       0.788400  \n",
       "std        0.677462  \n",
       "min        0.000000  \n",
       "25%        0.000000  \n",
       "50%        1.000000  \n",
       "75%        1.000000  \n",
       "max        3.000000  "
      ]
     },
     "execution_count": 1602,
     "metadata": {},
     "output_type": "execute_result"
    }
   ],
   "source": [
    "app_subscription_df.describe()"
   ]
  },
  {
   "cell_type": "code",
   "execution_count": 1603,
   "id": "ce5b5dae-7800-4ede-9fb6-c04930af8e35",
   "metadata": {},
   "outputs": [],
   "source": [
    "# After dropping the screenlist from the dataset (which was grouped earlier) we will check the columns now. "
   ]
  },
  {
   "cell_type": "code",
   "execution_count": 1604,
   "id": "e3e80d22-0ac3-4600-811f-a8b6b3696023",
   "metadata": {},
   "outputs": [
    {
     "data": {
      "text/plain": [
       "Index(['user', 'dayofweek', 'hour', 'age', 'numscreens', 'minigame',\n",
       "       'used_premium_feature', 'enrolled', 'liked', 'location', 'Institutions',\n",
       "       'VerifyPhone', 'BankVerification', 'VerifyDateOfBirth', 'ProfilePage',\n",
       "       'VerifyCountry', 'Cycle', 'idscreen', 'Splash', 'RewardsContainer',\n",
       "       'EditProfile', 'Finances', 'Alerts', 'Leaderboard', 'VerifyMobile',\n",
       "       'VerifyHousing', 'RewardDetail', 'VerifyHousingAmount',\n",
       "       'ProfileMaritalStatus', 'ProfileChildren ', 'ProfileEducation',\n",
       "       'ProfileEducationMajor', 'Rewards', 'AccountView', 'VerifyAnnualIncome',\n",
       "       'VerifyIncomeType', 'ProfileJobTitle', 'Login',\n",
       "       'ProfileEmploymentLength', 'WebView', 'SecurityModal', 'ResendToken',\n",
       "       'TransactionList', 'NetworkFailure', 'ListPicker', 'Other',\n",
       "       'SavingCount', 'CMCount', 'CCCount', 'LoansCount'],\n",
       "      dtype='object')"
      ]
     },
     "execution_count": 1604,
     "metadata": {},
     "output_type": "execute_result"
    }
   ],
   "source": [
    "app_subscription_df.columns"
   ]
  },
  {
   "cell_type": "code",
   "execution_count": 1605,
   "id": "0610dd9d-e513-4c4e-baa1-0a48368057b9",
   "metadata": {},
   "outputs": [],
   "source": [
    "# List of columns to be dropped\n",
    "columns_to_drop = ['RewardsContainer', 'RewardDetail', 'Leaderboard', 'ResendToken', 'LoansCount', 'idscreen', 'Institutions', 'ProfileEducation', 'Cycle', 'WebView', 'ProfileEducationMajor', 'ProfileEmploymentLength']\n"
   ]
  },
  {
   "cell_type": "code",
   "execution_count": 1606,
   "id": "b1fadf3c-1c36-475b-9e3a-a01cddbde205",
   "metadata": {},
   "outputs": [],
   "source": [
    "# Drop the specified columns from the DataFrame\n",
    "app_subscription_df = app_subscription_df.drop(columns=columns_to_drop, axis=1)"
   ]
  },
  {
   "cell_type": "code",
   "execution_count": 1607,
   "id": "dc6d12dd-8c28-4e7a-a292-ad96966593bb",
   "metadata": {},
   "outputs": [
    {
     "data": {
      "text/plain": [
       "Index(['user', 'dayofweek', 'hour', 'age', 'numscreens', 'minigame',\n",
       "       'used_premium_feature', 'enrolled', 'liked', 'location', 'VerifyPhone',\n",
       "       'BankVerification', 'VerifyDateOfBirth', 'ProfilePage', 'VerifyCountry',\n",
       "       'Splash', 'EditProfile', 'Finances', 'Alerts', 'VerifyMobile',\n",
       "       'VerifyHousing', 'VerifyHousingAmount', 'ProfileMaritalStatus',\n",
       "       'ProfileChildren ', 'Rewards', 'AccountView', 'VerifyAnnualIncome',\n",
       "       'VerifyIncomeType', 'ProfileJobTitle', 'Login', 'SecurityModal',\n",
       "       'TransactionList', 'NetworkFailure', 'ListPicker', 'Other',\n",
       "       'SavingCount', 'CMCount', 'CCCount'],\n",
       "      dtype='object')"
      ]
     },
     "execution_count": 1607,
     "metadata": {},
     "output_type": "execute_result"
    }
   ],
   "source": [
    "app_subscription_df.columns"
   ]
  },
  {
   "cell_type": "code",
   "execution_count": 1608,
   "id": "b73e6b6a-5773-4373-8e81-60fb031d049c",
   "metadata": {},
   "outputs": [
    {
     "data": {
      "text/plain": [
       "(50000, 38)"
      ]
     },
     "execution_count": 1608,
     "metadata": {},
     "output_type": "execute_result"
    }
   ],
   "source": [
    "app_subscription_df.shape"
   ]
  },
  {
   "cell_type": "code",
   "execution_count": 1609,
   "id": "af03a0fc-457f-4bd7-a3f4-faa8ebb13f3a",
   "metadata": {},
   "outputs": [],
   "source": [
    "# Saving the above columns as dataset in to new CSV file and we will use it for Data Pre-Processing and Model Building\n",
    "app_subscription_df.to_csv('new_appdata10.csv', index = False)"
   ]
  },
  {
   "cell_type": "code",
   "execution_count": 1610,
   "id": "a7931235-20d8-47d0-a94b-71dd1ffada92",
   "metadata": {},
   "outputs": [],
   "source": [
    "app_subscription_df = pd.read_csv('new_appdata10.csv')"
   ]
  },
  {
   "cell_type": "code",
   "execution_count": 1611,
   "id": "1fbd0650-83c5-41f8-854c-ad37aee882bf",
   "metadata": {},
   "outputs": [
    {
     "data": {
      "text/html": [
       "<div>\n",
       "<style scoped>\n",
       "    .dataframe tbody tr th:only-of-type {\n",
       "        vertical-align: middle;\n",
       "    }\n",
       "\n",
       "    .dataframe tbody tr th {\n",
       "        vertical-align: top;\n",
       "    }\n",
       "\n",
       "    .dataframe thead th {\n",
       "        text-align: right;\n",
       "    }\n",
       "</style>\n",
       "<table border=\"1\" class=\"dataframe\">\n",
       "  <thead>\n",
       "    <tr style=\"text-align: right;\">\n",
       "      <th></th>\n",
       "      <th>user</th>\n",
       "      <th>dayofweek</th>\n",
       "      <th>hour</th>\n",
       "      <th>age</th>\n",
       "      <th>numscreens</th>\n",
       "      <th>minigame</th>\n",
       "      <th>used_premium_feature</th>\n",
       "      <th>enrolled</th>\n",
       "      <th>liked</th>\n",
       "      <th>location</th>\n",
       "      <th>VerifyPhone</th>\n",
       "      <th>BankVerification</th>\n",
       "      <th>VerifyDateOfBirth</th>\n",
       "      <th>ProfilePage</th>\n",
       "      <th>VerifyCountry</th>\n",
       "      <th>Splash</th>\n",
       "      <th>EditProfile</th>\n",
       "      <th>Finances</th>\n",
       "      <th>Alerts</th>\n",
       "      <th>VerifyMobile</th>\n",
       "      <th>VerifyHousing</th>\n",
       "      <th>VerifyHousingAmount</th>\n",
       "      <th>ProfileMaritalStatus</th>\n",
       "      <th>ProfileChildren</th>\n",
       "      <th>Rewards</th>\n",
       "      <th>AccountView</th>\n",
       "      <th>VerifyAnnualIncome</th>\n",
       "      <th>VerifyIncomeType</th>\n",
       "      <th>ProfileJobTitle</th>\n",
       "      <th>Login</th>\n",
       "      <th>SecurityModal</th>\n",
       "      <th>TransactionList</th>\n",
       "      <th>NetworkFailure</th>\n",
       "      <th>ListPicker</th>\n",
       "      <th>Other</th>\n",
       "      <th>SavingCount</th>\n",
       "      <th>CMCount</th>\n",
       "      <th>CCCount</th>\n",
       "    </tr>\n",
       "  </thead>\n",
       "  <tbody>\n",
       "    <tr>\n",
       "      <th>0</th>\n",
       "      <td>235136</td>\n",
       "      <td>3</td>\n",
       "      <td>2</td>\n",
       "      <td>23</td>\n",
       "      <td>15</td>\n",
       "      <td>0</td>\n",
       "      <td>0</td>\n",
       "      <td>0</td>\n",
       "      <td>0</td>\n",
       "      <td>0</td>\n",
       "      <td>1</td>\n",
       "      <td>0</td>\n",
       "      <td>1</td>\n",
       "      <td>0</td>\n",
       "      <td>0</td>\n",
       "      <td>0</td>\n",
       "      <td>0</td>\n",
       "      <td>0</td>\n",
       "      <td>0</td>\n",
       "      <td>0</td>\n",
       "      <td>0</td>\n",
       "      <td>0</td>\n",
       "      <td>0</td>\n",
       "      <td>0</td>\n",
       "      <td>0</td>\n",
       "      <td>0</td>\n",
       "      <td>0</td>\n",
       "      <td>0</td>\n",
       "      <td>0</td>\n",
       "      <td>1</td>\n",
       "      <td>0</td>\n",
       "      <td>0</td>\n",
       "      <td>0</td>\n",
       "      <td>0</td>\n",
       "      <td>7</td>\n",
       "      <td>0</td>\n",
       "      <td>0</td>\n",
       "      <td>0</td>\n",
       "    </tr>\n",
       "    <tr>\n",
       "      <th>1</th>\n",
       "      <td>333588</td>\n",
       "      <td>6</td>\n",
       "      <td>1</td>\n",
       "      <td>24</td>\n",
       "      <td>13</td>\n",
       "      <td>0</td>\n",
       "      <td>0</td>\n",
       "      <td>0</td>\n",
       "      <td>0</td>\n",
       "      <td>1</td>\n",
       "      <td>1</td>\n",
       "      <td>0</td>\n",
       "      <td>1</td>\n",
       "      <td>0</td>\n",
       "      <td>1</td>\n",
       "      <td>0</td>\n",
       "      <td>0</td>\n",
       "      <td>0</td>\n",
       "      <td>0</td>\n",
       "      <td>0</td>\n",
       "      <td>0</td>\n",
       "      <td>0</td>\n",
       "      <td>0</td>\n",
       "      <td>0</td>\n",
       "      <td>0</td>\n",
       "      <td>0</td>\n",
       "      <td>0</td>\n",
       "      <td>0</td>\n",
       "      <td>0</td>\n",
       "      <td>0</td>\n",
       "      <td>0</td>\n",
       "      <td>0</td>\n",
       "      <td>0</td>\n",
       "      <td>0</td>\n",
       "      <td>5</td>\n",
       "      <td>0</td>\n",
       "      <td>0</td>\n",
       "      <td>0</td>\n",
       "    </tr>\n",
       "    <tr>\n",
       "      <th>2</th>\n",
       "      <td>254414</td>\n",
       "      <td>1</td>\n",
       "      <td>19</td>\n",
       "      <td>23</td>\n",
       "      <td>3</td>\n",
       "      <td>0</td>\n",
       "      <td>1</td>\n",
       "      <td>0</td>\n",
       "      <td>1</td>\n",
       "      <td>0</td>\n",
       "      <td>0</td>\n",
       "      <td>0</td>\n",
       "      <td>0</td>\n",
       "      <td>0</td>\n",
       "      <td>0</td>\n",
       "      <td>1</td>\n",
       "      <td>0</td>\n",
       "      <td>0</td>\n",
       "      <td>0</td>\n",
       "      <td>0</td>\n",
       "      <td>0</td>\n",
       "      <td>0</td>\n",
       "      <td>0</td>\n",
       "      <td>0</td>\n",
       "      <td>0</td>\n",
       "      <td>0</td>\n",
       "      <td>0</td>\n",
       "      <td>0</td>\n",
       "      <td>0</td>\n",
       "      <td>0</td>\n",
       "      <td>0</td>\n",
       "      <td>0</td>\n",
       "      <td>0</td>\n",
       "      <td>0</td>\n",
       "      <td>0</td>\n",
       "      <td>0</td>\n",
       "      <td>0</td>\n",
       "      <td>0</td>\n",
       "    </tr>\n",
       "    <tr>\n",
       "      <th>3</th>\n",
       "      <td>234192</td>\n",
       "      <td>4</td>\n",
       "      <td>16</td>\n",
       "      <td>28</td>\n",
       "      <td>40</td>\n",
       "      <td>0</td>\n",
       "      <td>0</td>\n",
       "      <td>1</td>\n",
       "      <td>0</td>\n",
       "      <td>1</td>\n",
       "      <td>1</td>\n",
       "      <td>0</td>\n",
       "      <td>1</td>\n",
       "      <td>0</td>\n",
       "      <td>0</td>\n",
       "      <td>0</td>\n",
       "      <td>0</td>\n",
       "      <td>1</td>\n",
       "      <td>0</td>\n",
       "      <td>0</td>\n",
       "      <td>0</td>\n",
       "      <td>0</td>\n",
       "      <td>0</td>\n",
       "      <td>0</td>\n",
       "      <td>1</td>\n",
       "      <td>0</td>\n",
       "      <td>0</td>\n",
       "      <td>0</td>\n",
       "      <td>0</td>\n",
       "      <td>0</td>\n",
       "      <td>0</td>\n",
       "      <td>0</td>\n",
       "      <td>0</td>\n",
       "      <td>0</td>\n",
       "      <td>6</td>\n",
       "      <td>0</td>\n",
       "      <td>3</td>\n",
       "      <td>0</td>\n",
       "    </tr>\n",
       "    <tr>\n",
       "      <th>4</th>\n",
       "      <td>51549</td>\n",
       "      <td>1</td>\n",
       "      <td>18</td>\n",
       "      <td>31</td>\n",
       "      <td>32</td>\n",
       "      <td>0</td>\n",
       "      <td>0</td>\n",
       "      <td>1</td>\n",
       "      <td>1</td>\n",
       "      <td>0</td>\n",
       "      <td>1</td>\n",
       "      <td>1</td>\n",
       "      <td>0</td>\n",
       "      <td>0</td>\n",
       "      <td>1</td>\n",
       "      <td>0</td>\n",
       "      <td>0</td>\n",
       "      <td>0</td>\n",
       "      <td>0</td>\n",
       "      <td>0</td>\n",
       "      <td>0</td>\n",
       "      <td>0</td>\n",
       "      <td>0</td>\n",
       "      <td>0</td>\n",
       "      <td>0</td>\n",
       "      <td>0</td>\n",
       "      <td>0</td>\n",
       "      <td>0</td>\n",
       "      <td>0</td>\n",
       "      <td>0</td>\n",
       "      <td>0</td>\n",
       "      <td>0</td>\n",
       "      <td>0</td>\n",
       "      <td>0</td>\n",
       "      <td>10</td>\n",
       "      <td>0</td>\n",
       "      <td>2</td>\n",
       "      <td>0</td>\n",
       "    </tr>\n",
       "  </tbody>\n",
       "</table>\n",
       "</div>"
      ],
      "text/plain": [
       "     user  dayofweek  hour  age  numscreens  minigame  used_premium_feature  \\\n",
       "0  235136          3     2   23          15         0                     0   \n",
       "1  333588          6     1   24          13         0                     0   \n",
       "2  254414          1    19   23           3         0                     1   \n",
       "3  234192          4    16   28          40         0                     0   \n",
       "4   51549          1    18   31          32         0                     0   \n",
       "\n",
       "   enrolled  liked  location  VerifyPhone  BankVerification  \\\n",
       "0         0      0         0            1                 0   \n",
       "1         0      0         1            1                 0   \n",
       "2         0      1         0            0                 0   \n",
       "3         1      0         1            1                 0   \n",
       "4         1      1         0            1                 1   \n",
       "\n",
       "   VerifyDateOfBirth  ProfilePage  VerifyCountry  Splash  EditProfile  \\\n",
       "0                  1            0              0       0            0   \n",
       "1                  1            0              1       0            0   \n",
       "2                  0            0              0       1            0   \n",
       "3                  1            0              0       0            0   \n",
       "4                  0            0              1       0            0   \n",
       "\n",
       "   Finances  Alerts  VerifyMobile  VerifyHousing  VerifyHousingAmount  \\\n",
       "0         0       0             0              0                    0   \n",
       "1         0       0             0              0                    0   \n",
       "2         0       0             0              0                    0   \n",
       "3         1       0             0              0                    0   \n",
       "4         0       0             0              0                    0   \n",
       "\n",
       "   ProfileMaritalStatus  ProfileChildren   Rewards  AccountView  \\\n",
       "0                     0                 0        0            0   \n",
       "1                     0                 0        0            0   \n",
       "2                     0                 0        0            0   \n",
       "3                     0                 0        1            0   \n",
       "4                     0                 0        0            0   \n",
       "\n",
       "   VerifyAnnualIncome  VerifyIncomeType  ProfileJobTitle  Login  \\\n",
       "0                   0                 0                0      1   \n",
       "1                   0                 0                0      0   \n",
       "2                   0                 0                0      0   \n",
       "3                   0                 0                0      0   \n",
       "4                   0                 0                0      0   \n",
       "\n",
       "   SecurityModal  TransactionList  NetworkFailure  ListPicker  Other  \\\n",
       "0              0                0               0           0      7   \n",
       "1              0                0               0           0      5   \n",
       "2              0                0               0           0      0   \n",
       "3              0                0               0           0      6   \n",
       "4              0                0               0           0     10   \n",
       "\n",
       "   SavingCount  CMCount  CCCount  \n",
       "0            0        0        0  \n",
       "1            0        0        0  \n",
       "2            0        0        0  \n",
       "3            0        3        0  \n",
       "4            0        2        0  "
      ]
     },
     "execution_count": 1611,
     "metadata": {},
     "output_type": "execute_result"
    }
   ],
   "source": [
    "app_subscription_df.head()"
   ]
  },
  {
   "cell_type": "code",
   "execution_count": 1612,
   "id": "ed92b92c-a266-4738-bd23-5cdd6f1f5df6",
   "metadata": {},
   "outputs": [
    {
     "data": {
      "text/plain": [
       "(50000, 38)"
      ]
     },
     "execution_count": 1612,
     "metadata": {},
     "output_type": "execute_result"
    }
   ],
   "source": [
    "app_subscription_df.shape"
   ]
  },
  {
   "cell_type": "markdown",
   "id": "07b2f022-d762-4d8c-92a4-651c1a87e6b3",
   "metadata": {},
   "source": [
    "## Data PreProcessing "
   ]
  },
  {
   "cell_type": "markdown",
   "id": "a5976b47-de86-4c94-a691-91304997ba36",
   "metadata": {},
   "source": [
    " Here we will drop the column 'enrolled\" from the actual dataset"
   ]
  },
  {
   "cell_type": "markdown",
   "id": "c0494d7e-a55f-4fbb-b284-bf1ed473d10e",
   "metadata": {},
   "source": [
    "### Splitting Independent and Response Variables"
   ]
  },
  {
   "cell_type": "code",
   "execution_count": 1613,
   "id": "8f9a651c-402b-44a5-ac43-736955ac02ac",
   "metadata": {},
   "outputs": [],
   "source": [
    "response = app_subscription_df[\"enrolled\"]\n",
    "app_subscription_df = app_subscription_df.drop(columns=\"enrolled\")"
   ]
  },
  {
   "cell_type": "code",
   "execution_count": 1614,
   "id": "25e73d29-1fb1-4919-b675-98999658c34e",
   "metadata": {},
   "outputs": [],
   "source": [
    "# Splitting the dataset into the Training set and Test set\n",
    "from sklearn.model_selection import train_test_split\n",
    "X_train, X_test, y_train, y_test = train_test_split(app_subscription_df, response,\n",
    "                                                    test_size = 0.2,\n",
    "                                                    random_state = 0)"
   ]
  },
  {
   "cell_type": "markdown",
   "id": "303fb37d-6da6-4b7c-8ed8-1f97f4c00083",
   "metadata": {},
   "source": [
    "### Balancing the Training Set"
   ]
  },
  {
   "cell_type": "code",
   "execution_count": null,
   "id": "cbb419fe-4715-46b1-91b7-911cc8f10e33",
   "metadata": {},
   "outputs": [],
   "source": []
  },
  {
   "cell_type": "markdown",
   "id": "af67bcc9-546a-4e22-9a90-95c16265702a",
   "metadata": {},
   "source": [
    "### Removing Identifiers"
   ]
  },
  {
   "cell_type": "code",
   "execution_count": 1615,
   "id": "6e0c0d0c-3806-46c9-a56a-760c9d9d46e9",
   "metadata": {},
   "outputs": [],
   "source": [
    "# we can not put user id in our model & also can not drop it as it is an identifier for each user, so let's keep it some where \n",
    "# as variable\n",
    "train_identifier = X_train['user']\n",
    "X_train = X_train.drop(columns = ['user'])\n",
    "test_identifier = X_test['user']\n",
    "X_test = X_test.drop(columns = ['user'])"
   ]
  },
  {
   "cell_type": "markdown",
   "id": "829c441c-c747-4aac-af80-5bb4315e9fb7",
   "metadata": {},
   "source": [
    "### Feature Scaling"
   ]
  },
  {
   "cell_type": "code",
   "execution_count": 1616,
   "id": "86bc94a0-b5d6-42e5-a8cc-55f4e546bd39",
   "metadata": {},
   "outputs": [],
   "source": [
    "#We will scale the features using StandardScalar to avoid the dominance of perticular feature in entire model"
   ]
  },
  {
   "cell_type": "code",
   "execution_count": 1617,
   "id": "4a7fec28-3cd7-4d4f-bc0f-c4f8bb982ff3",
   "metadata": {},
   "outputs": [],
   "source": [
    "from sklearn.preprocessing import StandardScaler\n",
    "sc_X = StandardScaler()\n",
    "X_train2 = pd.DataFrame(sc_X.fit_transform(X_train))\n",
    "X_test2 = pd.DataFrame(sc_X.transform(X_test))\n",
    "X_train2.columns = X_train.columns.values\n",
    "X_test2.columns = X_test.columns.values\n",
    "X_train2.index = X_train.index.values\n",
    "X_test2.index = X_test.index.values\n",
    "X_train = X_train2\n",
    "X_test = X_test2"
   ]
  },
  {
   "cell_type": "markdown",
   "id": "c1818c3e-a9ee-49f9-85c5-fd476aa5c4c7",
   "metadata": {
    "tags": []
   },
   "source": [
    "### Model Building"
   ]
  },
  {
   "cell_type": "code",
   "execution_count": 1618,
   "id": "15e96a87-0149-44aa-bb8a-6fd58d5b2241",
   "metadata": {},
   "outputs": [
    {
     "data": {
      "text/plain": [
       "LogisticRegression(random_state=0)"
      ]
     },
     "execution_count": 1618,
     "metadata": {},
     "output_type": "execute_result"
    }
   ],
   "source": [
    "# Fitting Model to the Training Set\n",
    "from sklearn.linear_model import LogisticRegression\n",
    "classifier = LogisticRegression(random_state = 0, penalty = 'l2')\n",
    "classifier.fit(X_train, y_train)"
   ]
  },
  {
   "cell_type": "code",
   "execution_count": 1619,
   "id": "72f2cfe9-023c-433d-91a4-f21f7e6898b0",
   "metadata": {},
   "outputs": [
    {
     "data": {
      "text/plain": [
       "array([1, 1, 0, ..., 0, 1, 0])"
      ]
     },
     "execution_count": 1619,
     "metadata": {},
     "output_type": "execute_result"
    }
   ],
   "source": [
    "# Predicting Test Set\n",
    "y_pred = classifier.predict(X_test)\n",
    "y_pred"
   ]
  },
  {
   "cell_type": "markdown",
   "id": "074a2ff6-b508-4b3d-895d-17924ee944b9",
   "metadata": {
    "tags": []
   },
   "source": [
    "### Evaluating Results"
   ]
  },
  {
   "cell_type": "code",
   "execution_count": 1620,
   "id": "d37777e2-9a75-45f3-a890-f8a2c8587a5b",
   "metadata": {},
   "outputs": [
    {
     "data": {
      "text/plain": [
       "0.762"
      ]
     },
     "execution_count": 1620,
     "metadata": {},
     "output_type": "execute_result"
    }
   ],
   "source": [
    "from sklearn.metrics import confusion_matrix, accuracy_score, f1_score, precision_score, recall_score\n",
    "cm = confusion_matrix(y_test, y_pred)\n",
    "accuracy_score(y_test, y_pred)\n"
   ]
  },
  {
   "cell_type": "code",
   "execution_count": 1621,
   "id": "c84bbd47-cc49-4b3e-bcff-659bfb95a062",
   "metadata": {},
   "outputs": [
    {
     "data": {
      "text/plain": [
       "0.754164158137668"
      ]
     },
     "execution_count": 1621,
     "metadata": {},
     "output_type": "execute_result"
    }
   ],
   "source": [
    "precision_score(y_test, y_pred) # tp / (tp + fp)"
   ]
  },
  {
   "cell_type": "code",
   "execution_count": 1622,
   "id": "8112c181-c998-42a6-8f73-f3dd94204d4e",
   "metadata": {},
   "outputs": [
    {
     "data": {
      "text/plain": [
       "0.7649094239772033"
      ]
     },
     "execution_count": 1622,
     "metadata": {},
     "output_type": "execute_result"
    }
   ],
   "source": [
    "recall_score(y_test, y_pred) # tp / (tp + fn)"
   ]
  },
  {
   "cell_type": "code",
   "execution_count": 1623,
   "id": "8aef8389-cb14-4d82-8e76-0489e35704df",
   "metadata": {},
   "outputs": [
    {
     "data": {
      "text/plain": [
       "0.759498787388844"
      ]
     },
     "execution_count": 1623,
     "metadata": {},
     "output_type": "execute_result"
    }
   ],
   "source": [
    "f1_score(y_test, y_pred)"
   ]
  },
  {
   "cell_type": "markdown",
   "id": "7ea1acf1-4a96-406e-921a-4eb5e3278da1",
   "metadata": {},
   "source": [
    "### HeatMap Visualization of the confusion matrix using the Seaborn library('sn')"
   ]
  },
  {
   "cell_type": "code",
   "execution_count": 1624,
   "id": "ffdf1c5a-e34c-4d40-b19f-6aa3e9ef59f1",
   "metadata": {},
   "outputs": [
    {
     "name": "stdout",
     "output_type": "stream",
     "text": [
      "Test Data Accuracy: 0.7620\n"
     ]
    },
    {
     "data": {
      "image/png": "[encoded data removed]",
      "text/plain": [
       "<Figure size 1000x700 with 2 Axes>"
      ]
     },
     "metadata": {},
     "output_type": "display_data"
    }
   ],
   "source": [
    "df_cm = pd.DataFrame(cm, index = (0, 1), columns = (0, 1))\n",
    "plt.figure(figsize = (10,7))\n",
    "sn.set(font_scale=1.4)\n",
    "sn.heatmap(df_cm, annot=True, fmt='g')\n",
    "print(\"Test Data Accuracy: %0.4f\" % accuracy_score(y_test, y_pred))"
   ]
  },
  {
   "cell_type": "markdown",
   "id": "236089fe-e6e2-4eb7-8dd3-8ded873f6cef",
   "metadata": {},
   "source": [
    "df_cm: a pandas dataframe created from confusion matrix 'cm'. it's indexed and labeled with the actual and predicted class labels\n"
   ]
  },
  {
   "cell_type": "code",
   "execution_count": 1625,
   "id": "1b2c0342-223c-471a-9840-d1528cad32ea",
   "metadata": {},
   "outputs": [
    {
     "name": "stdout",
     "output_type": "stream",
     "text": [
      "              precision    recall  f1-score   support\n",
      "\n",
      "           0       0.77      0.76      0.76      5087\n",
      "           1       0.75      0.76      0.76      4913\n",
      "\n",
      "    accuracy                           0.76     10000\n",
      "   macro avg       0.76      0.76      0.76     10000\n",
      "weighted avg       0.76      0.76      0.76     10000\n",
      "\n"
     ]
    }
   ],
   "source": [
    "print(classification_report(y_test, y_pred))"
   ]
  },
  {
   "cell_type": "markdown",
   "id": "0b9dc103-8dbd-476a-93c4-8d211c71080e",
   "metadata": {},
   "source": [
    "### Applying k-Fold Cross Validation"
   ]
  },
  {
   "cell_type": "code",
   "execution_count": 1626,
   "id": "3719dafc-d184-476b-886e-2b7ac4390d79",
   "metadata": {},
   "outputs": [
    {
     "name": "stdout",
     "output_type": "stream",
     "text": [
      "SVM: 0.764 (+/- 0.010)\n"
     ]
    }
   ],
   "source": [
    "from sklearn.model_selection import cross_val_score\n",
    "accuracies = cross_val_score(estimator = classifier, X = X_train, y = y_train, cv = 10)\n",
    "print(\"SVM: %0.3f (+/- %0.3f)\" % (accuracies.mean(), accuracies.std() * 2))"
   ]
  },
  {
   "cell_type": "markdown",
   "id": "f31fa592-b9d7-49c0-bf05-8b08932083b6",
   "metadata": {
    "tags": []
   },
   "source": [
    "### we got 77% accuracy and very less standard deviation which is 0.010 which tells us that the model is consistent and accurate"
   ]
  },
  {
   "cell_type": "markdown",
   "id": "f5591703-f894-4604-a831-7249396a223c",
   "metadata": {},
   "source": [
    " we are applying k-Fold validation to assess the performance of the classifer using the 'cross_val_score'.\n",
    "And we can get  more robust estimate of our model's performance by evaluating it on the training data\n",
    "estimator = classifer : specifies the classifier(SVM in our case) that we want to evaluate.\n",
    "X = X_train, y = y_train : the training data\n",
    "cv = 10 : the number of folds for cross-validation (in this case, 10-fold)\n",
    "10-fold cross-validation has become a standard practice in the machine learning community. It's often used as a default because it has been found to work well in practice for a wide range of datasets."
   ]
  },
  {
   "cell_type": "code",
   "execution_count": 1627,
   "id": "a57113d8-ddd5-4277-a6af-28f3cb941056",
   "metadata": {},
   "outputs": [
    {
     "data": {
      "text/html": [
       "<div>\n",
       "<style scoped>\n",
       "    .dataframe tbody tr th:only-of-type {\n",
       "        vertical-align: middle;\n",
       "    }\n",
       "\n",
       "    .dataframe tbody tr th {\n",
       "        vertical-align: top;\n",
       "    }\n",
       "\n",
       "    .dataframe thead th {\n",
       "        text-align: right;\n",
       "    }\n",
       "</style>\n",
       "<table border=\"1\" class=\"dataframe\">\n",
       "  <thead>\n",
       "    <tr style=\"text-align: right;\">\n",
       "      <th></th>\n",
       "      <th>features</th>\n",
       "      <th>coef</th>\n",
       "    </tr>\n",
       "  </thead>\n",
       "  <tbody>\n",
       "    <tr>\n",
       "      <th>0</th>\n",
       "      <td>dayofweek</td>\n",
       "      <td>0.034111</td>\n",
       "    </tr>\n",
       "    <tr>\n",
       "      <th>1</th>\n",
       "      <td>hour</td>\n",
       "      <td>-0.014078</td>\n",
       "    </tr>\n",
       "    <tr>\n",
       "      <th>2</th>\n",
       "      <td>age</td>\n",
       "      <td>-0.172171</td>\n",
       "    </tr>\n",
       "    <tr>\n",
       "      <th>3</th>\n",
       "      <td>numscreens</td>\n",
       "      <td>-0.361919</td>\n",
       "    </tr>\n",
       "    <tr>\n",
       "      <th>4</th>\n",
       "      <td>minigame</td>\n",
       "      <td>0.006841</td>\n",
       "    </tr>\n",
       "    <tr>\n",
       "      <th>5</th>\n",
       "      <td>used_premium_feature</td>\n",
       "      <td>-0.118435</td>\n",
       "    </tr>\n",
       "    <tr>\n",
       "      <th>6</th>\n",
       "      <td>liked</td>\n",
       "      <td>0.008245</td>\n",
       "    </tr>\n",
       "    <tr>\n",
       "      <th>7</th>\n",
       "      <td>location</td>\n",
       "      <td>-0.018369</td>\n",
       "    </tr>\n",
       "    <tr>\n",
       "      <th>8</th>\n",
       "      <td>VerifyPhone</td>\n",
       "      <td>0.743895</td>\n",
       "    </tr>\n",
       "    <tr>\n",
       "      <th>9</th>\n",
       "      <td>BankVerification</td>\n",
       "      <td>0.117431</td>\n",
       "    </tr>\n",
       "    <tr>\n",
       "      <th>10</th>\n",
       "      <td>VerifyDateOfBirth</td>\n",
       "      <td>0.183667</td>\n",
       "    </tr>\n",
       "    <tr>\n",
       "      <th>11</th>\n",
       "      <td>ProfilePage</td>\n",
       "      <td>-0.123737</td>\n",
       "    </tr>\n",
       "    <tr>\n",
       "      <th>12</th>\n",
       "      <td>VerifyCountry</td>\n",
       "      <td>-0.325976</td>\n",
       "    </tr>\n",
       "    <tr>\n",
       "      <th>13</th>\n",
       "      <td>Splash</td>\n",
       "      <td>-0.002709</td>\n",
       "    </tr>\n",
       "    <tr>\n",
       "      <th>14</th>\n",
       "      <td>EditProfile</td>\n",
       "      <td>0.063609</td>\n",
       "    </tr>\n",
       "    <tr>\n",
       "      <th>15</th>\n",
       "      <td>Finances</td>\n",
       "      <td>0.005384</td>\n",
       "    </tr>\n",
       "    <tr>\n",
       "      <th>16</th>\n",
       "      <td>Alerts</td>\n",
       "      <td>-0.241358</td>\n",
       "    </tr>\n",
       "    <tr>\n",
       "      <th>17</th>\n",
       "      <td>VerifyMobile</td>\n",
       "      <td>0.340086</td>\n",
       "    </tr>\n",
       "    <tr>\n",
       "      <th>18</th>\n",
       "      <td>VerifyHousing</td>\n",
       "      <td>0.066582</td>\n",
       "    </tr>\n",
       "    <tr>\n",
       "      <th>19</th>\n",
       "      <td>VerifyHousingAmount</td>\n",
       "      <td>0.035954</td>\n",
       "    </tr>\n",
       "    <tr>\n",
       "      <th>20</th>\n",
       "      <td>ProfileMaritalStatus</td>\n",
       "      <td>-0.054606</td>\n",
       "    </tr>\n",
       "    <tr>\n",
       "      <th>21</th>\n",
       "      <td>ProfileChildren</td>\n",
       "      <td>0.000000</td>\n",
       "    </tr>\n",
       "    <tr>\n",
       "      <th>22</th>\n",
       "      <td>Rewards</td>\n",
       "      <td>0.067249</td>\n",
       "    </tr>\n",
       "    <tr>\n",
       "      <th>23</th>\n",
       "      <td>AccountView</td>\n",
       "      <td>-0.081565</td>\n",
       "    </tr>\n",
       "    <tr>\n",
       "      <th>24</th>\n",
       "      <td>VerifyAnnualIncome</td>\n",
       "      <td>0.082978</td>\n",
       "    </tr>\n",
       "    <tr>\n",
       "      <th>25</th>\n",
       "      <td>VerifyIncomeType</td>\n",
       "      <td>-0.076242</td>\n",
       "    </tr>\n",
       "    <tr>\n",
       "      <th>26</th>\n",
       "      <td>ProfileJobTitle</td>\n",
       "      <td>-0.008894</td>\n",
       "    </tr>\n",
       "    <tr>\n",
       "      <th>27</th>\n",
       "      <td>Login</td>\n",
       "      <td>-0.074906</td>\n",
       "    </tr>\n",
       "    <tr>\n",
       "      <th>28</th>\n",
       "      <td>SecurityModal</td>\n",
       "      <td>0.017789</td>\n",
       "    </tr>\n",
       "    <tr>\n",
       "      <th>29</th>\n",
       "      <td>TransactionList</td>\n",
       "      <td>-0.054017</td>\n",
       "    </tr>\n",
       "    <tr>\n",
       "      <th>30</th>\n",
       "      <td>NetworkFailure</td>\n",
       "      <td>-0.012316</td>\n",
       "    </tr>\n",
       "    <tr>\n",
       "      <th>31</th>\n",
       "      <td>ListPicker</td>\n",
       "      <td>-0.036542</td>\n",
       "    </tr>\n",
       "    <tr>\n",
       "      <th>32</th>\n",
       "      <td>Other</td>\n",
       "      <td>0.867264</td>\n",
       "    </tr>\n",
       "    <tr>\n",
       "      <th>33</th>\n",
       "      <td>SavingCount</td>\n",
       "      <td>0.030395</td>\n",
       "    </tr>\n",
       "    <tr>\n",
       "      <th>34</th>\n",
       "      <td>CMCount</td>\n",
       "      <td>0.490845</td>\n",
       "    </tr>\n",
       "    <tr>\n",
       "      <th>35</th>\n",
       "      <td>CCCount</td>\n",
       "      <td>0.045045</td>\n",
       "    </tr>\n",
       "  </tbody>\n",
       "</table>\n",
       "</div>"
      ],
      "text/plain": [
       "                features      coef\n",
       "0              dayofweek  0.034111\n",
       "1                   hour -0.014078\n",
       "2                    age -0.172171\n",
       "3             numscreens -0.361919\n",
       "4               minigame  0.006841\n",
       "5   used_premium_feature -0.118435\n",
       "6                  liked  0.008245\n",
       "7               location -0.018369\n",
       "8            VerifyPhone  0.743895\n",
       "9       BankVerification  0.117431\n",
       "10     VerifyDateOfBirth  0.183667\n",
       "11           ProfilePage -0.123737\n",
       "12         VerifyCountry -0.325976\n",
       "13                Splash -0.002709\n",
       "14           EditProfile  0.063609\n",
       "15              Finances  0.005384\n",
       "16                Alerts -0.241358\n",
       "17          VerifyMobile  0.340086\n",
       "18         VerifyHousing  0.066582\n",
       "19   VerifyHousingAmount  0.035954\n",
       "20  ProfileMaritalStatus -0.054606\n",
       "21      ProfileChildren   0.000000\n",
       "22               Rewards  0.067249\n",
       "23           AccountView -0.081565\n",
       "24    VerifyAnnualIncome  0.082978\n",
       "25      VerifyIncomeType -0.076242\n",
       "26       ProfileJobTitle -0.008894\n",
       "27                 Login -0.074906\n",
       "28         SecurityModal  0.017789\n",
       "29       TransactionList -0.054017\n",
       "30        NetworkFailure -0.012316\n",
       "31            ListPicker -0.036542\n",
       "32                 Other  0.867264\n",
       "33           SavingCount  0.030395\n",
       "34               CMCount  0.490845\n",
       "35               CCCount  0.045045"
      ]
     },
     "execution_count": 1627,
     "metadata": {},
     "output_type": "execute_result"
    }
   ],
   "source": [
    "# Analyzing Coefficients\n",
    "pd.concat([pd.DataFrame(app_subscription_df.drop(columns = 'user').columns, columns = [\"features\"]),\n",
    "           pd.DataFrame(np.transpose(classifier.coef_), columns = [\"coef\"])\n",
    "           ],axis = 1)"
   ]
  },
  {
   "cell_type": "markdown",
   "id": "e5a5e32d-dc30-4392-a3e7-d4bffbf4559d",
   "metadata": {},
   "source": [
    "# Observations:\n",
    "Positively Affecting features to enrollment: Other_sceens, VerifyPhone, CMCount, VerifyMobile, VerifyDateOfBirth, Rewards, EditProfile, etc, without any doubt all above features are situated to moving towards the enrollment screens.\n",
    "\n",
    "Negatively Affecting features to enrollment: LoanCount, VerifyCountry, Alerts, age, numscreens, Login, ResendToken, etc, if we see all these features are irritating & no user want to do this."
   ]
  },
  {
   "cell_type": "markdown",
   "id": "54825a11-12a5-470b-8cf9-e5430ee038f4",
   "metadata": {},
   "source": [
    "# Hyperparameter Tuning"
   ]
  },
  {
   "cell_type": "code",
   "execution_count": 1628,
   "id": "22f6f87b-2922-4466-a90d-ca56216b1e39",
   "metadata": {},
   "outputs": [],
   "source": [
    "## Grid Search (Round 1)\n",
    "from sklearn.model_selection import GridSearchCV\n",
    "from sklearn.svm import SVC, LinearSVC"
   ]
  },
  {
   "cell_type": "code",
   "execution_count": 1629,
   "id": "368a6401-f899-4859-a1ff-16864a725e1f",
   "metadata": {},
   "outputs": [],
   "source": [
    "# Select Regularization Method\n",
    "penalty = ['l1', 'l2']"
   ]
  },
  {
   "cell_type": "code",
   "execution_count": 1630,
   "id": "768b1c81-0008-4000-b02c-336ece4a3d97",
   "metadata": {},
   "outputs": [],
   "source": [
    "# Create regularization hyperparameter space\n",
    "C = [0.001, 0.01, 0.1, 1, 10, 100, 1000]"
   ]
  },
  {
   "cell_type": "code",
   "execution_count": 1631,
   "id": "d1540df6-a6e3-40ef-96a5-b15e73e0f097",
   "metadata": {},
   "outputs": [
    {
     "name": "stderr",
     "output_type": "stream",
     "text": [
      "/Users/Preeya/opt/anaconda3/lib/python3.9/site-packages/sklearn/linear_model/_logistic.py:1483: UserWarning: Setting penalty='none' will ignore the C and l1_ratio parameters\n",
      "  warnings.warn(\n",
      "/Users/Preeya/opt/anaconda3/lib/python3.9/site-packages/sklearn/linear_model/_logistic.py:1483: UserWarning: Setting penalty='none' will ignore the C and l1_ratio parameters\n",
      "  warnings.warn(\n",
      "/Users/Preeya/opt/anaconda3/lib/python3.9/site-packages/sklearn/linear_model/_logistic.py:1483: UserWarning: Setting penalty='none' will ignore the C and l1_ratio parameters\n",
      "  warnings.warn(\n",
      "/Users/Preeya/opt/anaconda3/lib/python3.9/site-packages/sklearn/linear_model/_logistic.py:1483: UserWarning: Setting penalty='none' will ignore the C and l1_ratio parameters\n",
      "  warnings.warn(\n",
      "/Users/Preeya/opt/anaconda3/lib/python3.9/site-packages/sklearn/linear_model/_logistic.py:1483: UserWarning: Setting penalty='none' will ignore the C and l1_ratio parameters\n",
      "  warnings.warn(\n",
      "/Users/Preeya/opt/anaconda3/lib/python3.9/site-packages/sklearn/linear_model/_logistic.py:1483: UserWarning: Setting penalty='none' will ignore the C and l1_ratio parameters\n",
      "  warnings.warn(\n",
      "/Users/Preeya/opt/anaconda3/lib/python3.9/site-packages/sklearn/linear_model/_logistic.py:1483: UserWarning: Setting penalty='none' will ignore the C and l1_ratio parameters\n",
      "  warnings.warn(\n",
      "/Users/Preeya/opt/anaconda3/lib/python3.9/site-packages/sklearn/linear_model/_logistic.py:1483: UserWarning: Setting penalty='none' will ignore the C and l1_ratio parameters\n",
      "  warnings.warn(\n",
      "/Users/Preeya/opt/anaconda3/lib/python3.9/site-packages/sklearn/linear_model/_logistic.py:1483: UserWarning: Setting penalty='none' will ignore the C and l1_ratio parameters\n",
      "  warnings.warn(\n",
      "/Users/Preeya/opt/anaconda3/lib/python3.9/site-packages/sklearn/linear_model/_logistic.py:1483: UserWarning: Setting penalty='none' will ignore the C and l1_ratio parameters\n",
      "  warnings.warn(\n",
      "/Users/Preeya/opt/anaconda3/lib/python3.9/site-packages/sklearn/linear_model/_logistic.py:1483: UserWarning: Setting penalty='none' will ignore the C and l1_ratio parameters\n",
      "  warnings.warn(\n",
      "/Users/Preeya/opt/anaconda3/lib/python3.9/site-packages/sklearn/linear_model/_logistic.py:1483: UserWarning: Setting penalty='none' will ignore the C and l1_ratio parameters\n",
      "  warnings.warn(\n",
      "/Users/Preeya/opt/anaconda3/lib/python3.9/site-packages/sklearn/linear_model/_logistic.py:1483: UserWarning: Setting penalty='none' will ignore the C and l1_ratio parameters\n",
      "  warnings.warn(\n",
      "/Users/Preeya/opt/anaconda3/lib/python3.9/site-packages/sklearn/linear_model/_logistic.py:1483: UserWarning: Setting penalty='none' will ignore the C and l1_ratio parameters\n",
      "  warnings.warn(\n",
      "/Users/Preeya/opt/anaconda3/lib/python3.9/site-packages/sklearn/linear_model/_logistic.py:1483: UserWarning: Setting penalty='none' will ignore the C and l1_ratio parameters\n",
      "  warnings.warn(\n",
      "/Users/Preeya/opt/anaconda3/lib/python3.9/site-packages/sklearn/linear_model/_logistic.py:1483: UserWarning: Setting penalty='none' will ignore the C and l1_ratio parameters\n",
      "  warnings.warn(\n",
      "/Users/Preeya/opt/anaconda3/lib/python3.9/site-packages/sklearn/linear_model/_logistic.py:1483: UserWarning: Setting penalty='none' will ignore the C and l1_ratio parameters\n",
      "  warnings.warn(\n",
      "/Users/Preeya/opt/anaconda3/lib/python3.9/site-packages/sklearn/linear_model/_logistic.py:1483: UserWarning: Setting penalty='none' will ignore the C and l1_ratio parameters\n",
      "  warnings.warn(\n",
      "/Users/Preeya/opt/anaconda3/lib/python3.9/site-packages/sklearn/linear_model/_logistic.py:1483: UserWarning: Setting penalty='none' will ignore the C and l1_ratio parameters\n",
      "  warnings.warn(\n",
      "/Users/Preeya/opt/anaconda3/lib/python3.9/site-packages/sklearn/linear_model/_logistic.py:1483: UserWarning: Setting penalty='none' will ignore the C and l1_ratio parameters\n",
      "  warnings.warn(\n",
      "/Users/Preeya/opt/anaconda3/lib/python3.9/site-packages/sklearn/linear_model/_logistic.py:1483: UserWarning: Setting penalty='none' will ignore the C and l1_ratio parameters\n",
      "  warnings.warn(\n",
      "/Users/Preeya/opt/anaconda3/lib/python3.9/site-packages/sklearn/linear_model/_logistic.py:1483: UserWarning: Setting penalty='none' will ignore the C and l1_ratio parameters\n",
      "  warnings.warn(\n",
      "/Users/Preeya/opt/anaconda3/lib/python3.9/site-packages/sklearn/linear_model/_logistic.py:1483: UserWarning: Setting penalty='none' will ignore the C and l1_ratio parameters\n",
      "  warnings.warn(\n",
      "/Users/Preeya/opt/anaconda3/lib/python3.9/site-packages/sklearn/linear_model/_logistic.py:1483: UserWarning: Setting penalty='none' will ignore the C and l1_ratio parameters\n",
      "  warnings.warn(\n",
      "/Users/Preeya/opt/anaconda3/lib/python3.9/site-packages/sklearn/linear_model/_logistic.py:1483: UserWarning: Setting penalty='none' will ignore the C and l1_ratio parameters\n",
      "  warnings.warn(\n",
      "/Users/Preeya/opt/anaconda3/lib/python3.9/site-packages/sklearn/linear_model/_logistic.py:1483: UserWarning: Setting penalty='none' will ignore the C and l1_ratio parameters\n",
      "  warnings.warn(\n",
      "/Users/Preeya/opt/anaconda3/lib/python3.9/site-packages/sklearn/linear_model/_logistic.py:1483: UserWarning: Setting penalty='none' will ignore the C and l1_ratio parameters\n",
      "  warnings.warn(\n",
      "/Users/Preeya/opt/anaconda3/lib/python3.9/site-packages/sklearn/linear_model/_logistic.py:1483: UserWarning: Setting penalty='none' will ignore the C and l1_ratio parameters\n",
      "  warnings.warn(\n",
      "/Users/Preeya/opt/anaconda3/lib/python3.9/site-packages/sklearn/linear_model/_logistic.py:1483: UserWarning: Setting penalty='none' will ignore the C and l1_ratio parameters\n",
      "  warnings.warn(\n",
      "/Users/Preeya/opt/anaconda3/lib/python3.9/site-packages/sklearn/linear_model/_logistic.py:1483: UserWarning: Setting penalty='none' will ignore the C and l1_ratio parameters\n",
      "  warnings.warn(\n",
      "/Users/Preeya/opt/anaconda3/lib/python3.9/site-packages/sklearn/linear_model/_logistic.py:1483: UserWarning: Setting penalty='none' will ignore the C and l1_ratio parameters\n",
      "  warnings.warn(\n",
      "/Users/Preeya/opt/anaconda3/lib/python3.9/site-packages/sklearn/linear_model/_logistic.py:1483: UserWarning: Setting penalty='none' will ignore the C and l1_ratio parameters\n",
      "  warnings.warn(\n",
      "/Users/Preeya/opt/anaconda3/lib/python3.9/site-packages/sklearn/linear_model/_logistic.py:1483: UserWarning: Setting penalty='none' will ignore the C and l1_ratio parameters\n",
      "  warnings.warn(\n",
      "/Users/Preeya/opt/anaconda3/lib/python3.9/site-packages/sklearn/linear_model/_logistic.py:1483: UserWarning: Setting penalty='none' will ignore the C and l1_ratio parameters\n",
      "  warnings.warn(\n",
      "/Users/Preeya/opt/anaconda3/lib/python3.9/site-packages/sklearn/linear_model/_logistic.py:1483: UserWarning: Setting penalty='none' will ignore the C and l1_ratio parameters\n",
      "  warnings.warn(\n",
      "/Users/Preeya/opt/anaconda3/lib/python3.9/site-packages/sklearn/linear_model/_logistic.py:1483: UserWarning: Setting penalty='none' will ignore the C and l1_ratio parameters\n",
      "  warnings.warn(\n",
      "/Users/Preeya/opt/anaconda3/lib/python3.9/site-packages/sklearn/linear_model/_logistic.py:1483: UserWarning: Setting penalty='none' will ignore the C and l1_ratio parameters\n",
      "  warnings.warn(\n",
      "/Users/Preeya/opt/anaconda3/lib/python3.9/site-packages/sklearn/linear_model/_logistic.py:1483: UserWarning: Setting penalty='none' will ignore the C and l1_ratio parameters\n",
      "  warnings.warn(\n",
      "/Users/Preeya/opt/anaconda3/lib/python3.9/site-packages/sklearn/linear_model/_logistic.py:1483: UserWarning: Setting penalty='none' will ignore the C and l1_ratio parameters\n",
      "  warnings.warn(\n",
      "/Users/Preeya/opt/anaconda3/lib/python3.9/site-packages/sklearn/linear_model/_logistic.py:1483: UserWarning: Setting penalty='none' will ignore the C and l1_ratio parameters\n",
      "  warnings.warn(\n",
      "/Users/Preeya/opt/anaconda3/lib/python3.9/site-packages/sklearn/linear_model/_logistic.py:1483: UserWarning: Setting penalty='none' will ignore the C and l1_ratio parameters\n",
      "  warnings.warn(\n",
      "/Users/Preeya/opt/anaconda3/lib/python3.9/site-packages/sklearn/linear_model/_logistic.py:1483: UserWarning: Setting penalty='none' will ignore the C and l1_ratio parameters\n",
      "  warnings.warn(\n",
      "/Users/Preeya/opt/anaconda3/lib/python3.9/site-packages/sklearn/linear_model/_logistic.py:1483: UserWarning: Setting penalty='none' will ignore the C and l1_ratio parameters\n",
      "  warnings.warn(\n",
      "/Users/Preeya/opt/anaconda3/lib/python3.9/site-packages/sklearn/linear_model/_logistic.py:1483: UserWarning: Setting penalty='none' will ignore the C and l1_ratio parameters\n",
      "  warnings.warn(\n",
      "/Users/Preeya/opt/anaconda3/lib/python3.9/site-packages/sklearn/linear_model/_logistic.py:1483: UserWarning: Setting penalty='none' will ignore the C and l1_ratio parameters\n",
      "  warnings.warn(\n",
      "/Users/Preeya/opt/anaconda3/lib/python3.9/site-packages/sklearn/linear_model/_logistic.py:1483: UserWarning: Setting penalty='none' will ignore the C and l1_ratio parameters\n",
      "  warnings.warn(\n",
      "/Users/Preeya/opt/anaconda3/lib/python3.9/site-packages/sklearn/linear_model/_logistic.py:1483: UserWarning: Setting penalty='none' will ignore the C and l1_ratio parameters\n",
      "  warnings.warn(\n",
      "/Users/Preeya/opt/anaconda3/lib/python3.9/site-packages/sklearn/linear_model/_logistic.py:1483: UserWarning: Setting penalty='none' will ignore the C and l1_ratio parameters\n",
      "  warnings.warn(\n",
      "/Users/Preeya/opt/anaconda3/lib/python3.9/site-packages/sklearn/linear_model/_logistic.py:1483: UserWarning: Setting penalty='none' will ignore the C and l1_ratio parameters\n",
      "  warnings.warn(\n",
      "/Users/Preeya/opt/anaconda3/lib/python3.9/site-packages/sklearn/linear_model/_logistic.py:1483: UserWarning: Setting penalty='none' will ignore the C and l1_ratio parameters\n",
      "  warnings.warn(\n",
      "/Users/Preeya/opt/anaconda3/lib/python3.9/site-packages/sklearn/linear_model/_logistic.py:1483: UserWarning: Setting penalty='none' will ignore the C and l1_ratio parameters\n",
      "  warnings.warn(\n",
      "/Users/Preeya/opt/anaconda3/lib/python3.9/site-packages/sklearn/linear_model/_logistic.py:1483: UserWarning: Setting penalty='none' will ignore the C and l1_ratio parameters\n",
      "  warnings.warn(\n",
      "/Users/Preeya/opt/anaconda3/lib/python3.9/site-packages/sklearn/linear_model/_logistic.py:1483: UserWarning: Setting penalty='none' will ignore the C and l1_ratio parameters\n",
      "  warnings.warn(\n",
      "/Users/Preeya/opt/anaconda3/lib/python3.9/site-packages/sklearn/linear_model/_logistic.py:1483: UserWarning: Setting penalty='none' will ignore the C and l1_ratio parameters\n",
      "  warnings.warn(\n",
      "/Users/Preeya/opt/anaconda3/lib/python3.9/site-packages/sklearn/linear_model/_logistic.py:1483: UserWarning: Setting penalty='none' will ignore the C and l1_ratio parameters\n",
      "  warnings.warn(\n",
      "/Users/Preeya/opt/anaconda3/lib/python3.9/site-packages/sklearn/linear_model/_logistic.py:1483: UserWarning: Setting penalty='none' will ignore the C and l1_ratio parameters\n",
      "  warnings.warn(\n",
      "/Users/Preeya/opt/anaconda3/lib/python3.9/site-packages/sklearn/linear_model/_logistic.py:1483: UserWarning: Setting penalty='none' will ignore the C and l1_ratio parameters\n",
      "  warnings.warn(\n",
      "/Users/Preeya/opt/anaconda3/lib/python3.9/site-packages/sklearn/linear_model/_logistic.py:1483: UserWarning: Setting penalty='none' will ignore the C and l1_ratio parameters\n",
      "  warnings.warn(\n",
      "/Users/Preeya/opt/anaconda3/lib/python3.9/site-packages/sklearn/linear_model/_logistic.py:1483: UserWarning: Setting penalty='none' will ignore the C and l1_ratio parameters\n",
      "  warnings.warn(\n",
      "/Users/Preeya/opt/anaconda3/lib/python3.9/site-packages/sklearn/linear_model/_logistic.py:1483: UserWarning: Setting penalty='none' will ignore the C and l1_ratio parameters\n",
      "  warnings.warn(\n"
     ]
    },
    {
     "name": "stdout",
     "output_type": "stream",
     "text": [
      "Took 14.97 seconds\n"
     ]
    },
    {
     "data": {
      "text/plain": [
       "(0.7638499999999999, {'C': 0.001, 'penalty': 'none', 'solver': 'lbfgs'})"
      ]
     },
     "execution_count": 1631,
     "metadata": {},
     "output_type": "execute_result"
    }
   ],
   "source": [
    "# Combine Parameters\n",
    "parameters = {'C': C, 'penalty': ['l2', 'none'], 'solver': ['lbfgs']}\n",
    "\n",
    "grid_search = GridSearchCV(estimator = classifier,\n",
    "                           param_grid = parameters,\n",
    "                           scoring = \"accuracy\",\n",
    "                           cv = 10,\n",
    "                           n_jobs = -1)\n",
    "\n",
    "t0 = time.time()\n",
    "grid_search = grid_search.fit(X_train, y_train)\n",
    "t1 = time.time()\n",
    "print(\"Took %0.2f seconds\" % (t1 - t0))\n",
    "\n",
    "rf_best_accuracy = grid_search.best_score_\n",
    "rf_best_parameters = grid_search.best_params_\n",
    "rf_best_accuracy, rf_best_parameters\n"
   ]
  },
  {
   "cell_type": "code",
   "execution_count": 1632,
   "id": "dc9d710e-4911-4500-9332-2a1eb8f687ef",
   "metadata": {},
   "outputs": [],
   "source": [
    "## Grid Search (Round 2)\n",
    "\n",
    "# Select Regularization Method\n",
    "penalty = ['l1', 'l2']"
   ]
  },
  {
   "cell_type": "code",
   "execution_count": 1633,
   "id": "9d0840d2-43fc-4c0c-b3ad-babb03758f2d",
   "metadata": {},
   "outputs": [],
   "source": [
    "# Create regularization hyperparameter space\n",
    "C = [0.1, 0.5, 0.9, 1, 2, 5]"
   ]
  },
  {
   "cell_type": "code",
   "execution_count": 1634,
   "id": "964262da-b14d-44f4-82f5-edaf1da586b9",
   "metadata": {},
   "outputs": [
    {
     "name": "stderr",
     "output_type": "stream",
     "text": [
      "/Users/Preeya/opt/anaconda3/lib/python3.9/site-packages/sklearn/linear_model/_logistic.py:1483: UserWarning: Setting penalty='none' will ignore the C and l1_ratio parameters\n",
      "  warnings.warn(\n",
      "/Users/Preeya/opt/anaconda3/lib/python3.9/site-packages/sklearn/linear_model/_logistic.py:1483: UserWarning: Setting penalty='none' will ignore the C and l1_ratio parameters\n",
      "  warnings.warn(\n",
      "/Users/Preeya/opt/anaconda3/lib/python3.9/site-packages/sklearn/linear_model/_logistic.py:1483: UserWarning: Setting penalty='none' will ignore the C and l1_ratio parameters\n",
      "  warnings.warn(\n",
      "/Users/Preeya/opt/anaconda3/lib/python3.9/site-packages/sklearn/linear_model/_logistic.py:1483: UserWarning: Setting penalty='none' will ignore the C and l1_ratio parameters\n",
      "  warnings.warn(\n",
      "/Users/Preeya/opt/anaconda3/lib/python3.9/site-packages/sklearn/linear_model/_logistic.py:1483: UserWarning: Setting penalty='none' will ignore the C and l1_ratio parameters\n",
      "  warnings.warn(\n",
      "/Users/Preeya/opt/anaconda3/lib/python3.9/site-packages/sklearn/linear_model/_logistic.py:1483: UserWarning: Setting penalty='none' will ignore the C and l1_ratio parameters\n",
      "  warnings.warn(\n",
      "/Users/Preeya/opt/anaconda3/lib/python3.9/site-packages/sklearn/linear_model/_logistic.py:1483: UserWarning: Setting penalty='none' will ignore the C and l1_ratio parameters\n",
      "  warnings.warn(\n",
      "/Users/Preeya/opt/anaconda3/lib/python3.9/site-packages/sklearn/linear_model/_logistic.py:1483: UserWarning: Setting penalty='none' will ignore the C and l1_ratio parameters\n",
      "  warnings.warn(\n",
      "/Users/Preeya/opt/anaconda3/lib/python3.9/site-packages/sklearn/linear_model/_logistic.py:1483: UserWarning: Setting penalty='none' will ignore the C and l1_ratio parameters\n",
      "  warnings.warn(\n",
      "/Users/Preeya/opt/anaconda3/lib/python3.9/site-packages/sklearn/linear_model/_logistic.py:1483: UserWarning: Setting penalty='none' will ignore the C and l1_ratio parameters\n",
      "  warnings.warn(\n",
      "/Users/Preeya/opt/anaconda3/lib/python3.9/site-packages/sklearn/linear_model/_logistic.py:1483: UserWarning: Setting penalty='none' will ignore the C and l1_ratio parameters\n",
      "  warnings.warn(\n",
      "/Users/Preeya/opt/anaconda3/lib/python3.9/site-packages/sklearn/linear_model/_logistic.py:1483: UserWarning: Setting penalty='none' will ignore the C and l1_ratio parameters\n",
      "  warnings.warn(\n",
      "/Users/Preeya/opt/anaconda3/lib/python3.9/site-packages/sklearn/linear_model/_logistic.py:1483: UserWarning: Setting penalty='none' will ignore the C and l1_ratio parameters\n",
      "  warnings.warn(\n",
      "/Users/Preeya/opt/anaconda3/lib/python3.9/site-packages/sklearn/linear_model/_logistic.py:1483: UserWarning: Setting penalty='none' will ignore the C and l1_ratio parameters\n",
      "  warnings.warn(\n",
      "/Users/Preeya/opt/anaconda3/lib/python3.9/site-packages/sklearn/linear_model/_logistic.py:1483: UserWarning: Setting penalty='none' will ignore the C and l1_ratio parameters\n",
      "  warnings.warn(\n",
      "/Users/Preeya/opt/anaconda3/lib/python3.9/site-packages/sklearn/linear_model/_logistic.py:1483: UserWarning: Setting penalty='none' will ignore the C and l1_ratio parameters\n",
      "  warnings.warn(\n",
      "/Users/Preeya/opt/anaconda3/lib/python3.9/site-packages/sklearn/linear_model/_logistic.py:1483: UserWarning: Setting penalty='none' will ignore the C and l1_ratio parameters\n",
      "  warnings.warn(\n",
      "/Users/Preeya/opt/anaconda3/lib/python3.9/site-packages/sklearn/linear_model/_logistic.py:1483: UserWarning: Setting penalty='none' will ignore the C and l1_ratio parameters\n",
      "  warnings.warn(\n",
      "/Users/Preeya/opt/anaconda3/lib/python3.9/site-packages/sklearn/linear_model/_logistic.py:1483: UserWarning: Setting penalty='none' will ignore the C and l1_ratio parameters\n",
      "  warnings.warn(\n",
      "/Users/Preeya/opt/anaconda3/lib/python3.9/site-packages/sklearn/linear_model/_logistic.py:1483: UserWarning: Setting penalty='none' will ignore the C and l1_ratio parameters\n",
      "  warnings.warn(\n",
      "/Users/Preeya/opt/anaconda3/lib/python3.9/site-packages/sklearn/linear_model/_logistic.py:1483: UserWarning: Setting penalty='none' will ignore the C and l1_ratio parameters\n",
      "  warnings.warn(\n",
      "/Users/Preeya/opt/anaconda3/lib/python3.9/site-packages/sklearn/linear_model/_logistic.py:1483: UserWarning: Setting penalty='none' will ignore the C and l1_ratio parameters\n",
      "  warnings.warn(\n",
      "/Users/Preeya/opt/anaconda3/lib/python3.9/site-packages/sklearn/linear_model/_logistic.py:1483: UserWarning: Setting penalty='none' will ignore the C and l1_ratio parameters\n",
      "  warnings.warn(\n",
      "/Users/Preeya/opt/anaconda3/lib/python3.9/site-packages/sklearn/linear_model/_logistic.py:1483: UserWarning: Setting penalty='none' will ignore the C and l1_ratio parameters\n",
      "  warnings.warn(\n",
      "/Users/Preeya/opt/anaconda3/lib/python3.9/site-packages/sklearn/linear_model/_logistic.py:1483: UserWarning: Setting penalty='none' will ignore the C and l1_ratio parameters\n",
      "  warnings.warn(\n",
      "/Users/Preeya/opt/anaconda3/lib/python3.9/site-packages/sklearn/linear_model/_logistic.py:1483: UserWarning: Setting penalty='none' will ignore the C and l1_ratio parameters\n",
      "  warnings.warn(\n",
      "/Users/Preeya/opt/anaconda3/lib/python3.9/site-packages/sklearn/linear_model/_logistic.py:1483: UserWarning: Setting penalty='none' will ignore the C and l1_ratio parameters\n",
      "  warnings.warn(\n",
      "/Users/Preeya/opt/anaconda3/lib/python3.9/site-packages/sklearn/linear_model/_logistic.py:1483: UserWarning: Setting penalty='none' will ignore the C and l1_ratio parameters\n",
      "  warnings.warn(\n",
      "/Users/Preeya/opt/anaconda3/lib/python3.9/site-packages/sklearn/linear_model/_logistic.py:1483: UserWarning: Setting penalty='none' will ignore the C and l1_ratio parameters\n",
      "  warnings.warn(\n",
      "/Users/Preeya/opt/anaconda3/lib/python3.9/site-packages/sklearn/linear_model/_logistic.py:1483: UserWarning: Setting penalty='none' will ignore the C and l1_ratio parameters\n",
      "  warnings.warn(\n",
      "/Users/Preeya/opt/anaconda3/lib/python3.9/site-packages/sklearn/linear_model/_logistic.py:1483: UserWarning: Setting penalty='none' will ignore the C and l1_ratio parameters\n",
      "  warnings.warn(\n",
      "/Users/Preeya/opt/anaconda3/lib/python3.9/site-packages/sklearn/linear_model/_logistic.py:1483: UserWarning: Setting penalty='none' will ignore the C and l1_ratio parameters\n",
      "  warnings.warn(\n",
      "/Users/Preeya/opt/anaconda3/lib/python3.9/site-packages/sklearn/linear_model/_logistic.py:1483: UserWarning: Setting penalty='none' will ignore the C and l1_ratio parameters\n",
      "  warnings.warn(\n",
      "/Users/Preeya/opt/anaconda3/lib/python3.9/site-packages/sklearn/linear_model/_logistic.py:1483: UserWarning: Setting penalty='none' will ignore the C and l1_ratio parameters\n",
      "  warnings.warn(\n",
      "/Users/Preeya/opt/anaconda3/lib/python3.9/site-packages/sklearn/linear_model/_logistic.py:1483: UserWarning: Setting penalty='none' will ignore the C and l1_ratio parameters\n",
      "  warnings.warn(\n",
      "/Users/Preeya/opt/anaconda3/lib/python3.9/site-packages/sklearn/linear_model/_logistic.py:1483: UserWarning: Setting penalty='none' will ignore the C and l1_ratio parameters\n",
      "  warnings.warn(\n",
      "/Users/Preeya/opt/anaconda3/lib/python3.9/site-packages/sklearn/linear_model/_logistic.py:1483: UserWarning: Setting penalty='none' will ignore the C and l1_ratio parameters\n",
      "  warnings.warn(\n",
      "/Users/Preeya/opt/anaconda3/lib/python3.9/site-packages/sklearn/linear_model/_logistic.py:1483: UserWarning: Setting penalty='none' will ignore the C and l1_ratio parameters\n",
      "  warnings.warn(\n",
      "/Users/Preeya/opt/anaconda3/lib/python3.9/site-packages/sklearn/linear_model/_logistic.py:1483: UserWarning: Setting penalty='none' will ignore the C and l1_ratio parameters\n",
      "  warnings.warn(\n",
      "/Users/Preeya/opt/anaconda3/lib/python3.9/site-packages/sklearn/linear_model/_logistic.py:1483: UserWarning: Setting penalty='none' will ignore the C and l1_ratio parameters\n",
      "  warnings.warn(\n",
      "/Users/Preeya/opt/anaconda3/lib/python3.9/site-packages/sklearn/linear_model/_logistic.py:1483: UserWarning: Setting penalty='none' will ignore the C and l1_ratio parameters\n",
      "  warnings.warn(\n",
      "/Users/Preeya/opt/anaconda3/lib/python3.9/site-packages/sklearn/linear_model/_logistic.py:1483: UserWarning: Setting penalty='none' will ignore the C and l1_ratio parameters\n",
      "  warnings.warn(\n",
      "/Users/Preeya/opt/anaconda3/lib/python3.9/site-packages/sklearn/linear_model/_logistic.py:1483: UserWarning: Setting penalty='none' will ignore the C and l1_ratio parameters\n",
      "  warnings.warn(\n",
      "/Users/Preeya/opt/anaconda3/lib/python3.9/site-packages/sklearn/linear_model/_logistic.py:1483: UserWarning: Setting penalty='none' will ignore the C and l1_ratio parameters\n",
      "  warnings.warn(\n",
      "/Users/Preeya/opt/anaconda3/lib/python3.9/site-packages/sklearn/linear_model/_logistic.py:1483: UserWarning: Setting penalty='none' will ignore the C and l1_ratio parameters\n",
      "  warnings.warn(\n",
      "/Users/Preeya/opt/anaconda3/lib/python3.9/site-packages/sklearn/linear_model/_logistic.py:1483: UserWarning: Setting penalty='none' will ignore the C and l1_ratio parameters\n",
      "  warnings.warn(\n",
      "/Users/Preeya/opt/anaconda3/lib/python3.9/site-packages/sklearn/linear_model/_logistic.py:1483: UserWarning: Setting penalty='none' will ignore the C and l1_ratio parameters\n",
      "  warnings.warn(\n",
      "/Users/Preeya/opt/anaconda3/lib/python3.9/site-packages/sklearn/linear_model/_logistic.py:1483: UserWarning: Setting penalty='none' will ignore the C and l1_ratio parameters\n",
      "  warnings.warn(\n",
      "/Users/Preeya/opt/anaconda3/lib/python3.9/site-packages/sklearn/linear_model/_logistic.py:1483: UserWarning: Setting penalty='none' will ignore the C and l1_ratio parameters\n",
      "  warnings.warn(\n",
      "/Users/Preeya/opt/anaconda3/lib/python3.9/site-packages/sklearn/linear_model/_logistic.py:1483: UserWarning: Setting penalty='none' will ignore the C and l1_ratio parameters\n",
      "  warnings.warn(\n"
     ]
    },
    {
     "name": "stdout",
     "output_type": "stream",
     "text": [
      "Took 13.23 seconds\n"
     ]
    },
    {
     "data": {
      "text/plain": [
       "0.7638499999999999"
      ]
     },
     "execution_count": 1634,
     "metadata": {},
     "output_type": "execute_result"
    }
   ],
   "source": [
    "# Combine Parameters\n",
    "parameters = {'C': C, 'penalty': ['l2', 'none'], 'solver': ['lbfgs']}\n",
    "\n",
    "grid_search = GridSearchCV(estimator = classifier,\n",
    "                           param_grid = parameters,\n",
    "                           scoring = \"accuracy\",\n",
    "                           cv = 10,\n",
    "                           n_jobs = -1)\n",
    "t0 = time.time()\n",
    "grid_search = grid_search.fit(X_train, y_train)\n",
    "t1 = time.time()\n",
    "print(\"Took %0.2f seconds\" % (t1 - t0))\n",
    "\n",
    "rf_best_accuracy = grid_search.best_score_\n",
    "rf_best_parameters = grid_search.best_params_\n",
    "rf_best_accuracy, rf_best_parameters\n",
    "grid_search.best_score_"
   ]
  },
  {
   "cell_type": "code",
   "execution_count": 1635,
   "id": "aabad487-4f3b-4bf3-89ca-225b7e9f1def",
   "metadata": {},
   "outputs": [],
   "source": [
    "# Formatting Final Results\n",
    "final_results = pd.concat([y_test, test_identifier], axis = 1).dropna()\n",
    "final_results['predicted_results'] = y_pred\n",
    "final_results = final_results[['user', 'enrolled', 'predicted_results']].reset_index(drop=True)"
   ]
  },
  {
   "cell_type": "code",
   "execution_count": 1636,
   "id": "fdb10e31-0391-4775-aefd-cdbf9dfc701a",
   "metadata": {},
   "outputs": [
    {
     "data": {
      "text/html": [
       "<div>\n",
       "<style scoped>\n",
       "    .dataframe tbody tr th:only-of-type {\n",
       "        vertical-align: middle;\n",
       "    }\n",
       "\n",
       "    .dataframe tbody tr th {\n",
       "        vertical-align: top;\n",
       "    }\n",
       "\n",
       "    .dataframe thead th {\n",
       "        text-align: right;\n",
       "    }\n",
       "</style>\n",
       "<table border=\"1\" class=\"dataframe\">\n",
       "  <thead>\n",
       "    <tr style=\"text-align: right;\">\n",
       "      <th></th>\n",
       "      <th>user</th>\n",
       "      <th>enrolled</th>\n",
       "      <th>predicted_results</th>\n",
       "    </tr>\n",
       "  </thead>\n",
       "  <tbody>\n",
       "    <tr>\n",
       "      <th>0</th>\n",
       "      <td>239786</td>\n",
       "      <td>1</td>\n",
       "      <td>1</td>\n",
       "    </tr>\n",
       "    <tr>\n",
       "      <th>1</th>\n",
       "      <td>279644</td>\n",
       "      <td>1</td>\n",
       "      <td>1</td>\n",
       "    </tr>\n",
       "    <tr>\n",
       "      <th>2</th>\n",
       "      <td>98290</td>\n",
       "      <td>0</td>\n",
       "      <td>0</td>\n",
       "    </tr>\n",
       "    <tr>\n",
       "      <th>3</th>\n",
       "      <td>170150</td>\n",
       "      <td>1</td>\n",
       "      <td>1</td>\n",
       "    </tr>\n",
       "    <tr>\n",
       "      <th>4</th>\n",
       "      <td>237568</td>\n",
       "      <td>1</td>\n",
       "      <td>1</td>\n",
       "    </tr>\n",
       "    <tr>\n",
       "      <th>...</th>\n",
       "      <td>...</td>\n",
       "      <td>...</td>\n",
       "      <td>...</td>\n",
       "    </tr>\n",
       "    <tr>\n",
       "      <th>9995</th>\n",
       "      <td>143036</td>\n",
       "      <td>1</td>\n",
       "      <td>0</td>\n",
       "    </tr>\n",
       "    <tr>\n",
       "      <th>9996</th>\n",
       "      <td>91158</td>\n",
       "      <td>1</td>\n",
       "      <td>1</td>\n",
       "    </tr>\n",
       "    <tr>\n",
       "      <th>9997</th>\n",
       "      <td>248318</td>\n",
       "      <td>0</td>\n",
       "      <td>0</td>\n",
       "    </tr>\n",
       "    <tr>\n",
       "      <th>9998</th>\n",
       "      <td>142418</td>\n",
       "      <td>1</td>\n",
       "      <td>1</td>\n",
       "    </tr>\n",
       "    <tr>\n",
       "      <th>9999</th>\n",
       "      <td>279355</td>\n",
       "      <td>1</td>\n",
       "      <td>0</td>\n",
       "    </tr>\n",
       "  </tbody>\n",
       "</table>\n",
       "<p>10000 rows × 3 columns</p>\n",
       "</div>"
      ],
      "text/plain": [
       "        user  enrolled  predicted_results\n",
       "0     239786         1                  1\n",
       "1     279644         1                  1\n",
       "2      98290         0                  0\n",
       "3     170150         1                  1\n",
       "4     237568         1                  1\n",
       "...      ...       ...                ...\n",
       "9995  143036         1                  0\n",
       "9996   91158         1                  1\n",
       "9997  248318         0                  0\n",
       "9998  142418         1                  1\n",
       "9999  279355         1                  0\n",
       "\n",
       "[10000 rows x 3 columns]"
      ]
     },
     "execution_count": 1636,
     "metadata": {},
     "output_type": "execute_result"
    }
   ],
   "source": [
    "final_results"
   ]
  },
  {
   "cell_type": "code",
   "execution_count": 1637,
   "id": "7dfb8989-2e5a-4ad9-b9d9-4b87a938f1ac",
   "metadata": {},
   "outputs": [
    {
     "data": {
      "text/plain": [
       "(10000, 3)"
      ]
     },
     "execution_count": 1637,
     "metadata": {},
     "output_type": "execute_result"
    }
   ],
   "source": [
    "final_results.shape"
   ]
  },
  {
   "cell_type": "code",
   "execution_count": 1638,
   "id": "a24b8bb8-f217-49a2-ae3d-1069b646a4b3",
   "metadata": {},
   "outputs": [
    {
     "data": {
      "text/plain": [
       "0    5087\n",
       "1    4913\n",
       "Name: enrolled, dtype: int64"
      ]
     },
     "execution_count": 1638,
     "metadata": {},
     "output_type": "execute_result"
    }
   ],
   "source": [
    "# Count the occurrences of each value in 'enrolled'\n",
    "enrolled_counts = final_results['enrolled'].value_counts()\n",
    "enrolled_counts"
   ]
  },
  {
   "cell_type": "code",
   "execution_count": 1639,
   "id": "587a4b1b-ec16-4265-b10a-36f6ea86a5d5",
   "metadata": {},
   "outputs": [
    {
     "data": {
      "text/plain": [
       "0    5017\n",
       "1    4983\n",
       "Name: predicted_results, dtype: int64"
      ]
     },
     "execution_count": 1639,
     "metadata": {},
     "output_type": "execute_result"
    }
   ],
   "source": [
    "# Count the occurrences of each value in 'enrolled'\n",
    "predicted_count = final_results['predicted_results'].value_counts()\n",
    "predicted_count"
   ]
  },
  {
   "cell_type": "code",
   "execution_count": 1640,
   "id": "df4232fd-c6b0-420c-a084-0b81083289d8",
   "metadata": {},
   "outputs": [],
   "source": [
    "# Saving the above columns as dataset in to new CSV file and we will use it for Data Pre-Processing and Model Building\n",
    "final_results.to_csv('output.csv', index = False)"
   ]
  },
  {
   "cell_type": "markdown",
   "id": "703783e0-28ae-4237-bd0b-136e926684a2",
   "metadata": {},
   "source": [
    "# Filter the Final Result"
   ]
  },
  {
   "cell_type": "markdown",
   "id": "ccb59262-7f2a-4b9d-a9d8-2f9192381e39",
   "metadata": {},
   "source": [
    "### Rows where 'enrolled' is 0 and predicted value is 1:"
   ]
  },
  {
   "cell_type": "code",
   "execution_count": 1641,
   "id": "e4d16f01-5461-482e-9f63-627be07b6f43",
   "metadata": {},
   "outputs": [
    {
     "name": "stdout",
     "output_type": "stream",
     "text": [
      "        user  enrolled  predicted_results\n",
      "14    216038         0                  1\n",
      "25    192801         0                  1\n",
      "38    178087         0                  1\n",
      "40     91037         0                  1\n",
      "43    189180         0                  1\n",
      "...      ...       ...                ...\n",
      "9977  295129         0                  1\n",
      "9979   37332         0                  1\n",
      "9981  309967         0                  1\n",
      "9984  284862         0                  1\n",
      "9994  279449         0                  1\n",
      "\n",
      "[1225 rows x 3 columns]\n"
     ]
    }
   ],
   "source": [
    "condition_1 = (final_results['enrolled'] == 0) & (final_results['predicted_results'] == 1)\n",
    "enrolled_zero_predicted_one_results = final_results[condition_1]\n",
    "print(enrolled_zero_predicted_one_results)"
   ]
  },
  {
   "cell_type": "code",
   "execution_count": 1642,
   "id": "d329ca4d-da83-4419-a9fe-c234866fadcd",
   "metadata": {},
   "outputs": [
    {
     "name": "stdout",
     "output_type": "stream",
     "text": [
      "        user  enrolled  predicted_results\n",
      "14    216038         0                  1\n",
      "25    192801         0                  1\n",
      "38    178087         0                  1\n",
      "40     91037         0                  1\n",
      "43    189180         0                  1\n",
      "...      ...       ...                ...\n",
      "9977  295129         0                  1\n",
      "9979   37332         0                  1\n",
      "9981  309967         0                  1\n",
      "9984  284862         0                  1\n",
      "9994  279449         0                  1\n",
      "\n",
      "[1225 rows x 3 columns]\n"
     ]
    }
   ],
   "source": [
    "condition_2 = (final_results['enrolled'] == 0) & (final_results['predicted_results'] == 0)\n",
    "enrolled_zero_predicted_zero_results = final_results[condition_1]\n",
    "print(enrolled_zero_predicted_zero_results)"
   ]
  },
  {
   "cell_type": "code",
   "execution_count": 1643,
   "id": "ca3be0ee-3170-4005-a223-9c4360607d05",
   "metadata": {},
   "outputs": [
    {
     "name": "stdout",
     "output_type": "stream",
     "text": [
      "        user  enrolled  predicted_results\n",
      "2      98290         0                  0\n",
      "7     363062         0                  0\n",
      "9      64484         0                  0\n",
      "11    359940         0                  0\n",
      "12    136089         0                  0\n",
      "...      ...       ...                ...\n",
      "9976  365937         0                  0\n",
      "9982   14907         0                  0\n",
      "9989  255074         0                  0\n",
      "9990  347521         0                  0\n",
      "9997  248318         0                  0\n",
      "\n",
      "[3862 rows x 3 columns]\n"
     ]
    }
   ],
   "source": [
    "condition_3 = (final_results['enrolled'] == 1) & (final_results['predicted_results'] == 0)\n",
    "enrolled_one_predicted_zero_results = final_results[condition_2]\n",
    "print(enrolled_one_predicted_zero_results)"
   ]
  },
  {
   "cell_type": "code",
   "execution_count": 1644,
   "id": "9f9a04d1-7f9f-4ada-bdcd-fa8b6e816087",
   "metadata": {},
   "outputs": [
    {
     "name": "stdout",
     "output_type": "stream",
     "text": [
      "        user  enrolled  predicted_results\n",
      "2      98290         0                  0\n",
      "7     363062         0                  0\n",
      "9      64484         0                  0\n",
      "11    359940         0                  0\n",
      "12    136089         0                  0\n",
      "...      ...       ...                ...\n",
      "9976  365937         0                  0\n",
      "9982   14907         0                  0\n",
      "9989  255074         0                  0\n",
      "9990  347521         0                  0\n",
      "9997  248318         0                  0\n",
      "\n",
      "[3862 rows x 3 columns]\n"
     ]
    }
   ],
   "source": [
    "condition_4 = (final_results['enrolled'] == 1) & (final_results['predicted_results'] == 1)\n",
    "enrolled_one_predicted_one_results = final_results[condition_2]\n",
    "print(enrolled_one_predicted_one_results)"
   ]
  },
  {
   "cell_type": "code",
   "execution_count": null,
   "id": "b32d46fd-5033-45bc-9bb2-464900c4edc0",
   "metadata": {
    "tags": []
   },
   "outputs": [],
   "source": []
  },
  {
   "cell_type": "markdown",
   "id": "e741fee1-ada9-4046-b87c-14f92be27a4a",
   "metadata": {},
   "source": [
    "# Save the Machine Learning Models"
   ]
  },
  {
   "cell_type": "code",
   "execution_count": 1645,
   "id": "088bb740-d089-4723-b0d0-00dbccaae90b",
   "metadata": {},
   "outputs": [],
   "source": [
    "# Assuming log_model is your logistic regression model\n",
    "log_model = LogisticRegression()"
   ]
  },
  {
   "cell_type": "code",
   "execution_count": 1646,
   "id": "1563b261-46b8-4737-8e35-b43e365bb18d",
   "metadata": {},
   "outputs": [],
   "source": [
    "# creating pickle files (saving the models)\n",
    "with open(\"log_reg.pkl\", \"wb\") as li:  # wb: mode write\n",
    "    pickle.dump(log_model, li)"
   ]
  },
  {
   "cell_type": "markdown",
   "id": "a9cb4022-95f4-4751-a089-623b319f0010",
   "metadata": {
    "tags": []
   },
   "source": [
    "# Random Forest Model"
   ]
  },
  {
   "cell_type": "code",
   "execution_count": 1647,
   "id": "9ef4be89-83c5-4153-bd6a-3c6a9270bbe8",
   "metadata": {},
   "outputs": [
    {
     "data": {
      "text/plain": [
       "RandomForestClassifier(random_state=0)"
      ]
     },
     "execution_count": 1647,
     "metadata": {},
     "output_type": "execute_result"
    }
   ],
   "source": [
    "from sklearn.ensemble import RandomForestClassifier\n",
    "\n",
    "# Create a Random Forest classifier\n",
    "rf_classifier = RandomForestClassifier(n_estimators=100, random_state=0)\n",
    "rf_classifier"
   ]
  },
  {
   "cell_type": "code",
   "execution_count": 1648,
   "id": "5b90c1cd-0b0c-40b5-bf03-98d6331f9d06",
   "metadata": {},
   "outputs": [
    {
     "data": {
      "text/plain": [
       "RandomForestClassifier(random_state=0)"
      ]
     },
     "execution_count": 1648,
     "metadata": {},
     "output_type": "execute_result"
    }
   ],
   "source": [
    "# Train the model\n",
    "rf_classifier.fit(X_train, y_train)"
   ]
  },
  {
   "cell_type": "code",
   "execution_count": 1649,
   "id": "d694f58b-28b5-4fa5-b971-01412ef0773f",
   "metadata": {},
   "outputs": [
    {
     "data": {
      "text/plain": [
       "array([1, 1, 0, ..., 0, 1, 1])"
      ]
     },
     "execution_count": 1649,
     "metadata": {},
     "output_type": "execute_result"
    }
   ],
   "source": [
    "# Make predictions\n",
    "rf_y_pred = rf_classifier.predict(X_test)\n",
    "rf_y_pred"
   ]
  },
  {
   "cell_type": "code",
   "execution_count": 1650,
   "id": "8adfb80a-adc1-48ce-a26b-1f439bf4117d",
   "metadata": {},
   "outputs": [
    {
     "data": {
      "text/plain": [
       "0.7741"
      ]
     },
     "execution_count": 1650,
     "metadata": {},
     "output_type": "execute_result"
    }
   ],
   "source": [
    "# Evaluate the performance\n",
    "rf_accuracy = accuracy_score(y_test, rf_y_pred)\n",
    "rf_accuracy"
   ]
  },
  {
   "cell_type": "code",
   "execution_count": 1658,
   "id": "4aded5df-ae9d-41c9-8366-3887182ff418",
   "metadata": {},
   "outputs": [
    {
     "data": {
      "text/plain": [
       "0.754164158137668"
      ]
     },
     "execution_count": 1658,
     "metadata": {},
     "output_type": "execute_result"
    }
   ],
   "source": [
    "precision_score(y_test, y_pred) # tp / (tp + fp)"
   ]
  },
  {
   "cell_type": "code",
   "execution_count": 1659,
   "id": "d1e33de6-4c64-40ac-a511-48fd5149cee7",
   "metadata": {},
   "outputs": [
    {
     "data": {
      "text/plain": [
       "0.7649094239772033"
      ]
     },
     "execution_count": 1659,
     "metadata": {},
     "output_type": "execute_result"
    }
   ],
   "source": [
    "recall_score(y_test, y_pred) # tp / (tp + fn)"
   ]
  },
  {
   "cell_type": "code",
   "execution_count": 1660,
   "id": "7c4da4eb-54b3-4635-bd5d-c664e74194e3",
   "metadata": {},
   "outputs": [
    {
     "data": {
      "text/plain": [
       "0.759498787388844"
      ]
     },
     "execution_count": 1660,
     "metadata": {},
     "output_type": "execute_result"
    }
   ],
   "source": [
    "f1_score(y_test, y_pred)"
   ]
  },
  {
   "cell_type": "markdown",
   "id": "2afd258c-042a-4ffd-b676-c65c4590dd6c",
   "metadata": {},
   "source": [
    "# XGBoost Classifier"
   ]
  },
  {
   "cell_type": "code",
   "execution_count": 1651,
   "id": "b49fcf0c-2a40-4aef-8d05-19cf1482001b",
   "metadata": {},
   "outputs": [
    {
     "data": {
      "text/plain": [
       "0.7838"
      ]
     },
     "execution_count": 1651,
     "metadata": {},
     "output_type": "execute_result"
    }
   ],
   "source": [
    "from xgboost import XGBClassifier\n",
    "xgb_model = XGBClassifier()\n",
    "xgb_model.fit(X_train, y_train)\n",
    "y_pred_xgb = xgb_model.predict(X_test)\n",
    "accuracy_score(y_test, y_pred_xgb)"
   ]
  },
  {
   "cell_type": "code",
   "execution_count": 1653,
   "id": "e982f6b6-0f80-4c4c-a21c-7427d8877c17",
   "metadata": {},
   "outputs": [
    {
     "data": {
      "text/plain": [
       "array([1, 1, 0, ..., 0, 1, 0])"
      ]
     },
     "execution_count": 1653,
     "metadata": {},
     "output_type": "execute_result"
    }
   ],
   "source": [
    "y_pred_xgb = xgb_model.predict(X_test)\n",
    "y_pred_xgb"
   ]
  },
  {
   "cell_type": "code",
   "execution_count": 1654,
   "id": "c8ba1f08-84c2-401f-9e6f-5bdd2cf17a74",
   "metadata": {},
   "outputs": [
    {
     "data": {
      "text/plain": [
       "0.7838"
      ]
     },
     "execution_count": 1654,
     "metadata": {},
     "output_type": "execute_result"
    }
   ],
   "source": [
    "accuracy_score(y_test, y_pred_xgb)"
   ]
  },
  {
   "cell_type": "code",
   "execution_count": 1655,
   "id": "5ded9486-c1a3-4cd8-8035-908e7829c488",
   "metadata": {},
   "outputs": [
    {
     "data": {
      "text/plain": [
       "0.754164158137668"
      ]
     },
     "execution_count": 1655,
     "metadata": {},
     "output_type": "execute_result"
    }
   ],
   "source": [
    "precision_score(y_test, y_pred) # tp / (tp + fp)"
   ]
  },
  {
   "cell_type": "code",
   "execution_count": 1656,
   "id": "1576a871-2db7-4fd8-bb4a-72c6d58fa74d",
   "metadata": {},
   "outputs": [
    {
     "data": {
      "text/plain": [
       "0.7649094239772033"
      ]
     },
     "execution_count": 1656,
     "metadata": {},
     "output_type": "execute_result"
    }
   ],
   "source": [
    "recall_score(y_test, y_pred) # tp / (tp + fn)"
   ]
  },
  {
   "cell_type": "code",
   "execution_count": 1657,
   "id": "23fd03ef-bec5-4100-82b3-eef706a64c81",
   "metadata": {},
   "outputs": [
    {
     "data": {
      "text/plain": [
       "0.759498787388844"
      ]
     },
     "execution_count": 1657,
     "metadata": {},
     "output_type": "execute_result"
    }
   ],
   "source": [
    "f1_score(y_test, y_pred)"
   ]
  },
  {
   "cell_type": "code",
   "execution_count": null,
   "id": "e3fc9408-2d26-4dca-9c80-dfb94610ef8c",
   "metadata": {},
   "outputs": [],
   "source": []
  },
  {
   "cell_type": "code",
   "execution_count": null,
   "id": "175d679a-769c-48e1-94b7-5ebf50c4e882",
   "metadata": {},
   "outputs": [],
   "source": []
  },
  {
   "cell_type": "code",
   "execution_count": null,
   "id": "79d1936c-73c2-42c6-b3ce-21eb568d8da2",
   "metadata": {},
   "outputs": [],
   "source": []
  },
  {
   "cell_type": "code",
   "execution_count": null,
   "id": "678b6677-4eaa-4756-865c-632fdf35ec41",
   "metadata": {},
   "outputs": [],
   "source": []
  },
  {
   "cell_type": "code",
   "execution_count": null,
   "id": "312d1a74-0289-44e6-b0ed-1b1f914e4dcc",
   "metadata": {},
   "outputs": [],
   "source": []
  }
 ],
 "metadata": {
  "kernelspec": {
   "display_name": "Python 3 (ipykernel)",
   "language": "python",
   "name": "python3"
  },
  "language_info": {
   "codemirror_mode": {
    "name": "ipython",
    "version": 3
   },
   "file_extension": ".py",
   "mimetype": "text/x-python",
   "name": "python",
   "nbconvert_exporter": "python",
   "pygments_lexer": "ipython3",
   "version": "3.9.13"
  }
 },
 "nbformat": 4,
 "nbformat_minor": 5
}
